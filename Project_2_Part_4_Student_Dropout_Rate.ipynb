{
  "nbformat": 4,
  "nbformat_minor": 0,
  "metadata": {
    "colab": {
      "provenance": [],
      "toc_visible": true,
      "collapsed_sections": [
        "KR8TLAPihpAq"
      ],
      "authorship_tag": "ABX9TyMgLPjOafj/kJCZlLOrJSz0",
      "include_colab_link": true
    },
    "kernelspec": {
      "name": "python3",
      "display_name": "Python 3"
    },
    "language_info": {
      "name": "python"
    }
  },
  "cells": [
    {
      "cell_type": "markdown",
      "metadata": {
        "id": "view-in-github",
        "colab_type": "text"
      },
      "source": [
        "<a href=\"https://colab.research.google.com/github/jonmessier/Project-2/blob/main/Project_2_Part_4_Student_Dropout_Rate.ipynb\" target=\"_parent\"><img src=\"https://colab.research.google.com/assets/colab-badge.svg\" alt=\"Open In Colab\"/></a>"
      ]
    },
    {
      "cell_type": "markdown",
      "source": [
        "#Intro\n",
        "Jon Messier\\\n",
        "1/10/23\n",
        "\n"
      ],
      "metadata": {
        "id": "uVy66_j_2yE7"
      }
    },
    {
      "cell_type": "markdown",
      "source": [
        "##Assignment 1\n",
        "Your second project is going to have a lot more freedom than your first project. This is because we want you to have a project in your portfolio that interests you or relates to the industry you would like to work in.\n",
        "\n",
        "Your task for this week is to propose two possible datasets you would like to work with for Project 2.\n",
        "\n",
        "You will choose your first choice data set, and a backup data set in case the first proposed data set is not approved.\n",
        "\n",
        "This data can be from any source and can be on any topic with these limitations:\n",
        "- the data must be available for use (it is your responsibility to ensure that the license states that you are able to use it.)\n",
        "- the data must be appropriate for a professional environment\n",
        "- the data must not contain personal information\n",
        "- the data must not be a dataset used for any assignment, lecture, or task from the course\n",
        "- the data must not be a time series dataset. You will be able to identify these because each row will represent a moment in time. These kinds of datasets follow special rules and are not appropriate for the kind of machine learning you have learned in this stack.\n",
        "\n",
        "Make sure you select a dataset that will be reasonable to work with in the amount of time we have left. Think about what questions you could reasonably answer with the dataset you select.\n",
        "\n",
        "You must propose two datasets that each have a supervised learning component. You may choose a regression or classification problem for each proposed data set.\n",
        "\n",
        "- [x] The dataset you choose must be approved by the instructor.\n",
        " - Dataset selected - Student Dropout rate"
      ],
      "metadata": {
        "id": "vLs8HVGUhemJ"
      }
    },
    {
      "cell_type": "markdown",
      "source": [
        "##Assignment 2\n",
        "Using the approved dataset you proposed for project 2 part 1 last week, you will clean and explore the data set.\n",
        "\n",
        "To meet the requirements for this week you must have:\n",
        "\n",
        "- [x] Deleted unnecessary columns.\n",
        "- [x] Deleted duplicate rows.\n",
        "- [x] Identified and addressed missing values.\n",
        "- [x] Identified and corrected inconsistencies in data for categorical values (i.e. Cat, cat, cats).\n",
        "- [x] Produced univariate visuals for the target and all features.\n",
        "- [ ] Identified outliers.\n",
        "- [ ] Clearly commented all of your cleaning steps and described any decisions you made.\n",
        "\n",
        "Commit your file to your Github repository and submit the link below."
      ],
      "metadata": {
        "id": "vzceebJVhrY4"
      }
    },
    {
      "cell_type": "markdown",
      "source": [
        "##Assignment 3\n",
        "Note: You are not clustering your data for this assignment.\n",
        "\n",
        "For this part of the project, you will continue your data exploration by:\n",
        "- [x] Identifying any moderate or strong correlations between your target and your features and/or between one feature and another using a correlation heatmap. \n",
        "- [x] Creating multivariate (multiple variables) exploratory visualizations to further understand your data and search for trends.\n",
        "- [ ] Then, choose two visualizations from your analysis that demonstrate key trends you found that will be of interest to a stakeholder. These visuals should be reporting quality with titles, labels, and a short explanation of the trend. Be sure to explain in a text cell the finding associated with each visual. Both of these visualizations should be easily understood by a non-technical audience (Neither should be histograms, boxplots, or correlation plots). \n",
        "\n",
        "Please submit the link to your GitHub Repository."
      ],
      "metadata": {
        "id": "iLW8qFPKmZfc"
      }
    },
    {
      "cell_type": "markdown",
      "source": [
        "## Assignment 4\n",
        "You are now entering into the model development phase of the project!\n",
        "\n",
        "- [x]    Ensure that you complete the appropriate pre-processing steps.\n",
        "- [x]    Try multiple models and tune the hyperparameters of each model to optimize model performance (include all models and hyperparameters tested in addition to the final model).\n",
        "- [ ]    Perform PCA or another feature engineering technique on your dataset to see how this impacts your results. (We encourage you to try multiple techniques depending on your data!).\n",
        "- [ ]    Evaluate model performance with appropriate metrics for the model.\n",
        "- [ ]    Choose your \"production\" model and justify this decision.\n",
        "- [ ]    Go back through your code and ensure that you have provided clear comments (remember this is for your portfolio!).\n",
        "- [ ]    Update your project readme and describe your final model, your final model evaluation metrics, and explain whether or not your model would be useful in production and if so, how it should be used.\n",
        "- [ ]    Commit your code to GitHub.\n",
        "\n",
        "Submit the link to your GitHub repository."
      ],
      "metadata": {
        "id": "FLyoiKqiN7FP"
      }
    },
    {
      "cell_type": "markdown",
      "source": [
        "#Class Import"
      ],
      "metadata": {
        "id": "KPX9XHZD3nUM"
      }
    },
    {
      "cell_type": "code",
      "source": [
        "import numpy as np\n",
        "import pandas as pd\n",
        "import matplotlib.pyplot as plt\n",
        "import seaborn as sns\n",
        "\n",
        "pd.set_option('max_columns', None)\n",
        "\n",
        "from sklearn.model_selection import train_test_split, GridSearchCV\n",
        "\n",
        "from sklearn.preprocessing import StandardScaler, OneHotEncoder, OrdinalEncoder\n",
        "\n",
        "#Pipelines/Selectors\n",
        "from sklearn.compose import make_column_selector, make_column_transformer\n",
        "from sklearn.pipeline import make_pipeline\n",
        "#display as diagrams\n",
        "from sklearn import set_config\n",
        "set_config(display='diagram')\n",
        "\n",
        "#Import Prinicpal component analysis\n",
        "from sklearn.decomposition import PCA\n",
        "\n",
        "# Import SMOTE\n",
        "from imblearn.over_sampling import SMOTE\n",
        "# Import special pipeline for smote\n",
        "from imblearn.pipeline import make_pipeline as smote_pipe\n",
        "\n",
        "# Classification Metrics\n",
        "from sklearn.metrics import accuracy_score, recall_score, precision_score, \\\n",
        "f1_score, classification_report, confusion_matrix, ConfusionMatrixDisplay, \\\n",
        "RocCurveDisplay\n",
        "\n",
        "# Import RandomOverSampling RandomUnderSampling and sampler pipelines\n",
        "from imblearn.pipeline import make_pipeline as make_sampler_pipeline\n",
        "from imblearn.over_sampling import RandomOverSampler\n",
        "from imblearn.under_sampling import RandomUnderSampler\n",
        "\n",
        "# Models\n",
        "from sklearn.ensemble import RandomForestClassifier\n",
        "from sklearn.neighbors import KNeighborsClassifier"
      ],
      "metadata": {
        "id": "jn2uHqED3mqy"
      },
      "execution_count": 1,
      "outputs": []
    },
    {
      "cell_type": "markdown",
      "source": [
        "#Custom Functions"
      ],
      "metadata": {
        "id": "EBLDOlEwJq6i"
      }
    },
    {
      "cell_type": "markdown",
      "source": [
        "##`df_inspect`"
      ],
      "metadata": {
        "id": "W8kd1DvHJuBg"
      }
    },
    {
      "cell_type": "code",
      "source": [
        "#Define an inspection function to report for duplicates, and Nan values\n",
        "#remove duplicates and output list of nan counts and total\n",
        "def df_inspect(df):\n",
        "  print('-----'*5)\n",
        "  if df.duplicated().sum() >>0:\n",
        "    print(f'The total number of duplicates are : {df.duplicated().sum()}\\n')\n",
        "    df.drop_duplicates(inplace=True)\n",
        "    print('All duplicate entries have been removed.\\n')\n",
        "  print(f'There are no duplicate entries.')\n",
        "  print('-----'*5)\n",
        "  print('\\n')  \n",
        "  \n",
        "  #Nan values\n",
        "  print('-----'*5)\n",
        "  print(f'The total number of NaN-values is:{df.isna().sum().sum()}')\n",
        "  if df.isna().sum().sum() >0:\n",
        "   print('- - -'*5)\n",
        "   print('Missing/NaN values will have to be addressed in our visual analysis and data modeling.')\n",
        "   print(f'The sum of NaN-values in each column:')\n",
        "   print(df.isna().sum())\n",
        "  else:\n",
        "   print('There are no missing values, and will not need to be adressed in our analysis.')\n",
        "  print('-----'*5)\n",
        "  print('\\n')  \n",
        "  #shape\n",
        "  print('-----'*5)\n",
        "  print(f'There are {df.shape[0]} rows, and {df.shape[1]} columns.')\n",
        "  print(f'The rows represent {df.shape[0]} observations, and the columns represent {df.shape[1]-1} features and 1 target variable.')\n",
        "  print('-----'*5)\n",
        "  print('\\n')   \n",
        "  #datatypes - compare to data dictionary\n",
        "  print('-----'*5)\n",
        "  print(\"Compare the following datatypes to the Data Dictionary\")\n",
        "  print('- - - '*5)\n",
        "  print(df.dtypes)\n",
        "  print('-----'*5)\n",
        "  print('\\n')"
      ],
      "metadata": {
        "id": "Iqvl2_qYJwfP"
      },
      "execution_count": 2,
      "outputs": []
    },
    {
      "cell_type": "markdown",
      "source": [
        "##`plot_charts`"
      ],
      "metadata": {
        "id": "QrOMSghDt4Qa"
      }
    },
    {
      "cell_type": "code",
      "source": [
        "def plot_charts(df, col, boxplot = False):\n",
        " if boxplot:\n",
        "  ## make the figure and axes sharing the same x-axis\n",
        "  fig, axes = plt.subplots(nrows=2, figsize=(10,3), sharex=True)\n",
        "\n",
        "  ## Use seaborn plots with ax=axes[i]\n",
        "  #Histogram axes[0]\n",
        "  sns.histplot(data=df,x = col,ax = axes[0])\n",
        "  #add the mean to the histogram\n",
        "  mean_value = df[col].mean()\n",
        "  axes[0].axvline(mean_value,color='red', ls='--', \n",
        "            label=f\"Mean Value = ${mean_value:,.2f}\",);\n",
        "  #add the median to the histogram\n",
        "  med_value = df[col].median()\n",
        "  axes[0].axvline(med_value,color='black', ls='--', \n",
        "            label=f\"Median Value = ${med_value:,.2f}\");\n",
        "\n",
        "  #boxplot -- axes[1]\n",
        "  sns.boxplot(data=df, x = col, ax = axes[1])\n",
        "\n",
        "  ## Updating title of top graph \n",
        "  axes[0].set_title(f'Histogram and Box plot for {col}')\n",
        "\n",
        "# Turn off the comparitive boxplot  \n",
        " else:\n",
        "   fig, axes = plt.subplots(figsize=(5,5))\n",
        "   plt.xticks(rotation=45)\n",
        "   #hist = sns.histplot(data=df,x=col, ax=axes,binwidth=1)\n",
        "   bp=sns.barplot(data = df, \n",
        "            x = df[col].value_counts().sort_values(ascending=False),\n",
        "            y = df[col].value_counts().sort_values(ascending=False).index,\n",
        "            order = df[col].value_counts().sort_values(ascending=False).index,\n",
        "            orient='h',\n",
        "            label = 'test' );\n",
        "   axes.set(xlabel='Count of '+col, ylabel=col)\n",
        "  \n",
        "\n",
        " ## Fixing any overlapping labels and showing\n",
        " plt.tight_layout()\n",
        " plt.show()"
      ],
      "metadata": {
        "id": "X_cTWelPt3ck"
      },
      "execution_count": 3,
      "outputs": []
    },
    {
      "cell_type": "markdown",
      "source": [
        "##`eval_sampling` \n",
        "Use to see the effects of Under-/Over- and SMOTE balancing of the dataset"
      ],
      "metadata": {
        "id": "WCjFepfRpoN5"
      }
    },
    {
      "cell_type": "code",
      "source": [
        "def eval_sampling(model,title, X_train, X_test, y_train, y_test):\n",
        "  #Base model\n",
        "  model_pipe = make_pipeline(scaler, model)\n",
        "  base_fit = model.fit(X_train, y_train)\n",
        "  base_preds = base_fit.predict(X_test)\n",
        "  \n",
        "  #Undersampling\n",
        "  model_pipe_under = make_sampler_pipeline(scaler, under_sampler, model);\n",
        "  under_fit = model_pipe_under.fit(X_train, y_train);\n",
        "  under_preds = under_fit.predict(X_test);\n",
        "\n",
        "  #Oversampling\n",
        "  model_pipe_over = make_sampler_pipeline(scaler, over_sampler, model);\n",
        "  over_fit = model_pipe_over.fit(X_train, y_train);\n",
        "  over_preds = over_fit.predict(X_test);\n",
        "\n",
        "  #SMOTE\n",
        "  model_pipe_smote = make_sampler_pipeline(scaler, smote, model);\n",
        "  smote_fit = model_pipe_smote.fit(X_train, y_train);\n",
        "  smote_preds = smote_fit.predict(X_test);\n",
        "\n",
        "  print('-----'*5)\n",
        "  print(f'Comparison of Under-, Over-, and SMOTE class balancing methods for Model:{title}')\n",
        "  print('-----'*5)\n",
        "  print('Base')\n",
        "  print('- - - '*5)\n",
        "  print(classification_report(y_test, base_preds))\n",
        "  disp = ConfusionMatrixDisplay.from_predictions(y_test, base_preds,normalize='true',cmap='Blues');\n",
        "  disp.plot()\n",
        "  disp.ax_.set_title('Base Model')\n",
        "  print('- - - '*5)\n",
        "  print('Undersampling')\n",
        "  print('- - - '*5)\n",
        "  print(classification_report(y_test, under_preds))\n",
        "  disp = ConfusionMatrixDisplay.from_predictions(y_test, under_preds,normalize='true',cmap='Blues');\n",
        "  disp.plot()\n",
        "  disp.ax_.set_title('Undersampling')\n",
        "  print('- - - '*5)\n",
        "  print('Oversampling')\n",
        "  print('- - - '*5)\n",
        "  print(classification_report(y_test, over_preds))\n",
        "  disp = ConfusionMatrixDisplay.from_predictions(y_test, over_preds,normalize='true',cmap='Blues');\n",
        "  disp.plot()\n",
        "  disp.ax_.set_title('Oversampling')\n",
        "  print('- - - '*5)\n",
        "  print('SMOTE')\n",
        "  print('- - - '*5)\n",
        "  print(classification_report(y_test, smote_preds))\n",
        "  disp = ConfusionMatrixDisplay.from_predictions(y_test, smote_preds,normalize='true',cmap='Blues');\n",
        "  disp.plot()\n",
        "  disp.ax_.set_title('SMOTE')"
      ],
      "metadata": {
        "id": "Yy0eFvgxG8ui"
      },
      "execution_count": 4,
      "outputs": []
    },
    {
      "cell_type": "markdown",
      "source": [
        "#Problem Statement\n",
        "## Predict students' dropout and academic success\n",
        "Overview found [HERE](https://archive-beta.ics.uci.edu/dataset/697/predict+students+dropout+and+academic+success)\n",
        "\n",
        "A dataset created from a higher education institution (acquired from several disjoint databases) related to students enrolled in different undergraduate degrees, such as agronomy, design, education, nursing, journalism, management, social service, and technologies. The dataset includes information known at the time of student enrollment (academic path, demographics, and social-economic factors) and the students' academic performance at the end of the first and second semesters. The data is used to build classification models to predict students' dropout and academic sucess. The problem is formulated as a three category classification task, in which there is a strong imbalance towards one of the classes.\n",
        "\n",
        "- **For what purpose was the dataset created?**  The dataset was created in a project that aims to contribute to the reduction of academic dropout and failure in higher education, by using machine learning techniques to identify students at risk at an early stage of their academic path, so that strategies to support them can be put into place. The dataset includes information known at the time of student enrollment – academic path, demographics, and social-economic factors. The problem is formulated as a three category classification task (dropout, enrolled, and graduate) at the end of the normal duration of the course.\n",
        "\n",
        "- **Who funded the creation of the dataset?**  This dataset is supported by program SATDAP - Capacitação da Administração Pública under grant POCI-05-5762-FSE-000191, Portugal.\n",
        "\n",
        "- **Are there recommended data splits?**  The dataset was used, in out project, with a data split of 80% for training and 20% for test.\n",
        "\n",
        "- **Was there any data preprocessing performed?** We performed a rigorous data preprocessing to handle data from anomalies, unexplainable outliers, and missing values.\n",
        "\n",
        "- **Has the dataset been used for any tasks already?**  The dataset was used in a pilot project to provide the tutoring team at our higher education institution with an estimate of the risk of dropout and failure. With this information, the tutoring team provides more accurate help to students.\n",
        "\n",
        "- **Citation Requests/Acknowledgements:**  If you use this dataset in experiments for a scientific publication, please kindly cite our paper: M.V.Martins, D. Tolledo, J. Machado, L. M.T. Baptista, V.Realinho. (2021) \"Early prediction of student’s performance in higher education: a case study\" Trends and Applications in Information Systems and Technologies, vol.1, in Advances in Intelligent Systems and Computing series. Springer. DOI: 10.1007/978-3-030-72657-7_16\n",
        "\n",
        "- License: This dataset is licensed under a Creative Commons Attribution 4.0 International (CC BY 4.0) license. This allows for the sharing and adaptation of the datasets for any purpose, provided that the appropriate credit is given."
      ],
      "metadata": {
        "id": "08v7PE8cGCX7"
      }
    },
    {
      "cell_type": "markdown",
      "source": [
        "##Data Dictionary\n",
        "- [x] Need to fix this to wrap the text.... or something else.  Suggestions?!\n",
        "- [ ] Create a python dictionary for each of the categories.  If we need to use the unencoded value in our analysis "
      ],
      "metadata": {
        "id": "V4tCfwdbEjrn"
      }
    },
    {
      "cell_type": "markdown",
      "source": [
        "<table>\n",
        "<thead><tr><th>Attribute Name</th><th>Role</th><th>Type</th><th>Description</th><th>Units</th><th>Missing Values</th></tr></thead> <tbody><tr><td>Marital status</td><td>Feature</td><td>Discrete</td><td>1 – single 2 – married 3 – widower 4 – divorced 5 – facto union <br>6 – legally separated</td><td>1</td><td>false</td> </tr><tr><td>Application mode</td><td>Feature</td><td>Discrete</td><td>1 - 1st phase - general contingent <br>2 - Ordinance No. 612/93 <br>5 - 1st phase - special contingent (Azores Island) <br>7 - Holders of other higher courses <br>10 - Ordinance No. 854-B/99 <br>15 - International student (bachelor) <br>16 - 1st phase - special contingent (Madeira Island) <br>17 - 2nd phase - general contingent <br>18 - 3rd phase - general contingent <br>26 - Ordinance No. 533-A/99, item b2) (Different Plan) <br>27 - Ordinance No. 533-A/99, item b3 (Other Institution) <br>39 - Over 23 years old <br>42 - Transfer <br>43 - Change of course <br>44 - Technological specialization diploma holders <br>51 - Change of institution/course <br>53 - Short cycle diploma holders <br>57 - Change of institution/course (International)</td><td></td><td>false</td> </tr><tr><td>Application order</td><td>Feature</td><td>Discrete</td><td>Application order (between 0 - first choice; and 9 last choice)</td><td></td><td>false</td> </tr><tr><td>Course</td><td>Feature</td><td>Discrete</td><td>33 - Biofuel Production Technologies <br>171 - Animation and Multimedia Design <br>8014 - Social Service (evening attendance) <br>9003 - Agronomy <br>9070 - Communication Design <br>9085 - Veterinary Nursing <br>9119 - Informatics Engineering <br>9130 - Equinculture <br>9147 - Management <br>9238 - Social Service <br>9254 - Tourism <br>9500 - Nursing <br>9556 - Oral Hygiene <br>9670 - Advertising and Marketing Management <br>9773 - Journalism and Communication <br>9853 - Basic Education <br>9991 - Management (evening attendance)</td><td></td><td>false</td> </tr><tr><td>Daytime/evening attendance\t</td><td>Feature</td><td>Discrete</td><td>1 – daytime <br>0 - evening</td><td></td><td>false</td> </tr><tr><td>Previous qualification</td><td>Feature</td><td>Discrete</td><td>1 - Secondary education <br>2 - Higher education - bachelor's degree <br>3 - Higher education - degree <br>4 - Higher education - master's <br>5 - Higher education - doctorate <br>6 - Frequency of higher education <br>9 - 12th year of schooling - not completed <br>10 - 11th year of schooling - not completed <br>12 - Other - 11th year of schooling <br>14 - 10th year of schooling <br>15 - 10th year of schooling - not completed <br>19 - Basic education 3rd cycle (9th/10th/11th year) or equiv. <br>38 - Basic education 2nd cycle (6th/7th/8th year) or equiv. <br>39 - Technological specialization course <br>40 - Higher education - degree (1st cycle) <br>42 - Professional higher technical course <br>43 - Higher education - master (2nd cycle)</td><td></td><td>false</td> </tr><tr><td>Previous qualification (grade)</td><td>Feature</td><td>Continuous</td><td>Grade of previous qualification (between 0 and 200)</td><td></td><td>false</td> </tr><tr><td>Nacionality</td><td>Feature</td><td>Discrete</td><td>1 - Portuguese; <br>2 - German; <br>6 - Spanish; <br>11 - Italian; <br>13 - Dutch; <br>14 - English; <br>17 - Lithuanian; <br>21 - Angolan; <br>22 - Cape Verdean; <br>24 - Guinean; <br>25 - Mozambican; <br>26 - Santomean; <br>32 - Turkish; <br>41 - Brazilian; <br>62 - Romanian; <br>100 - Moldova (Republic of); <br>101 - Mexican; <br>103 - Ukrainian; <br>105 - Russian; <br>108 - Cuban; <br>109 - Colombian</td><td></td><td>false</td> </tr><tr><td>Mother's qualification</td><td>Feature</td><td>Discrete</td><td>1 - Secondary Education - 12th Year of Schooling or Eq. <br>2 - Higher Education - Bachelor's Degree <br>3 - Higher Education - Degree <br>4 - Higher Education - Master's <br>5 - Higher Education - Doctorate <br>6 - Frequency of Higher Education <br>9 - 12th Year of Schooling - Not Completed <br>10 - 11th Year of Schooling - Not Completed <br>11 - 7th Year (Old) <br>12 - Other - 11th Year of Schooling <br>14 - 10th Year of Schooling <br>18 - General commerce course <br>19 - Basic Education 3rd Cycle (9th/10th/11th Year) or Equiv. <br>22 - Technical-professional course <br>26 - 7th year of schooling <br>27 - 2nd cycle of the general high school course <br>29 - 9th Year of Schooling - Not Completed <br>30 - 8th year of schooling <br>34 - Unknown <br>35 - Can't read or write <br>36 - Can read without having a 4th year of schooling <br>37 - Basic education 1st cycle (4th/5th year) or equiv. <br>38 - Basic Education 2nd Cycle (6th/7th/8th Year) or Equiv. <br>39 - Technological specialization course <br>40 - Higher education - degree (1st cycle) <br>41 - Specialized higher studies course <br>42 - Professional higher technical course <br>43 - Higher Education - Master (2nd cycle) <br>44 - Higher Education - Doctorate (3rd cycle)</td><td></td><td>false</td> </tr><tr><td>Father's qualification</td><td>Feature</td><td>Discrete</td><td>1 - Secondary Education - 12th Year of Schooling or Eq. <br>2 - Higher Education - Bachelor's Degree <br>3 - Higher Education - Degree <br>4 - Higher Education - Master's <br>5 - Higher Education - Doctorate <br>6 - Frequency of Higher Education <br>9 - 12th Year of Schooling - Not Completed <br>10 - 11th Year of Schooling - Not Completed <br>11 - 7th Year (Old) <br>12 - Other - 11th Year of Schooling <br>13 - 2nd year complementary high school course <br>14 - 10th Year of Schooling 18 - General commerce course <br>19 - Basic Education 3rd Cycle (9th/10th/11th Year) or Equiv. <br>20 - Complementary High School Course <br>22 - Technical-professional course <br>25 - Complementary High School Course - not concluded <br>26 - 7th year of schooling <br>27 - 2nd cycle of the general high school course <br>29 - 9th Year of Schooling - Not Completed <br>30 - 8th year of schooling <br>31 - General Course of Administration and Commerce <br>33 - Supplementary Accounting and Administration <br>34 - Unknown <br>35 - Can't read or write <br>36 - Can read without having a 4th year of schooling <br>37 - Basic education 1st cycle (4th/5th year) or equiv. <br>38 - Basic Education 2nd Cycle (6th/7th/8th Year) or Equiv. <br>39 - Technological specialization course <br>40 - Higher education - degree (1st cycle) <br>41 - Specialized higher studies course <br>42 - Professional higher technical course <br>43 - Higher Education - Master (2nd cycle) <br>44 - Higher Education - Doctorate (3rd cycle)</td><td></td><td>false</td> </tr><tr><td>Mother's occupation</td><td>Feature</td><td>Discrete</td><td>0 - Student <br>1 - Representatives of the Legislative Power and Executive Bodies, Directors, Directors and Executive Managers <br>2 - Specialists in Intellectual and Scientific Activities <br>3 - Intermediate Level Technicians and Professions <br>4 - Administrative staff <br>5 - Personal Services, Security and Safety Workers and Sellers <br>6 - Farmers and Skilled Workers in Agriculture, Fisheries and Forestry <br>7 - Skilled Workers in Industry, Construction and Craftsmen <br>8 - Installation and Machine Operators and Assembly Workers <br>9 - Unskilled Workers <br>10 - Armed Forces Professions <br>90 - Other Situation <br>99 - (blank) <br>122 - Health professionals <br>123 - teachers <br>125 - Specialists in information and communication technologies (ICT) <br>131 - Intermediate level science and engineering technicians and professions <br>132 - Technicians and professionals, of intermediate level of health <br>134 - Intermediate level technicians from legal, social, sports, cultural and similar services <br>141 - Office workers, secretaries in general and data processing operators <br>143 - Data, accounting, statistical, financial services and registry-related operators <br>144 - Other administrative support staff <br>151 - personal service workers <br>152 - sellers <br>153 - Personal care workers and the like <br>171 - Skilled construction workers and the like, except electricians <br>173 - Skilled workers in printing, precision instrument manufacturing, jewelers, artisans and the like <br>175 - Workers in food processing, woodworking, clothing and other industries and crafts <br>191 - cleaning workers <br>192 - Unskilled workers in agriculture, animal production, fisheries and forestry <br>193 - Unskilled workers in extractive industry, construction, manufacturing and transport <br>194 - Meal preparation assistants</td><td></td><td>false</td> </tr><tr><td>Father's occupation</td><td>Feature</td><td>Discrete</td><td>0 - Student <br>1 - Representatives of the Legislative Power and Executive Bodies, Directors, Directors and Executive Managers <br>2 - Specialists in Intellectual and Scientific Activities <br>3 - Intermediate Level Technicians and Professions <br>4 - Administrative staff <br>5 - Personal Services, Security and Safety Workers and Sellers <br>6 - Farmers and Skilled Workers in Agriculture, Fisheries and Forestry <br>7 - Skilled Workers in Industry, Construction and Craftsmen <br>8 - Installation and Machine Operators and Assembly Workers <br>9 - Unskilled Workers <br>10 - Armed Forces Professions <br>90 - Other Situation <br>99 - (blank) <br>101 - Armed Forces Officers <br>102 - Armed Forces Sergeants <br>103 - Other Armed Forces personnel <br>112 - Directors of administrative and commercial services <br>114 - Hotel, catering, trade and other services directors <br>121 - Specialists in the physical sciences, mathematics, engineering and related techniques <br>122 - Health professionals <br>123 - teachers <br>124 - Specialists in finance, accounting, administrative organization, public and commercial relations <br>131 - Intermediate level science and engineering technicians and professions <br>132 - Technicians and professionals, of intermediate level of health <br>134 - Intermediate level technicians from legal, social, sports, cultural and similar services <br>135 - Information and communication technology technicians <br>141 - Office workers, secretaries in general and data processing operators <br>143 - Data, accounting, statistical, financial services and registry-related operators <br>144 - Other administrative support staff <br>151 - personal service workers <br>152 - sellers <br>153 - Personal care workers and the like <br>154 - Protection and security services personnel <br>161 - Market-oriented farmers and skilled agricultural and animal production workers <br>163 - Farmers, livestock keepers, fishermen, hunters and gatherers, subsistence <br>171 - Skilled construction workers and the like, except electricians <br>172 - Skilled workers in metallurgy, metalworking and similar <br>174 - Skilled workers in electricity and electronics <br>175 - Workers in food processing, woodworking, clothing and other industries and crafts <br>181 - Fixed plant and machine operators <br>182 - assembly workers <br>183 - Vehicle drivers and mobile equipment operators <br>192 - Unskilled workers in agriculture, animal production, fisheries and forestry <br>193 - Unskilled workers in extractive industry, construction, manufacturing and transport <br>194 - Meal preparation assistants <br>195 - Street vendors (except food) and street service providers</td><td></td><td>false</td> </tr><tr><td>Admission grade</td><td>Feature</td><td>Continuous</td><td>Admission grade (between 0 and 200)</td><td></td><td>false</td> </tr><tr><td>Displaced</td><td>Feature</td><td>Discrete</td><td>1 – yes 0 – no</td><td></td><td>false</td> </tr><tr><td>Educational special needs</td><td>Feature</td><td>Discrete</td><td>1 – yes 0 – no</td><td></td><td>false</td> </tr><tr><td>Debtor</td><td>Feature</td><td>Discrete</td><td>1 – yes 0 – no</td><td></td><td>false</td> </tr><tr><td>Tuition fees up to date</td><td>Feature</td><td>Discrete</td><td>1 – yes 0 – no</td><td></td><td>false</td> </tr><tr><td>Gender</td><td>Feature</td><td>Discrete</td><td>1 – male 0 – female</td><td></td><td>false</td> </tr><tr><td>Scholarship holder</td><td>Feature</td><td>Discrete</td><td>1 – yes 0 – no</td><td></td><td>false</td> </tr><tr><td>Age at enrollment</td><td>Feature</td><td>Discrete</td><td>Age of studend at enrollment</td><td></td><td>false</td> </tr><tr><td>International</td><td>Feature</td><td>Discrete</td><td>1 – yes 0 – no</td><td></td><td>false</td> </tr><tr><td>Curricular units 1st sem (credited)</td><td>Feature</td><td>Discrete</td><td>Number of curricular units credited in the 1st semester</td><td></td><td>false</td> </tr><tr><td>Curricular units 1st sem (enrolled)</td><td>Feature</td><td>Discrete</td><td>Number of curricular units enrolled in the 1st semester</td><td></td><td>false</td> </tr><tr><td>Curricular units 1st sem (evaluations)</td><td>Feature</td><td>Discrete</td><td>Number of evaluations to curricular units in the 1st semester</td><td></td><td>false</td> </tr><tr><td>Curricular units 1st sem (approved)</td><td>Feature</td><td>Discrete</td><td>Number of curricular units approved in the 1st semester</td><td></td><td>false</td> </tr>\n",
        "\n",
        "<tr><td>Curricular units 1st sem (grade)</td><td>Feature</td><td>Discrete</td><td>Grade average in the 1st semester (between 0 and 20)</td><td></td><td>false</td> </tr><tr><td>Curricular units 1st sem (without evaluations)</td><td>Feature</td><td>Discrete</td><td>Number of curricular units without evalutions in the 1st semester</td><td></td><td>false</td> </tr><tr><td>Curricular units 2nd sem (credited)</td><td>Feature</td><td>Discrete</td><td>Number of curricular units credited in the 2nd semester</td><td></td><td>false</td> </tr><tr><td>Curricular units 2nd sem (enrolled)</td><td>Feature</td><td>Discrete</td><td>Number of curricular units enrolled in the 2nd semester</td><td></td><td>false</td> </tr><tr><td>Curricular units 2nd sem (evaluations)</td><td>Feature</td><td>Discrete</td><td>Number of evaluations to curricular units in the 2nd semester</td><td></td><td>false</td> </tr><tr><td>Curricular units 2nd sem (approved)</td><td>Feature</td><td>Discrete</td><td>Number of curricular units approved in the 2nd semester</td><td></td><td>false</td> </tr><tr><td>Curricular units 2nd sem (grade)</td><td>Feature</td><td>Discrete</td><td>Grade average in the 2nd semester (between 0 and 20)</td><td></td><td>false</td> </tr><tr><td>Curricular units 2nd sem (without evaluations)</td><td>Feature</td><td>Discrete</td><td>Number of curricular units without evalutions in the 1st semester</td><td></td><td>false</td> </tr><tr><td>Unemployment rate</td><td>Feature</td><td>Continuous</td><td>Unemployment rate (%)</td><td></td><td>false</td> </tr><tr><td>Inflation rate</td><td>Feature</td><td>Continuous</td><td>Inflation rate (%)</td><td></td><td>false</td> </tr><tr><td>GDP</td><td>Feature</td><td>Continuous</td><td>GDP</td><td></td><td>false</td> </tr><tr><td>Target</td><td>Target</td><td>Categorical</td><td>Target. The problem is formulated as a three category classification task <br>(dropout, enrolled, and graduate) at the end <br> of the normal duration of the course</td><td></td><td>false</td> </tr>\n",
        "\n",
        "\n",
        "</tbody>"
      ],
      "metadata": {
        "id": "tkHY-rC6q1ah"
      }
    },
    {
      "cell_type": "markdown",
      "source": [
        "- [ ] compare gdp to target\n",
        "- [ ] look at curricular units v dropout rate\n",
        "- [ ] filter out target:enrolled, maybe.  This allows us to show rates\n"
      ],
      "metadata": {
        "id": "zqT0PLywqVJt"
      }
    },
    {
      "cell_type": "markdown",
      "source": [
        "#Data Import"
      ],
      "metadata": {
        "id": "MOjQ_0EWmCoE"
      }
    },
    {
      "cell_type": "code",
      "source": [
        "url1 = 'https://drive.google.com/uc?id=1wHxIjk49UNfwWDvzHdoZkn6Qh_yD5YoC'\n",
        "df = pd.read_csv(url1, sep=';')\n",
        "df_copy = df.copy()"
      ],
      "metadata": {
        "id": "gQovEU6WIP04"
      },
      "execution_count": 5,
      "outputs": []
    },
    {
      "cell_type": "markdown",
      "source": [
        "##Initial Data Inspection"
      ],
      "metadata": {
        "id": "Bjhk7UBBDF-i"
      }
    },
    {
      "cell_type": "code",
      "source": [
        "df.head()"
      ],
      "metadata": {
        "colab": {
          "base_uri": "https://localhost:8080/",
          "height": 322
        },
        "id": "LSk3_w8OIi_D",
        "outputId": "aed988a4-586c-4aba-b073-01b01cba6df4"
      },
      "execution_count": 6,
      "outputs": [
        {
          "output_type": "execute_result",
          "data": {
            "text/plain": [
              "   Marital status  Application mode  Application order  Course  \\\n",
              "0               1                17                  5     171   \n",
              "1               1                15                  1    9254   \n",
              "2               1                 1                  5    9070   \n",
              "3               1                17                  2    9773   \n",
              "4               2                39                  1    8014   \n",
              "\n",
              "   Daytime/evening attendance\\t  Previous qualification  \\\n",
              "0                             1                       1   \n",
              "1                             1                       1   \n",
              "2                             1                       1   \n",
              "3                             1                       1   \n",
              "4                             0                       1   \n",
              "\n",
              "   Previous qualification (grade)  Nacionality  Mother's qualification  \\\n",
              "0                           122.0            1                      19   \n",
              "1                           160.0            1                       1   \n",
              "2                           122.0            1                      37   \n",
              "3                           122.0            1                      38   \n",
              "4                           100.0            1                      37   \n",
              "\n",
              "   Father's qualification  Mother's occupation  Father's occupation  \\\n",
              "0                      12                    5                    9   \n",
              "1                       3                    3                    3   \n",
              "2                      37                    9                    9   \n",
              "3                      37                    5                    3   \n",
              "4                      38                    9                    9   \n",
              "\n",
              "   Admission grade  Displaced  Educational special needs  Debtor  \\\n",
              "0            127.3          1                          0       0   \n",
              "1            142.5          1                          0       0   \n",
              "2            124.8          1                          0       0   \n",
              "3            119.6          1                          0       0   \n",
              "4            141.5          0                          0       0   \n",
              "\n",
              "   Tuition fees up to date  Gender  Scholarship holder  Age at enrollment  \\\n",
              "0                        1       1                   0                 20   \n",
              "1                        0       1                   0                 19   \n",
              "2                        0       1                   0                 19   \n",
              "3                        1       0                   0                 20   \n",
              "4                        1       0                   0                 45   \n",
              "\n",
              "   International  Curricular units 1st sem (credited)  \\\n",
              "0              0                                    0   \n",
              "1              0                                    0   \n",
              "2              0                                    0   \n",
              "3              0                                    0   \n",
              "4              0                                    0   \n",
              "\n",
              "   Curricular units 1st sem (enrolled)  \\\n",
              "0                                    0   \n",
              "1                                    6   \n",
              "2                                    6   \n",
              "3                                    6   \n",
              "4                                    6   \n",
              "\n",
              "   Curricular units 1st sem (evaluations)  \\\n",
              "0                                       0   \n",
              "1                                       6   \n",
              "2                                       0   \n",
              "3                                       8   \n",
              "4                                       9   \n",
              "\n",
              "   Curricular units 1st sem (approved)  Curricular units 1st sem (grade)  \\\n",
              "0                                    0                          0.000000   \n",
              "1                                    6                         14.000000   \n",
              "2                                    0                          0.000000   \n",
              "3                                    6                         13.428571   \n",
              "4                                    5                         12.333333   \n",
              "\n",
              "   Curricular units 1st sem (without evaluations)  \\\n",
              "0                                               0   \n",
              "1                                               0   \n",
              "2                                               0   \n",
              "3                                               0   \n",
              "4                                               0   \n",
              "\n",
              "   Curricular units 2nd sem (credited)  Curricular units 2nd sem (enrolled)  \\\n",
              "0                                    0                                    0   \n",
              "1                                    0                                    6   \n",
              "2                                    0                                    6   \n",
              "3                                    0                                    6   \n",
              "4                                    0                                    6   \n",
              "\n",
              "   Curricular units 2nd sem (evaluations)  \\\n",
              "0                                       0   \n",
              "1                                       6   \n",
              "2                                       0   \n",
              "3                                      10   \n",
              "4                                       6   \n",
              "\n",
              "   Curricular units 2nd sem (approved)  Curricular units 2nd sem (grade)  \\\n",
              "0                                    0                          0.000000   \n",
              "1                                    6                         13.666667   \n",
              "2                                    0                          0.000000   \n",
              "3                                    5                         12.400000   \n",
              "4                                    6                         13.000000   \n",
              "\n",
              "   Curricular units 2nd sem (without evaluations)  Unemployment rate  \\\n",
              "0                                               0               10.8   \n",
              "1                                               0               13.9   \n",
              "2                                               0               10.8   \n",
              "3                                               0                9.4   \n",
              "4                                               0               13.9   \n",
              "\n",
              "   Inflation rate   GDP    Target  \n",
              "0             1.4  1.74   Dropout  \n",
              "1            -0.3  0.79  Graduate  \n",
              "2             1.4  1.74   Dropout  \n",
              "3            -0.8 -3.12  Graduate  \n",
              "4            -0.3  0.79  Graduate  "
            ],
            "text/html": [
              "\n",
              "  <div id=\"df-9b4b9d09-1f31-4811-894d-3206ddfa8a27\">\n",
              "    <div class=\"colab-df-container\">\n",
              "      <div>\n",
              "<style scoped>\n",
              "    .dataframe tbody tr th:only-of-type {\n",
              "        vertical-align: middle;\n",
              "    }\n",
              "\n",
              "    .dataframe tbody tr th {\n",
              "        vertical-align: top;\n",
              "    }\n",
              "\n",
              "    .dataframe thead th {\n",
              "        text-align: right;\n",
              "    }\n",
              "</style>\n",
              "<table border=\"1\" class=\"dataframe\">\n",
              "  <thead>\n",
              "    <tr style=\"text-align: right;\">\n",
              "      <th></th>\n",
              "      <th>Marital status</th>\n",
              "      <th>Application mode</th>\n",
              "      <th>Application order</th>\n",
              "      <th>Course</th>\n",
              "      <th>Daytime/evening attendance\\t</th>\n",
              "      <th>Previous qualification</th>\n",
              "      <th>Previous qualification (grade)</th>\n",
              "      <th>Nacionality</th>\n",
              "      <th>Mother's qualification</th>\n",
              "      <th>Father's qualification</th>\n",
              "      <th>Mother's occupation</th>\n",
              "      <th>Father's occupation</th>\n",
              "      <th>Admission grade</th>\n",
              "      <th>Displaced</th>\n",
              "      <th>Educational special needs</th>\n",
              "      <th>Debtor</th>\n",
              "      <th>Tuition fees up to date</th>\n",
              "      <th>Gender</th>\n",
              "      <th>Scholarship holder</th>\n",
              "      <th>Age at enrollment</th>\n",
              "      <th>International</th>\n",
              "      <th>Curricular units 1st sem (credited)</th>\n",
              "      <th>Curricular units 1st sem (enrolled)</th>\n",
              "      <th>Curricular units 1st sem (evaluations)</th>\n",
              "      <th>Curricular units 1st sem (approved)</th>\n",
              "      <th>Curricular units 1st sem (grade)</th>\n",
              "      <th>Curricular units 1st sem (without evaluations)</th>\n",
              "      <th>Curricular units 2nd sem (credited)</th>\n",
              "      <th>Curricular units 2nd sem (enrolled)</th>\n",
              "      <th>Curricular units 2nd sem (evaluations)</th>\n",
              "      <th>Curricular units 2nd sem (approved)</th>\n",
              "      <th>Curricular units 2nd sem (grade)</th>\n",
              "      <th>Curricular units 2nd sem (without evaluations)</th>\n",
              "      <th>Unemployment rate</th>\n",
              "      <th>Inflation rate</th>\n",
              "      <th>GDP</th>\n",
              "      <th>Target</th>\n",
              "    </tr>\n",
              "  </thead>\n",
              "  <tbody>\n",
              "    <tr>\n",
              "      <th>0</th>\n",
              "      <td>1</td>\n",
              "      <td>17</td>\n",
              "      <td>5</td>\n",
              "      <td>171</td>\n",
              "      <td>1</td>\n",
              "      <td>1</td>\n",
              "      <td>122.0</td>\n",
              "      <td>1</td>\n",
              "      <td>19</td>\n",
              "      <td>12</td>\n",
              "      <td>5</td>\n",
              "      <td>9</td>\n",
              "      <td>127.3</td>\n",
              "      <td>1</td>\n",
              "      <td>0</td>\n",
              "      <td>0</td>\n",
              "      <td>1</td>\n",
              "      <td>1</td>\n",
              "      <td>0</td>\n",
              "      <td>20</td>\n",
              "      <td>0</td>\n",
              "      <td>0</td>\n",
              "      <td>0</td>\n",
              "      <td>0</td>\n",
              "      <td>0</td>\n",
              "      <td>0.000000</td>\n",
              "      <td>0</td>\n",
              "      <td>0</td>\n",
              "      <td>0</td>\n",
              "      <td>0</td>\n",
              "      <td>0</td>\n",
              "      <td>0.000000</td>\n",
              "      <td>0</td>\n",
              "      <td>10.8</td>\n",
              "      <td>1.4</td>\n",
              "      <td>1.74</td>\n",
              "      <td>Dropout</td>\n",
              "    </tr>\n",
              "    <tr>\n",
              "      <th>1</th>\n",
              "      <td>1</td>\n",
              "      <td>15</td>\n",
              "      <td>1</td>\n",
              "      <td>9254</td>\n",
              "      <td>1</td>\n",
              "      <td>1</td>\n",
              "      <td>160.0</td>\n",
              "      <td>1</td>\n",
              "      <td>1</td>\n",
              "      <td>3</td>\n",
              "      <td>3</td>\n",
              "      <td>3</td>\n",
              "      <td>142.5</td>\n",
              "      <td>1</td>\n",
              "      <td>0</td>\n",
              "      <td>0</td>\n",
              "      <td>0</td>\n",
              "      <td>1</td>\n",
              "      <td>0</td>\n",
              "      <td>19</td>\n",
              "      <td>0</td>\n",
              "      <td>0</td>\n",
              "      <td>6</td>\n",
              "      <td>6</td>\n",
              "      <td>6</td>\n",
              "      <td>14.000000</td>\n",
              "      <td>0</td>\n",
              "      <td>0</td>\n",
              "      <td>6</td>\n",
              "      <td>6</td>\n",
              "      <td>6</td>\n",
              "      <td>13.666667</td>\n",
              "      <td>0</td>\n",
              "      <td>13.9</td>\n",
              "      <td>-0.3</td>\n",
              "      <td>0.79</td>\n",
              "      <td>Graduate</td>\n",
              "    </tr>\n",
              "    <tr>\n",
              "      <th>2</th>\n",
              "      <td>1</td>\n",
              "      <td>1</td>\n",
              "      <td>5</td>\n",
              "      <td>9070</td>\n",
              "      <td>1</td>\n",
              "      <td>1</td>\n",
              "      <td>122.0</td>\n",
              "      <td>1</td>\n",
              "      <td>37</td>\n",
              "      <td>37</td>\n",
              "      <td>9</td>\n",
              "      <td>9</td>\n",
              "      <td>124.8</td>\n",
              "      <td>1</td>\n",
              "      <td>0</td>\n",
              "      <td>0</td>\n",
              "      <td>0</td>\n",
              "      <td>1</td>\n",
              "      <td>0</td>\n",
              "      <td>19</td>\n",
              "      <td>0</td>\n",
              "      <td>0</td>\n",
              "      <td>6</td>\n",
              "      <td>0</td>\n",
              "      <td>0</td>\n",
              "      <td>0.000000</td>\n",
              "      <td>0</td>\n",
              "      <td>0</td>\n",
              "      <td>6</td>\n",
              "      <td>0</td>\n",
              "      <td>0</td>\n",
              "      <td>0.000000</td>\n",
              "      <td>0</td>\n",
              "      <td>10.8</td>\n",
              "      <td>1.4</td>\n",
              "      <td>1.74</td>\n",
              "      <td>Dropout</td>\n",
              "    </tr>\n",
              "    <tr>\n",
              "      <th>3</th>\n",
              "      <td>1</td>\n",
              "      <td>17</td>\n",
              "      <td>2</td>\n",
              "      <td>9773</td>\n",
              "      <td>1</td>\n",
              "      <td>1</td>\n",
              "      <td>122.0</td>\n",
              "      <td>1</td>\n",
              "      <td>38</td>\n",
              "      <td>37</td>\n",
              "      <td>5</td>\n",
              "      <td>3</td>\n",
              "      <td>119.6</td>\n",
              "      <td>1</td>\n",
              "      <td>0</td>\n",
              "      <td>0</td>\n",
              "      <td>1</td>\n",
              "      <td>0</td>\n",
              "      <td>0</td>\n",
              "      <td>20</td>\n",
              "      <td>0</td>\n",
              "      <td>0</td>\n",
              "      <td>6</td>\n",
              "      <td>8</td>\n",
              "      <td>6</td>\n",
              "      <td>13.428571</td>\n",
              "      <td>0</td>\n",
              "      <td>0</td>\n",
              "      <td>6</td>\n",
              "      <td>10</td>\n",
              "      <td>5</td>\n",
              "      <td>12.400000</td>\n",
              "      <td>0</td>\n",
              "      <td>9.4</td>\n",
              "      <td>-0.8</td>\n",
              "      <td>-3.12</td>\n",
              "      <td>Graduate</td>\n",
              "    </tr>\n",
              "    <tr>\n",
              "      <th>4</th>\n",
              "      <td>2</td>\n",
              "      <td>39</td>\n",
              "      <td>1</td>\n",
              "      <td>8014</td>\n",
              "      <td>0</td>\n",
              "      <td>1</td>\n",
              "      <td>100.0</td>\n",
              "      <td>1</td>\n",
              "      <td>37</td>\n",
              "      <td>38</td>\n",
              "      <td>9</td>\n",
              "      <td>9</td>\n",
              "      <td>141.5</td>\n",
              "      <td>0</td>\n",
              "      <td>0</td>\n",
              "      <td>0</td>\n",
              "      <td>1</td>\n",
              "      <td>0</td>\n",
              "      <td>0</td>\n",
              "      <td>45</td>\n",
              "      <td>0</td>\n",
              "      <td>0</td>\n",
              "      <td>6</td>\n",
              "      <td>9</td>\n",
              "      <td>5</td>\n",
              "      <td>12.333333</td>\n",
              "      <td>0</td>\n",
              "      <td>0</td>\n",
              "      <td>6</td>\n",
              "      <td>6</td>\n",
              "      <td>6</td>\n",
              "      <td>13.000000</td>\n",
              "      <td>0</td>\n",
              "      <td>13.9</td>\n",
              "      <td>-0.3</td>\n",
              "      <td>0.79</td>\n",
              "      <td>Graduate</td>\n",
              "    </tr>\n",
              "  </tbody>\n",
              "</table>\n",
              "</div>\n",
              "      <button class=\"colab-df-convert\" onclick=\"convertToInteractive('df-9b4b9d09-1f31-4811-894d-3206ddfa8a27')\"\n",
              "              title=\"Convert this dataframe to an interactive table.\"\n",
              "              style=\"display:none;\">\n",
              "        \n",
              "  <svg xmlns=\"http://www.w3.org/2000/svg\" height=\"24px\"viewBox=\"0 0 24 24\"\n",
              "       width=\"24px\">\n",
              "    <path d=\"M0 0h24v24H0V0z\" fill=\"none\"/>\n",
              "    <path d=\"M18.56 5.44l.94 2.06.94-2.06 2.06-.94-2.06-.94-.94-2.06-.94 2.06-2.06.94zm-11 1L8.5 8.5l.94-2.06 2.06-.94-2.06-.94L8.5 2.5l-.94 2.06-2.06.94zm10 10l.94 2.06.94-2.06 2.06-.94-2.06-.94-.94-2.06-.94 2.06-2.06.94z\"/><path d=\"M17.41 7.96l-1.37-1.37c-.4-.4-.92-.59-1.43-.59-.52 0-1.04.2-1.43.59L10.3 9.45l-7.72 7.72c-.78.78-.78 2.05 0 2.83L4 21.41c.39.39.9.59 1.41.59.51 0 1.02-.2 1.41-.59l7.78-7.78 2.81-2.81c.8-.78.8-2.07 0-2.86zM5.41 20L4 18.59l7.72-7.72 1.47 1.35L5.41 20z\"/>\n",
              "  </svg>\n",
              "      </button>\n",
              "      \n",
              "  <style>\n",
              "    .colab-df-container {\n",
              "      display:flex;\n",
              "      flex-wrap:wrap;\n",
              "      gap: 12px;\n",
              "    }\n",
              "\n",
              "    .colab-df-convert {\n",
              "      background-color: #E8F0FE;\n",
              "      border: none;\n",
              "      border-radius: 50%;\n",
              "      cursor: pointer;\n",
              "      display: none;\n",
              "      fill: #1967D2;\n",
              "      height: 32px;\n",
              "      padding: 0 0 0 0;\n",
              "      width: 32px;\n",
              "    }\n",
              "\n",
              "    .colab-df-convert:hover {\n",
              "      background-color: #E2EBFA;\n",
              "      box-shadow: 0px 1px 2px rgba(60, 64, 67, 0.3), 0px 1px 3px 1px rgba(60, 64, 67, 0.15);\n",
              "      fill: #174EA6;\n",
              "    }\n",
              "\n",
              "    [theme=dark] .colab-df-convert {\n",
              "      background-color: #3B4455;\n",
              "      fill: #D2E3FC;\n",
              "    }\n",
              "\n",
              "    [theme=dark] .colab-df-convert:hover {\n",
              "      background-color: #434B5C;\n",
              "      box-shadow: 0px 1px 3px 1px rgba(0, 0, 0, 0.15);\n",
              "      filter: drop-shadow(0px 1px 2px rgba(0, 0, 0, 0.3));\n",
              "      fill: #FFFFFF;\n",
              "    }\n",
              "  </style>\n",
              "\n",
              "      <script>\n",
              "        const buttonEl =\n",
              "          document.querySelector('#df-9b4b9d09-1f31-4811-894d-3206ddfa8a27 button.colab-df-convert');\n",
              "        buttonEl.style.display =\n",
              "          google.colab.kernel.accessAllowed ? 'block' : 'none';\n",
              "\n",
              "        async function convertToInteractive(key) {\n",
              "          const element = document.querySelector('#df-9b4b9d09-1f31-4811-894d-3206ddfa8a27');\n",
              "          const dataTable =\n",
              "            await google.colab.kernel.invokeFunction('convertToInteractive',\n",
              "                                                     [key], {});\n",
              "          if (!dataTable) return;\n",
              "\n",
              "          const docLinkHtml = 'Like what you see? Visit the ' +\n",
              "            '<a target=\"_blank\" href=https://colab.research.google.com/notebooks/data_table.ipynb>data table notebook</a>'\n",
              "            + ' to learn more about interactive tables.';\n",
              "          element.innerHTML = '';\n",
              "          dataTable['output_type'] = 'display_data';\n",
              "          await google.colab.output.renderOutput(dataTable, element);\n",
              "          const docLink = document.createElement('div');\n",
              "          docLink.innerHTML = docLinkHtml;\n",
              "          element.appendChild(docLink);\n",
              "        }\n",
              "      </script>\n",
              "    </div>\n",
              "  </div>\n",
              "  "
            ]
          },
          "metadata": {},
          "execution_count": 6
        }
      ]
    },
    {
      "cell_type": "code",
      "source": [
        "df_inspect(df)"
      ],
      "metadata": {
        "colab": {
          "base_uri": "https://localhost:8080/"
        },
        "id": "Xuoc64pbJKT4",
        "outputId": "09c257c7-589c-4e97-c5d9-7ff7bc2952f9"
      },
      "execution_count": 7,
      "outputs": [
        {
          "output_type": "stream",
          "name": "stdout",
          "text": [
            "-------------------------\n",
            "There are no duplicate entries.\n",
            "-------------------------\n",
            "\n",
            "\n",
            "-------------------------\n",
            "The total number of NaN-values is:0\n",
            "There are no missing values, and will not need to be adressed in our analysis.\n",
            "-------------------------\n",
            "\n",
            "\n",
            "-------------------------\n",
            "There are 4424 rows, and 37 columns.\n",
            "The rows represent 4424 observations, and the columns represent 36 features and 1 target variable.\n",
            "-------------------------\n",
            "\n",
            "\n",
            "-------------------------\n",
            "Compare the following datatypes to the Data Dictionary\n",
            "- - - - - - - - - - - - - - - \n",
            "Marital status                                      int64\n",
            "Application mode                                    int64\n",
            "Application order                                   int64\n",
            "Course                                              int64\n",
            "Daytime/evening attendance\\t                        int64\n",
            "Previous qualification                              int64\n",
            "Previous qualification (grade)                    float64\n",
            "Nacionality                                         int64\n",
            "Mother's qualification                              int64\n",
            "Father's qualification                              int64\n",
            "Mother's occupation                                 int64\n",
            "Father's occupation                                 int64\n",
            "Admission grade                                   float64\n",
            "Displaced                                           int64\n",
            "Educational special needs                           int64\n",
            "Debtor                                              int64\n",
            "Tuition fees up to date                             int64\n",
            "Gender                                              int64\n",
            "Scholarship holder                                  int64\n",
            "Age at enrollment                                   int64\n",
            "International                                       int64\n",
            "Curricular units 1st sem (credited)                 int64\n",
            "Curricular units 1st sem (enrolled)                 int64\n",
            "Curricular units 1st sem (evaluations)              int64\n",
            "Curricular units 1st sem (approved)                 int64\n",
            "Curricular units 1st sem (grade)                  float64\n",
            "Curricular units 1st sem (without evaluations)      int64\n",
            "Curricular units 2nd sem (credited)                 int64\n",
            "Curricular units 2nd sem (enrolled)                 int64\n",
            "Curricular units 2nd sem (evaluations)              int64\n",
            "Curricular units 2nd sem (approved)                 int64\n",
            "Curricular units 2nd sem (grade)                  float64\n",
            "Curricular units 2nd sem (without evaluations)      int64\n",
            "Unemployment rate                                 float64\n",
            "Inflation rate                                    float64\n",
            "GDP                                               float64\n",
            "Target                                             object\n",
            "dtype: object\n",
            "-------------------------\n",
            "\n",
            "\n"
          ]
        }
      ]
    },
    {
      "cell_type": "markdown",
      "source": [
        ">- Looking at the datatypes I see that most categories are dtype=int64.  In this case these are categorical nominal/ordinal variables.  I'll change these to `dtype:object` and will process them via One Hot Encoding (OHE) during modeling.\n",
        "  - [x] Import OneHotEncoder\n",
        "  - [ ] Add OHE to data pipeline\n",
        "- `Application order` is an ordinal numerical column. 0 is the preferred option and 9 is the last choice.  This will require ordinal encoding during modeling\n",
        " - [x] Import OrdinalEncoder\n",
        " - [ ] Add Ordinal Encoder to preprocessing pipeline\n",
        "- [x] The `Daytime/evening attendance` category has some trailing spaces at the end of it. This should get renamed.\n"
      ],
      "metadata": {
        "id": "Dagd5c-9vMAj"
      }
    },
    {
      "cell_type": "code",
      "source": [
        "#rename Daytime/evening attendance\n",
        "df.rename(columns = {'Daytime/evening attendance\t': 'Daytime/evening attendance'}, inplace=True)\n",
        "df.columns"
      ],
      "metadata": {
        "colab": {
          "base_uri": "https://localhost:8080/"
        },
        "id": "_fkS9sjgq8Sn",
        "outputId": "a10b81b3-7e00-4570-a1c8-97477a9fd2cc"
      },
      "execution_count": 8,
      "outputs": [
        {
          "output_type": "execute_result",
          "data": {
            "text/plain": [
              "Index(['Marital status', 'Application mode', 'Application order', 'Course',\n",
              "       'Daytime/evening attendance', 'Previous qualification',\n",
              "       'Previous qualification (grade)', 'Nacionality',\n",
              "       'Mother's qualification', 'Father's qualification',\n",
              "       'Mother's occupation', 'Father's occupation', 'Admission grade',\n",
              "       'Displaced', 'Educational special needs', 'Debtor',\n",
              "       'Tuition fees up to date', 'Gender', 'Scholarship holder',\n",
              "       'Age at enrollment', 'International',\n",
              "       'Curricular units 1st sem (credited)',\n",
              "       'Curricular units 1st sem (enrolled)',\n",
              "       'Curricular units 1st sem (evaluations)',\n",
              "       'Curricular units 1st sem (approved)',\n",
              "       'Curricular units 1st sem (grade)',\n",
              "       'Curricular units 1st sem (without evaluations)',\n",
              "       'Curricular units 2nd sem (credited)',\n",
              "       'Curricular units 2nd sem (enrolled)',\n",
              "       'Curricular units 2nd sem (evaluations)',\n",
              "       'Curricular units 2nd sem (approved)',\n",
              "       'Curricular units 2nd sem (grade)',\n",
              "       'Curricular units 2nd sem (without evaluations)', 'Unemployment rate',\n",
              "       'Inflation rate', 'GDP', 'Target'],\n",
              "      dtype='object')"
            ]
          },
          "metadata": {},
          "execution_count": 8
        }
      ]
    },
    {
      "cell_type": "code",
      "source": [
        "df.describe(include='all')"
      ],
      "metadata": {
        "colab": {
          "base_uri": "https://localhost:8080/",
          "height": 511
        },
        "id": "umOIT_QTNQ40",
        "outputId": "adaa4fb1-714e-4ec8-efd8-74f904027719"
      },
      "execution_count": 9,
      "outputs": [
        {
          "output_type": "execute_result",
          "data": {
            "text/plain": [
              "        Marital status  Application mode  Application order       Course  \\\n",
              "count      4424.000000       4424.000000        4424.000000  4424.000000   \n",
              "unique             NaN               NaN                NaN          NaN   \n",
              "top                NaN               NaN                NaN          NaN   \n",
              "freq               NaN               NaN                NaN          NaN   \n",
              "mean          1.178571         18.669078           1.727848  8856.642631   \n",
              "std           0.605747         17.484682           1.313793  2063.566416   \n",
              "min           1.000000          1.000000           0.000000    33.000000   \n",
              "25%           1.000000          1.000000           1.000000  9085.000000   \n",
              "50%           1.000000         17.000000           1.000000  9238.000000   \n",
              "75%           1.000000         39.000000           2.000000  9556.000000   \n",
              "max           6.000000         57.000000           9.000000  9991.000000   \n",
              "\n",
              "        Daytime/evening attendance  Previous qualification  \\\n",
              "count                  4424.000000             4424.000000   \n",
              "unique                         NaN                     NaN   \n",
              "top                            NaN                     NaN   \n",
              "freq                           NaN                     NaN   \n",
              "mean                      0.890823                4.577758   \n",
              "std                       0.311897               10.216592   \n",
              "min                       0.000000                1.000000   \n",
              "25%                       1.000000                1.000000   \n",
              "50%                       1.000000                1.000000   \n",
              "75%                       1.000000                1.000000   \n",
              "max                       1.000000               43.000000   \n",
              "\n",
              "        Previous qualification (grade)  Nacionality  Mother's qualification  \\\n",
              "count                      4424.000000  4424.000000             4424.000000   \n",
              "unique                             NaN          NaN                     NaN   \n",
              "top                                NaN          NaN                     NaN   \n",
              "freq                               NaN          NaN                     NaN   \n",
              "mean                        132.613314     1.873192               19.561935   \n",
              "std                          13.188332     6.914514               15.603186   \n",
              "min                          95.000000     1.000000                1.000000   \n",
              "25%                         125.000000     1.000000                2.000000   \n",
              "50%                         133.100000     1.000000               19.000000   \n",
              "75%                         140.000000     1.000000               37.000000   \n",
              "max                         190.000000   109.000000               44.000000   \n",
              "\n",
              "        Father's qualification  Mother's occupation  Father's occupation  \\\n",
              "count              4424.000000          4424.000000          4424.000000   \n",
              "unique                     NaN                  NaN                  NaN   \n",
              "top                        NaN                  NaN                  NaN   \n",
              "freq                       NaN                  NaN                  NaN   \n",
              "mean                 22.275316            10.960895            11.032324   \n",
              "std                  15.343108            26.418253            25.263040   \n",
              "min                   1.000000             0.000000             0.000000   \n",
              "25%                   3.000000             4.000000             4.000000   \n",
              "50%                  19.000000             5.000000             7.000000   \n",
              "75%                  37.000000             9.000000             9.000000   \n",
              "max                  44.000000           194.000000           195.000000   \n",
              "\n",
              "        Admission grade    Displaced  Educational special needs       Debtor  \\\n",
              "count       4424.000000  4424.000000                4424.000000  4424.000000   \n",
              "unique              NaN          NaN                        NaN          NaN   \n",
              "top                 NaN          NaN                        NaN          NaN   \n",
              "freq                NaN          NaN                        NaN          NaN   \n",
              "mean         126.978119     0.548373                   0.011528     0.113698   \n",
              "std           14.482001     0.497711                   0.106760     0.317480   \n",
              "min           95.000000     0.000000                   0.000000     0.000000   \n",
              "25%          117.900000     0.000000                   0.000000     0.000000   \n",
              "50%          126.100000     1.000000                   0.000000     0.000000   \n",
              "75%          134.800000     1.000000                   0.000000     0.000000   \n",
              "max          190.000000     1.000000                   1.000000     1.000000   \n",
              "\n",
              "        Tuition fees up to date       Gender  Scholarship holder  \\\n",
              "count               4424.000000  4424.000000         4424.000000   \n",
              "unique                      NaN          NaN                 NaN   \n",
              "top                         NaN          NaN                 NaN   \n",
              "freq                        NaN          NaN                 NaN   \n",
              "mean                   0.880651     0.351718            0.248418   \n",
              "std                    0.324235     0.477560            0.432144   \n",
              "min                    0.000000     0.000000            0.000000   \n",
              "25%                    1.000000     0.000000            0.000000   \n",
              "50%                    1.000000     0.000000            0.000000   \n",
              "75%                    1.000000     1.000000            0.000000   \n",
              "max                    1.000000     1.000000            1.000000   \n",
              "\n",
              "        Age at enrollment  International  Curricular units 1st sem (credited)  \\\n",
              "count         4424.000000    4424.000000                          4424.000000   \n",
              "unique                NaN            NaN                                  NaN   \n",
              "top                   NaN            NaN                                  NaN   \n",
              "freq                  NaN            NaN                                  NaN   \n",
              "mean            23.265145       0.024864                             0.709991   \n",
              "std              7.587816       0.155729                             2.360507   \n",
              "min             17.000000       0.000000                             0.000000   \n",
              "25%             19.000000       0.000000                             0.000000   \n",
              "50%             20.000000       0.000000                             0.000000   \n",
              "75%             25.000000       0.000000                             0.000000   \n",
              "max             70.000000       1.000000                            20.000000   \n",
              "\n",
              "        Curricular units 1st sem (enrolled)  \\\n",
              "count                           4424.000000   \n",
              "unique                                  NaN   \n",
              "top                                     NaN   \n",
              "freq                                    NaN   \n",
              "mean                               6.270570   \n",
              "std                                2.480178   \n",
              "min                                0.000000   \n",
              "25%                                5.000000   \n",
              "50%                                6.000000   \n",
              "75%                                7.000000   \n",
              "max                               26.000000   \n",
              "\n",
              "        Curricular units 1st sem (evaluations)  \\\n",
              "count                              4424.000000   \n",
              "unique                                     NaN   \n",
              "top                                        NaN   \n",
              "freq                                       NaN   \n",
              "mean                                  8.299051   \n",
              "std                                   4.179106   \n",
              "min                                   0.000000   \n",
              "25%                                   6.000000   \n",
              "50%                                   8.000000   \n",
              "75%                                  10.000000   \n",
              "max                                  45.000000   \n",
              "\n",
              "        Curricular units 1st sem (approved)  Curricular units 1st sem (grade)  \\\n",
              "count                           4424.000000                       4424.000000   \n",
              "unique                                  NaN                               NaN   \n",
              "top                                     NaN                               NaN   \n",
              "freq                                    NaN                               NaN   \n",
              "mean                               4.706600                         10.640822   \n",
              "std                                3.094238                          4.843663   \n",
              "min                                0.000000                          0.000000   \n",
              "25%                                3.000000                         11.000000   \n",
              "50%                                5.000000                         12.285714   \n",
              "75%                                6.000000                         13.400000   \n",
              "max                               26.000000                         18.875000   \n",
              "\n",
              "        Curricular units 1st sem (without evaluations)  \\\n",
              "count                                      4424.000000   \n",
              "unique                                             NaN   \n",
              "top                                                NaN   \n",
              "freq                                               NaN   \n",
              "mean                                          0.137658   \n",
              "std                                           0.690880   \n",
              "min                                           0.000000   \n",
              "25%                                           0.000000   \n",
              "50%                                           0.000000   \n",
              "75%                                           0.000000   \n",
              "max                                          12.000000   \n",
              "\n",
              "        Curricular units 2nd sem (credited)  \\\n",
              "count                           4424.000000   \n",
              "unique                                  NaN   \n",
              "top                                     NaN   \n",
              "freq                                    NaN   \n",
              "mean                               0.541817   \n",
              "std                                1.918546   \n",
              "min                                0.000000   \n",
              "25%                                0.000000   \n",
              "50%                                0.000000   \n",
              "75%                                0.000000   \n",
              "max                               19.000000   \n",
              "\n",
              "        Curricular units 2nd sem (enrolled)  \\\n",
              "count                           4424.000000   \n",
              "unique                                  NaN   \n",
              "top                                     NaN   \n",
              "freq                                    NaN   \n",
              "mean                               6.232143   \n",
              "std                                2.195951   \n",
              "min                                0.000000   \n",
              "25%                                5.000000   \n",
              "50%                                6.000000   \n",
              "75%                                7.000000   \n",
              "max                               23.000000   \n",
              "\n",
              "        Curricular units 2nd sem (evaluations)  \\\n",
              "count                              4424.000000   \n",
              "unique                                     NaN   \n",
              "top                                        NaN   \n",
              "freq                                       NaN   \n",
              "mean                                  8.063291   \n",
              "std                                   3.947951   \n",
              "min                                   0.000000   \n",
              "25%                                   6.000000   \n",
              "50%                                   8.000000   \n",
              "75%                                  10.000000   \n",
              "max                                  33.000000   \n",
              "\n",
              "        Curricular units 2nd sem (approved)  Curricular units 2nd sem (grade)  \\\n",
              "count                           4424.000000                       4424.000000   \n",
              "unique                                  NaN                               NaN   \n",
              "top                                     NaN                               NaN   \n",
              "freq                                    NaN                               NaN   \n",
              "mean                               4.435805                         10.230206   \n",
              "std                                3.014764                          5.210808   \n",
              "min                                0.000000                          0.000000   \n",
              "25%                                2.000000                         10.750000   \n",
              "50%                                5.000000                         12.200000   \n",
              "75%                                6.000000                         13.333333   \n",
              "max                               20.000000                         18.571429   \n",
              "\n",
              "        Curricular units 2nd sem (without evaluations)  Unemployment rate  \\\n",
              "count                                      4424.000000        4424.000000   \n",
              "unique                                             NaN                NaN   \n",
              "top                                                NaN                NaN   \n",
              "freq                                               NaN                NaN   \n",
              "mean                                          0.150316          11.566139   \n",
              "std                                           0.753774           2.663850   \n",
              "min                                           0.000000           7.600000   \n",
              "25%                                           0.000000           9.400000   \n",
              "50%                                           0.000000          11.100000   \n",
              "75%                                           0.000000          13.900000   \n",
              "max                                          12.000000          16.200000   \n",
              "\n",
              "        Inflation rate          GDP    Target  \n",
              "count      4424.000000  4424.000000      4424  \n",
              "unique             NaN          NaN         3  \n",
              "top                NaN          NaN  Graduate  \n",
              "freq               NaN          NaN      2209  \n",
              "mean          1.228029     0.001969       NaN  \n",
              "std           1.382711     2.269935       NaN  \n",
              "min          -0.800000    -4.060000       NaN  \n",
              "25%           0.300000    -1.700000       NaN  \n",
              "50%           1.400000     0.320000       NaN  \n",
              "75%           2.600000     1.790000       NaN  \n",
              "max           3.700000     3.510000       NaN  "
            ],
            "text/html": [
              "\n",
              "  <div id=\"df-0d2b07e8-424a-408c-81cd-d408ef195880\">\n",
              "    <div class=\"colab-df-container\">\n",
              "      <div>\n",
              "<style scoped>\n",
              "    .dataframe tbody tr th:only-of-type {\n",
              "        vertical-align: middle;\n",
              "    }\n",
              "\n",
              "    .dataframe tbody tr th {\n",
              "        vertical-align: top;\n",
              "    }\n",
              "\n",
              "    .dataframe thead th {\n",
              "        text-align: right;\n",
              "    }\n",
              "</style>\n",
              "<table border=\"1\" class=\"dataframe\">\n",
              "  <thead>\n",
              "    <tr style=\"text-align: right;\">\n",
              "      <th></th>\n",
              "      <th>Marital status</th>\n",
              "      <th>Application mode</th>\n",
              "      <th>Application order</th>\n",
              "      <th>Course</th>\n",
              "      <th>Daytime/evening attendance</th>\n",
              "      <th>Previous qualification</th>\n",
              "      <th>Previous qualification (grade)</th>\n",
              "      <th>Nacionality</th>\n",
              "      <th>Mother's qualification</th>\n",
              "      <th>Father's qualification</th>\n",
              "      <th>Mother's occupation</th>\n",
              "      <th>Father's occupation</th>\n",
              "      <th>Admission grade</th>\n",
              "      <th>Displaced</th>\n",
              "      <th>Educational special needs</th>\n",
              "      <th>Debtor</th>\n",
              "      <th>Tuition fees up to date</th>\n",
              "      <th>Gender</th>\n",
              "      <th>Scholarship holder</th>\n",
              "      <th>Age at enrollment</th>\n",
              "      <th>International</th>\n",
              "      <th>Curricular units 1st sem (credited)</th>\n",
              "      <th>Curricular units 1st sem (enrolled)</th>\n",
              "      <th>Curricular units 1st sem (evaluations)</th>\n",
              "      <th>Curricular units 1st sem (approved)</th>\n",
              "      <th>Curricular units 1st sem (grade)</th>\n",
              "      <th>Curricular units 1st sem (without evaluations)</th>\n",
              "      <th>Curricular units 2nd sem (credited)</th>\n",
              "      <th>Curricular units 2nd sem (enrolled)</th>\n",
              "      <th>Curricular units 2nd sem (evaluations)</th>\n",
              "      <th>Curricular units 2nd sem (approved)</th>\n",
              "      <th>Curricular units 2nd sem (grade)</th>\n",
              "      <th>Curricular units 2nd sem (without evaluations)</th>\n",
              "      <th>Unemployment rate</th>\n",
              "      <th>Inflation rate</th>\n",
              "      <th>GDP</th>\n",
              "      <th>Target</th>\n",
              "    </tr>\n",
              "  </thead>\n",
              "  <tbody>\n",
              "    <tr>\n",
              "      <th>count</th>\n",
              "      <td>4424.000000</td>\n",
              "      <td>4424.000000</td>\n",
              "      <td>4424.000000</td>\n",
              "      <td>4424.000000</td>\n",
              "      <td>4424.000000</td>\n",
              "      <td>4424.000000</td>\n",
              "      <td>4424.000000</td>\n",
              "      <td>4424.000000</td>\n",
              "      <td>4424.000000</td>\n",
              "      <td>4424.000000</td>\n",
              "      <td>4424.000000</td>\n",
              "      <td>4424.000000</td>\n",
              "      <td>4424.000000</td>\n",
              "      <td>4424.000000</td>\n",
              "      <td>4424.000000</td>\n",
              "      <td>4424.000000</td>\n",
              "      <td>4424.000000</td>\n",
              "      <td>4424.000000</td>\n",
              "      <td>4424.000000</td>\n",
              "      <td>4424.000000</td>\n",
              "      <td>4424.000000</td>\n",
              "      <td>4424.000000</td>\n",
              "      <td>4424.000000</td>\n",
              "      <td>4424.000000</td>\n",
              "      <td>4424.000000</td>\n",
              "      <td>4424.000000</td>\n",
              "      <td>4424.000000</td>\n",
              "      <td>4424.000000</td>\n",
              "      <td>4424.000000</td>\n",
              "      <td>4424.000000</td>\n",
              "      <td>4424.000000</td>\n",
              "      <td>4424.000000</td>\n",
              "      <td>4424.000000</td>\n",
              "      <td>4424.000000</td>\n",
              "      <td>4424.000000</td>\n",
              "      <td>4424.000000</td>\n",
              "      <td>4424</td>\n",
              "    </tr>\n",
              "    <tr>\n",
              "      <th>unique</th>\n",
              "      <td>NaN</td>\n",
              "      <td>NaN</td>\n",
              "      <td>NaN</td>\n",
              "      <td>NaN</td>\n",
              "      <td>NaN</td>\n",
              "      <td>NaN</td>\n",
              "      <td>NaN</td>\n",
              "      <td>NaN</td>\n",
              "      <td>NaN</td>\n",
              "      <td>NaN</td>\n",
              "      <td>NaN</td>\n",
              "      <td>NaN</td>\n",
              "      <td>NaN</td>\n",
              "      <td>NaN</td>\n",
              "      <td>NaN</td>\n",
              "      <td>NaN</td>\n",
              "      <td>NaN</td>\n",
              "      <td>NaN</td>\n",
              "      <td>NaN</td>\n",
              "      <td>NaN</td>\n",
              "      <td>NaN</td>\n",
              "      <td>NaN</td>\n",
              "      <td>NaN</td>\n",
              "      <td>NaN</td>\n",
              "      <td>NaN</td>\n",
              "      <td>NaN</td>\n",
              "      <td>NaN</td>\n",
              "      <td>NaN</td>\n",
              "      <td>NaN</td>\n",
              "      <td>NaN</td>\n",
              "      <td>NaN</td>\n",
              "      <td>NaN</td>\n",
              "      <td>NaN</td>\n",
              "      <td>NaN</td>\n",
              "      <td>NaN</td>\n",
              "      <td>NaN</td>\n",
              "      <td>3</td>\n",
              "    </tr>\n",
              "    <tr>\n",
              "      <th>top</th>\n",
              "      <td>NaN</td>\n",
              "      <td>NaN</td>\n",
              "      <td>NaN</td>\n",
              "      <td>NaN</td>\n",
              "      <td>NaN</td>\n",
              "      <td>NaN</td>\n",
              "      <td>NaN</td>\n",
              "      <td>NaN</td>\n",
              "      <td>NaN</td>\n",
              "      <td>NaN</td>\n",
              "      <td>NaN</td>\n",
              "      <td>NaN</td>\n",
              "      <td>NaN</td>\n",
              "      <td>NaN</td>\n",
              "      <td>NaN</td>\n",
              "      <td>NaN</td>\n",
              "      <td>NaN</td>\n",
              "      <td>NaN</td>\n",
              "      <td>NaN</td>\n",
              "      <td>NaN</td>\n",
              "      <td>NaN</td>\n",
              "      <td>NaN</td>\n",
              "      <td>NaN</td>\n",
              "      <td>NaN</td>\n",
              "      <td>NaN</td>\n",
              "      <td>NaN</td>\n",
              "      <td>NaN</td>\n",
              "      <td>NaN</td>\n",
              "      <td>NaN</td>\n",
              "      <td>NaN</td>\n",
              "      <td>NaN</td>\n",
              "      <td>NaN</td>\n",
              "      <td>NaN</td>\n",
              "      <td>NaN</td>\n",
              "      <td>NaN</td>\n",
              "      <td>NaN</td>\n",
              "      <td>Graduate</td>\n",
              "    </tr>\n",
              "    <tr>\n",
              "      <th>freq</th>\n",
              "      <td>NaN</td>\n",
              "      <td>NaN</td>\n",
              "      <td>NaN</td>\n",
              "      <td>NaN</td>\n",
              "      <td>NaN</td>\n",
              "      <td>NaN</td>\n",
              "      <td>NaN</td>\n",
              "      <td>NaN</td>\n",
              "      <td>NaN</td>\n",
              "      <td>NaN</td>\n",
              "      <td>NaN</td>\n",
              "      <td>NaN</td>\n",
              "      <td>NaN</td>\n",
              "      <td>NaN</td>\n",
              "      <td>NaN</td>\n",
              "      <td>NaN</td>\n",
              "      <td>NaN</td>\n",
              "      <td>NaN</td>\n",
              "      <td>NaN</td>\n",
              "      <td>NaN</td>\n",
              "      <td>NaN</td>\n",
              "      <td>NaN</td>\n",
              "      <td>NaN</td>\n",
              "      <td>NaN</td>\n",
              "      <td>NaN</td>\n",
              "      <td>NaN</td>\n",
              "      <td>NaN</td>\n",
              "      <td>NaN</td>\n",
              "      <td>NaN</td>\n",
              "      <td>NaN</td>\n",
              "      <td>NaN</td>\n",
              "      <td>NaN</td>\n",
              "      <td>NaN</td>\n",
              "      <td>NaN</td>\n",
              "      <td>NaN</td>\n",
              "      <td>NaN</td>\n",
              "      <td>2209</td>\n",
              "    </tr>\n",
              "    <tr>\n",
              "      <th>mean</th>\n",
              "      <td>1.178571</td>\n",
              "      <td>18.669078</td>\n",
              "      <td>1.727848</td>\n",
              "      <td>8856.642631</td>\n",
              "      <td>0.890823</td>\n",
              "      <td>4.577758</td>\n",
              "      <td>132.613314</td>\n",
              "      <td>1.873192</td>\n",
              "      <td>19.561935</td>\n",
              "      <td>22.275316</td>\n",
              "      <td>10.960895</td>\n",
              "      <td>11.032324</td>\n",
              "      <td>126.978119</td>\n",
              "      <td>0.548373</td>\n",
              "      <td>0.011528</td>\n",
              "      <td>0.113698</td>\n",
              "      <td>0.880651</td>\n",
              "      <td>0.351718</td>\n",
              "      <td>0.248418</td>\n",
              "      <td>23.265145</td>\n",
              "      <td>0.024864</td>\n",
              "      <td>0.709991</td>\n",
              "      <td>6.270570</td>\n",
              "      <td>8.299051</td>\n",
              "      <td>4.706600</td>\n",
              "      <td>10.640822</td>\n",
              "      <td>0.137658</td>\n",
              "      <td>0.541817</td>\n",
              "      <td>6.232143</td>\n",
              "      <td>8.063291</td>\n",
              "      <td>4.435805</td>\n",
              "      <td>10.230206</td>\n",
              "      <td>0.150316</td>\n",
              "      <td>11.566139</td>\n",
              "      <td>1.228029</td>\n",
              "      <td>0.001969</td>\n",
              "      <td>NaN</td>\n",
              "    </tr>\n",
              "    <tr>\n",
              "      <th>std</th>\n",
              "      <td>0.605747</td>\n",
              "      <td>17.484682</td>\n",
              "      <td>1.313793</td>\n",
              "      <td>2063.566416</td>\n",
              "      <td>0.311897</td>\n",
              "      <td>10.216592</td>\n",
              "      <td>13.188332</td>\n",
              "      <td>6.914514</td>\n",
              "      <td>15.603186</td>\n",
              "      <td>15.343108</td>\n",
              "      <td>26.418253</td>\n",
              "      <td>25.263040</td>\n",
              "      <td>14.482001</td>\n",
              "      <td>0.497711</td>\n",
              "      <td>0.106760</td>\n",
              "      <td>0.317480</td>\n",
              "      <td>0.324235</td>\n",
              "      <td>0.477560</td>\n",
              "      <td>0.432144</td>\n",
              "      <td>7.587816</td>\n",
              "      <td>0.155729</td>\n",
              "      <td>2.360507</td>\n",
              "      <td>2.480178</td>\n",
              "      <td>4.179106</td>\n",
              "      <td>3.094238</td>\n",
              "      <td>4.843663</td>\n",
              "      <td>0.690880</td>\n",
              "      <td>1.918546</td>\n",
              "      <td>2.195951</td>\n",
              "      <td>3.947951</td>\n",
              "      <td>3.014764</td>\n",
              "      <td>5.210808</td>\n",
              "      <td>0.753774</td>\n",
              "      <td>2.663850</td>\n",
              "      <td>1.382711</td>\n",
              "      <td>2.269935</td>\n",
              "      <td>NaN</td>\n",
              "    </tr>\n",
              "    <tr>\n",
              "      <th>min</th>\n",
              "      <td>1.000000</td>\n",
              "      <td>1.000000</td>\n",
              "      <td>0.000000</td>\n",
              "      <td>33.000000</td>\n",
              "      <td>0.000000</td>\n",
              "      <td>1.000000</td>\n",
              "      <td>95.000000</td>\n",
              "      <td>1.000000</td>\n",
              "      <td>1.000000</td>\n",
              "      <td>1.000000</td>\n",
              "      <td>0.000000</td>\n",
              "      <td>0.000000</td>\n",
              "      <td>95.000000</td>\n",
              "      <td>0.000000</td>\n",
              "      <td>0.000000</td>\n",
              "      <td>0.000000</td>\n",
              "      <td>0.000000</td>\n",
              "      <td>0.000000</td>\n",
              "      <td>0.000000</td>\n",
              "      <td>17.000000</td>\n",
              "      <td>0.000000</td>\n",
              "      <td>0.000000</td>\n",
              "      <td>0.000000</td>\n",
              "      <td>0.000000</td>\n",
              "      <td>0.000000</td>\n",
              "      <td>0.000000</td>\n",
              "      <td>0.000000</td>\n",
              "      <td>0.000000</td>\n",
              "      <td>0.000000</td>\n",
              "      <td>0.000000</td>\n",
              "      <td>0.000000</td>\n",
              "      <td>0.000000</td>\n",
              "      <td>0.000000</td>\n",
              "      <td>7.600000</td>\n",
              "      <td>-0.800000</td>\n",
              "      <td>-4.060000</td>\n",
              "      <td>NaN</td>\n",
              "    </tr>\n",
              "    <tr>\n",
              "      <th>25%</th>\n",
              "      <td>1.000000</td>\n",
              "      <td>1.000000</td>\n",
              "      <td>1.000000</td>\n",
              "      <td>9085.000000</td>\n",
              "      <td>1.000000</td>\n",
              "      <td>1.000000</td>\n",
              "      <td>125.000000</td>\n",
              "      <td>1.000000</td>\n",
              "      <td>2.000000</td>\n",
              "      <td>3.000000</td>\n",
              "      <td>4.000000</td>\n",
              "      <td>4.000000</td>\n",
              "      <td>117.900000</td>\n",
              "      <td>0.000000</td>\n",
              "      <td>0.000000</td>\n",
              "      <td>0.000000</td>\n",
              "      <td>1.000000</td>\n",
              "      <td>0.000000</td>\n",
              "      <td>0.000000</td>\n",
              "      <td>19.000000</td>\n",
              "      <td>0.000000</td>\n",
              "      <td>0.000000</td>\n",
              "      <td>5.000000</td>\n",
              "      <td>6.000000</td>\n",
              "      <td>3.000000</td>\n",
              "      <td>11.000000</td>\n",
              "      <td>0.000000</td>\n",
              "      <td>0.000000</td>\n",
              "      <td>5.000000</td>\n",
              "      <td>6.000000</td>\n",
              "      <td>2.000000</td>\n",
              "      <td>10.750000</td>\n",
              "      <td>0.000000</td>\n",
              "      <td>9.400000</td>\n",
              "      <td>0.300000</td>\n",
              "      <td>-1.700000</td>\n",
              "      <td>NaN</td>\n",
              "    </tr>\n",
              "    <tr>\n",
              "      <th>50%</th>\n",
              "      <td>1.000000</td>\n",
              "      <td>17.000000</td>\n",
              "      <td>1.000000</td>\n",
              "      <td>9238.000000</td>\n",
              "      <td>1.000000</td>\n",
              "      <td>1.000000</td>\n",
              "      <td>133.100000</td>\n",
              "      <td>1.000000</td>\n",
              "      <td>19.000000</td>\n",
              "      <td>19.000000</td>\n",
              "      <td>5.000000</td>\n",
              "      <td>7.000000</td>\n",
              "      <td>126.100000</td>\n",
              "      <td>1.000000</td>\n",
              "      <td>0.000000</td>\n",
              "      <td>0.000000</td>\n",
              "      <td>1.000000</td>\n",
              "      <td>0.000000</td>\n",
              "      <td>0.000000</td>\n",
              "      <td>20.000000</td>\n",
              "      <td>0.000000</td>\n",
              "      <td>0.000000</td>\n",
              "      <td>6.000000</td>\n",
              "      <td>8.000000</td>\n",
              "      <td>5.000000</td>\n",
              "      <td>12.285714</td>\n",
              "      <td>0.000000</td>\n",
              "      <td>0.000000</td>\n",
              "      <td>6.000000</td>\n",
              "      <td>8.000000</td>\n",
              "      <td>5.000000</td>\n",
              "      <td>12.200000</td>\n",
              "      <td>0.000000</td>\n",
              "      <td>11.100000</td>\n",
              "      <td>1.400000</td>\n",
              "      <td>0.320000</td>\n",
              "      <td>NaN</td>\n",
              "    </tr>\n",
              "    <tr>\n",
              "      <th>75%</th>\n",
              "      <td>1.000000</td>\n",
              "      <td>39.000000</td>\n",
              "      <td>2.000000</td>\n",
              "      <td>9556.000000</td>\n",
              "      <td>1.000000</td>\n",
              "      <td>1.000000</td>\n",
              "      <td>140.000000</td>\n",
              "      <td>1.000000</td>\n",
              "      <td>37.000000</td>\n",
              "      <td>37.000000</td>\n",
              "      <td>9.000000</td>\n",
              "      <td>9.000000</td>\n",
              "      <td>134.800000</td>\n",
              "      <td>1.000000</td>\n",
              "      <td>0.000000</td>\n",
              "      <td>0.000000</td>\n",
              "      <td>1.000000</td>\n",
              "      <td>1.000000</td>\n",
              "      <td>0.000000</td>\n",
              "      <td>25.000000</td>\n",
              "      <td>0.000000</td>\n",
              "      <td>0.000000</td>\n",
              "      <td>7.000000</td>\n",
              "      <td>10.000000</td>\n",
              "      <td>6.000000</td>\n",
              "      <td>13.400000</td>\n",
              "      <td>0.000000</td>\n",
              "      <td>0.000000</td>\n",
              "      <td>7.000000</td>\n",
              "      <td>10.000000</td>\n",
              "      <td>6.000000</td>\n",
              "      <td>13.333333</td>\n",
              "      <td>0.000000</td>\n",
              "      <td>13.900000</td>\n",
              "      <td>2.600000</td>\n",
              "      <td>1.790000</td>\n",
              "      <td>NaN</td>\n",
              "    </tr>\n",
              "    <tr>\n",
              "      <th>max</th>\n",
              "      <td>6.000000</td>\n",
              "      <td>57.000000</td>\n",
              "      <td>9.000000</td>\n",
              "      <td>9991.000000</td>\n",
              "      <td>1.000000</td>\n",
              "      <td>43.000000</td>\n",
              "      <td>190.000000</td>\n",
              "      <td>109.000000</td>\n",
              "      <td>44.000000</td>\n",
              "      <td>44.000000</td>\n",
              "      <td>194.000000</td>\n",
              "      <td>195.000000</td>\n",
              "      <td>190.000000</td>\n",
              "      <td>1.000000</td>\n",
              "      <td>1.000000</td>\n",
              "      <td>1.000000</td>\n",
              "      <td>1.000000</td>\n",
              "      <td>1.000000</td>\n",
              "      <td>1.000000</td>\n",
              "      <td>70.000000</td>\n",
              "      <td>1.000000</td>\n",
              "      <td>20.000000</td>\n",
              "      <td>26.000000</td>\n",
              "      <td>45.000000</td>\n",
              "      <td>26.000000</td>\n",
              "      <td>18.875000</td>\n",
              "      <td>12.000000</td>\n",
              "      <td>19.000000</td>\n",
              "      <td>23.000000</td>\n",
              "      <td>33.000000</td>\n",
              "      <td>20.000000</td>\n",
              "      <td>18.571429</td>\n",
              "      <td>12.000000</td>\n",
              "      <td>16.200000</td>\n",
              "      <td>3.700000</td>\n",
              "      <td>3.510000</td>\n",
              "      <td>NaN</td>\n",
              "    </tr>\n",
              "  </tbody>\n",
              "</table>\n",
              "</div>\n",
              "      <button class=\"colab-df-convert\" onclick=\"convertToInteractive('df-0d2b07e8-424a-408c-81cd-d408ef195880')\"\n",
              "              title=\"Convert this dataframe to an interactive table.\"\n",
              "              style=\"display:none;\">\n",
              "        \n",
              "  <svg xmlns=\"http://www.w3.org/2000/svg\" height=\"24px\"viewBox=\"0 0 24 24\"\n",
              "       width=\"24px\">\n",
              "    <path d=\"M0 0h24v24H0V0z\" fill=\"none\"/>\n",
              "    <path d=\"M18.56 5.44l.94 2.06.94-2.06 2.06-.94-2.06-.94-.94-2.06-.94 2.06-2.06.94zm-11 1L8.5 8.5l.94-2.06 2.06-.94-2.06-.94L8.5 2.5l-.94 2.06-2.06.94zm10 10l.94 2.06.94-2.06 2.06-.94-2.06-.94-.94-2.06-.94 2.06-2.06.94z\"/><path d=\"M17.41 7.96l-1.37-1.37c-.4-.4-.92-.59-1.43-.59-.52 0-1.04.2-1.43.59L10.3 9.45l-7.72 7.72c-.78.78-.78 2.05 0 2.83L4 21.41c.39.39.9.59 1.41.59.51 0 1.02-.2 1.41-.59l7.78-7.78 2.81-2.81c.8-.78.8-2.07 0-2.86zM5.41 20L4 18.59l7.72-7.72 1.47 1.35L5.41 20z\"/>\n",
              "  </svg>\n",
              "      </button>\n",
              "      \n",
              "  <style>\n",
              "    .colab-df-container {\n",
              "      display:flex;\n",
              "      flex-wrap:wrap;\n",
              "      gap: 12px;\n",
              "    }\n",
              "\n",
              "    .colab-df-convert {\n",
              "      background-color: #E8F0FE;\n",
              "      border: none;\n",
              "      border-radius: 50%;\n",
              "      cursor: pointer;\n",
              "      display: none;\n",
              "      fill: #1967D2;\n",
              "      height: 32px;\n",
              "      padding: 0 0 0 0;\n",
              "      width: 32px;\n",
              "    }\n",
              "\n",
              "    .colab-df-convert:hover {\n",
              "      background-color: #E2EBFA;\n",
              "      box-shadow: 0px 1px 2px rgba(60, 64, 67, 0.3), 0px 1px 3px 1px rgba(60, 64, 67, 0.15);\n",
              "      fill: #174EA6;\n",
              "    }\n",
              "\n",
              "    [theme=dark] .colab-df-convert {\n",
              "      background-color: #3B4455;\n",
              "      fill: #D2E3FC;\n",
              "    }\n",
              "\n",
              "    [theme=dark] .colab-df-convert:hover {\n",
              "      background-color: #434B5C;\n",
              "      box-shadow: 0px 1px 3px 1px rgba(0, 0, 0, 0.15);\n",
              "      filter: drop-shadow(0px 1px 2px rgba(0, 0, 0, 0.3));\n",
              "      fill: #FFFFFF;\n",
              "    }\n",
              "  </style>\n",
              "\n",
              "      <script>\n",
              "        const buttonEl =\n",
              "          document.querySelector('#df-0d2b07e8-424a-408c-81cd-d408ef195880 button.colab-df-convert');\n",
              "        buttonEl.style.display =\n",
              "          google.colab.kernel.accessAllowed ? 'block' : 'none';\n",
              "\n",
              "        async function convertToInteractive(key) {\n",
              "          const element = document.querySelector('#df-0d2b07e8-424a-408c-81cd-d408ef195880');\n",
              "          const dataTable =\n",
              "            await google.colab.kernel.invokeFunction('convertToInteractive',\n",
              "                                                     [key], {});\n",
              "          if (!dataTable) return;\n",
              "\n",
              "          const docLinkHtml = 'Like what you see? Visit the ' +\n",
              "            '<a target=\"_blank\" href=https://colab.research.google.com/notebooks/data_table.ipynb>data table notebook</a>'\n",
              "            + ' to learn more about interactive tables.';\n",
              "          element.innerHTML = '';\n",
              "          dataTable['output_type'] = 'display_data';\n",
              "          await google.colab.output.renderOutput(dataTable, element);\n",
              "          const docLink = document.createElement('div');\n",
              "          docLink.innerHTML = docLinkHtml;\n",
              "          element.appendChild(docLink);\n",
              "        }\n",
              "      </script>\n",
              "    </div>\n",
              "  </div>\n",
              "  "
            ]
          },
          "metadata": {},
          "execution_count": 9
        }
      ]
    },
    {
      "cell_type": "code",
      "source": [
        "#There are only a couple continous variables in the dataset.  Everything else is \n",
        "#categorical nominal / ordinal\n",
        "obj_cols = df.drop(columns=['Previous qualification (grade)','Admission grade', \n",
        "                            'Curricular units 1st sem (grade)', \n",
        "                            'Curricular units 2nd sem (grade)', \n",
        "                            'Unemployment rate', 'Inflation rate', 'GDP'])\n",
        "\n",
        "#Convert the object columns to type(object)\n",
        "for col in obj_cols:\n",
        "  df[col]=df[col].astype('object')\n",
        "\n",
        "#recreate this variable with the proper data types\n",
        "obj_cols = df.drop(columns=['Previous qualification (grade)','Admission grade',\n",
        "                            'Curricular units 1st sem (grade)', \n",
        "                            'Curricular units 2nd sem (grade)', \n",
        "                            'Unemployment rate', 'Inflation rate', 'GDP'])\n"
      ],
      "metadata": {
        "id": "3QZfTUbHMlOb"
      },
      "execution_count": 10,
      "outputs": []
    },
    {
      "cell_type": "code",
      "source": [
        "#Check the datatypes\n",
        "df.info()"
      ],
      "metadata": {
        "colab": {
          "base_uri": "https://localhost:8080/"
        },
        "id": "RMrruw1QOnNF",
        "outputId": "598f66ec-7cd8-4f42-b2a2-90619ae934b3"
      },
      "execution_count": 11,
      "outputs": [
        {
          "output_type": "stream",
          "name": "stdout",
          "text": [
            "<class 'pandas.core.frame.DataFrame'>\n",
            "RangeIndex: 4424 entries, 0 to 4423\n",
            "Data columns (total 37 columns):\n",
            " #   Column                                          Non-Null Count  Dtype  \n",
            "---  ------                                          --------------  -----  \n",
            " 0   Marital status                                  4424 non-null   object \n",
            " 1   Application mode                                4424 non-null   object \n",
            " 2   Application order                               4424 non-null   object \n",
            " 3   Course                                          4424 non-null   object \n",
            " 4   Daytime/evening attendance                      4424 non-null   object \n",
            " 5   Previous qualification                          4424 non-null   object \n",
            " 6   Previous qualification (grade)                  4424 non-null   float64\n",
            " 7   Nacionality                                     4424 non-null   object \n",
            " 8   Mother's qualification                          4424 non-null   object \n",
            " 9   Father's qualification                          4424 non-null   object \n",
            " 10  Mother's occupation                             4424 non-null   object \n",
            " 11  Father's occupation                             4424 non-null   object \n",
            " 12  Admission grade                                 4424 non-null   float64\n",
            " 13  Displaced                                       4424 non-null   object \n",
            " 14  Educational special needs                       4424 non-null   object \n",
            " 15  Debtor                                          4424 non-null   object \n",
            " 16  Tuition fees up to date                         4424 non-null   object \n",
            " 17  Gender                                          4424 non-null   object \n",
            " 18  Scholarship holder                              4424 non-null   object \n",
            " 19  Age at enrollment                               4424 non-null   object \n",
            " 20  International                                   4424 non-null   object \n",
            " 21  Curricular units 1st sem (credited)             4424 non-null   object \n",
            " 22  Curricular units 1st sem (enrolled)             4424 non-null   object \n",
            " 23  Curricular units 1st sem (evaluations)          4424 non-null   object \n",
            " 24  Curricular units 1st sem (approved)             4424 non-null   object \n",
            " 25  Curricular units 1st sem (grade)                4424 non-null   float64\n",
            " 26  Curricular units 1st sem (without evaluations)  4424 non-null   object \n",
            " 27  Curricular units 2nd sem (credited)             4424 non-null   object \n",
            " 28  Curricular units 2nd sem (enrolled)             4424 non-null   object \n",
            " 29  Curricular units 2nd sem (evaluations)          4424 non-null   object \n",
            " 30  Curricular units 2nd sem (approved)             4424 non-null   object \n",
            " 31  Curricular units 2nd sem (grade)                4424 non-null   float64\n",
            " 32  Curricular units 2nd sem (without evaluations)  4424 non-null   object \n",
            " 33  Unemployment rate                               4424 non-null   float64\n",
            " 34  Inflation rate                                  4424 non-null   float64\n",
            " 35  GDP                                             4424 non-null   float64\n",
            " 36  Target                                          4424 non-null   object \n",
            "dtypes: float64(7), object(30)\n",
            "memory usage: 1.2+ MB\n"
          ]
        }
      ]
    },
    {
      "cell_type": "code",
      "source": [
        "#Ordinal columns.  These will need Ordinal encoding\n",
        "ord_cols = df[[\"Application order\"]]\n",
        "\n",
        "#Numerical Columns\n",
        "num_cols = df.select_dtypes(include='number')"
      ],
      "metadata": {
        "id": "SxF-aoHqT01H"
      },
      "execution_count": 12,
      "outputs": []
    },
    {
      "cell_type": "markdown",
      "source": [
        "### Drop unnecessary rows\n",
        "I am interested in the subset of students that dropped out or graduated.  I don't really get much information from the students who are currently enrolled.  This is a classification problem and classifying a student as enrolled doesn't really help us.  Drop these rows"
      ],
      "metadata": {
        "id": "OnTOKBDySUxT"
      }
    },
    {
      "cell_type": "code",
      "source": [
        "df = df.loc[df['Target']!='Enrolled']\n",
        "df.shape"
      ],
      "metadata": {
        "colab": {
          "base_uri": "https://localhost:8080/"
        },
        "id": "Mcc4NJZgTCn0",
        "outputId": "6751ebba-e73e-4d3d-eff3-89669f8257e8"
      },
      "execution_count": 13,
      "outputs": [
        {
          "output_type": "execute_result",
          "data": {
            "text/plain": [
              "(3630, 37)"
            ]
          },
          "metadata": {},
          "execution_count": 13
        }
      ]
    },
    {
      "cell_type": "markdown",
      "source": [
        "> Dropping the currently enrolled students reduces my dataset from 4424 to 3630 entries."
      ],
      "metadata": {
        "id": "bI1YNXaPZJFI"
      }
    },
    {
      "cell_type": "markdown",
      "source": [
        "##Numeric Data Inspection"
      ],
      "metadata": {
        "id": "J7LegK-44RYG"
      }
    },
    {
      "cell_type": "code",
      "source": [
        "num_cols.describe()"
      ],
      "metadata": {
        "colab": {
          "base_uri": "https://localhost:8080/",
          "height": 300
        },
        "id": "gW1ECU3yyCpo",
        "outputId": "7b1426f4-f796-4517-bb09-d6839fdf3244"
      },
      "execution_count": 14,
      "outputs": [
        {
          "output_type": "execute_result",
          "data": {
            "text/plain": [
              "       Previous qualification (grade)  Admission grade  \\\n",
              "count                     4424.000000      4424.000000   \n",
              "mean                       132.613314       126.978119   \n",
              "std                         13.188332        14.482001   \n",
              "min                         95.000000        95.000000   \n",
              "25%                        125.000000       117.900000   \n",
              "50%                        133.100000       126.100000   \n",
              "75%                        140.000000       134.800000   \n",
              "max                        190.000000       190.000000   \n",
              "\n",
              "       Curricular units 1st sem (grade)  Curricular units 2nd sem (grade)  \\\n",
              "count                       4424.000000                       4424.000000   \n",
              "mean                          10.640822                         10.230206   \n",
              "std                            4.843663                          5.210808   \n",
              "min                            0.000000                          0.000000   \n",
              "25%                           11.000000                         10.750000   \n",
              "50%                           12.285714                         12.200000   \n",
              "75%                           13.400000                         13.333333   \n",
              "max                           18.875000                         18.571429   \n",
              "\n",
              "       Unemployment rate  Inflation rate          GDP  \n",
              "count        4424.000000     4424.000000  4424.000000  \n",
              "mean           11.566139        1.228029     0.001969  \n",
              "std             2.663850        1.382711     2.269935  \n",
              "min             7.600000       -0.800000    -4.060000  \n",
              "25%             9.400000        0.300000    -1.700000  \n",
              "50%            11.100000        1.400000     0.320000  \n",
              "75%            13.900000        2.600000     1.790000  \n",
              "max            16.200000        3.700000     3.510000  "
            ],
            "text/html": [
              "\n",
              "  <div id=\"df-d074879b-e93a-42a4-bd90-4a07b5868c99\">\n",
              "    <div class=\"colab-df-container\">\n",
              "      <div>\n",
              "<style scoped>\n",
              "    .dataframe tbody tr th:only-of-type {\n",
              "        vertical-align: middle;\n",
              "    }\n",
              "\n",
              "    .dataframe tbody tr th {\n",
              "        vertical-align: top;\n",
              "    }\n",
              "\n",
              "    .dataframe thead th {\n",
              "        text-align: right;\n",
              "    }\n",
              "</style>\n",
              "<table border=\"1\" class=\"dataframe\">\n",
              "  <thead>\n",
              "    <tr style=\"text-align: right;\">\n",
              "      <th></th>\n",
              "      <th>Previous qualification (grade)</th>\n",
              "      <th>Admission grade</th>\n",
              "      <th>Curricular units 1st sem (grade)</th>\n",
              "      <th>Curricular units 2nd sem (grade)</th>\n",
              "      <th>Unemployment rate</th>\n",
              "      <th>Inflation rate</th>\n",
              "      <th>GDP</th>\n",
              "    </tr>\n",
              "  </thead>\n",
              "  <tbody>\n",
              "    <tr>\n",
              "      <th>count</th>\n",
              "      <td>4424.000000</td>\n",
              "      <td>4424.000000</td>\n",
              "      <td>4424.000000</td>\n",
              "      <td>4424.000000</td>\n",
              "      <td>4424.000000</td>\n",
              "      <td>4424.000000</td>\n",
              "      <td>4424.000000</td>\n",
              "    </tr>\n",
              "    <tr>\n",
              "      <th>mean</th>\n",
              "      <td>132.613314</td>\n",
              "      <td>126.978119</td>\n",
              "      <td>10.640822</td>\n",
              "      <td>10.230206</td>\n",
              "      <td>11.566139</td>\n",
              "      <td>1.228029</td>\n",
              "      <td>0.001969</td>\n",
              "    </tr>\n",
              "    <tr>\n",
              "      <th>std</th>\n",
              "      <td>13.188332</td>\n",
              "      <td>14.482001</td>\n",
              "      <td>4.843663</td>\n",
              "      <td>5.210808</td>\n",
              "      <td>2.663850</td>\n",
              "      <td>1.382711</td>\n",
              "      <td>2.269935</td>\n",
              "    </tr>\n",
              "    <tr>\n",
              "      <th>min</th>\n",
              "      <td>95.000000</td>\n",
              "      <td>95.000000</td>\n",
              "      <td>0.000000</td>\n",
              "      <td>0.000000</td>\n",
              "      <td>7.600000</td>\n",
              "      <td>-0.800000</td>\n",
              "      <td>-4.060000</td>\n",
              "    </tr>\n",
              "    <tr>\n",
              "      <th>25%</th>\n",
              "      <td>125.000000</td>\n",
              "      <td>117.900000</td>\n",
              "      <td>11.000000</td>\n",
              "      <td>10.750000</td>\n",
              "      <td>9.400000</td>\n",
              "      <td>0.300000</td>\n",
              "      <td>-1.700000</td>\n",
              "    </tr>\n",
              "    <tr>\n",
              "      <th>50%</th>\n",
              "      <td>133.100000</td>\n",
              "      <td>126.100000</td>\n",
              "      <td>12.285714</td>\n",
              "      <td>12.200000</td>\n",
              "      <td>11.100000</td>\n",
              "      <td>1.400000</td>\n",
              "      <td>0.320000</td>\n",
              "    </tr>\n",
              "    <tr>\n",
              "      <th>75%</th>\n",
              "      <td>140.000000</td>\n",
              "      <td>134.800000</td>\n",
              "      <td>13.400000</td>\n",
              "      <td>13.333333</td>\n",
              "      <td>13.900000</td>\n",
              "      <td>2.600000</td>\n",
              "      <td>1.790000</td>\n",
              "    </tr>\n",
              "    <tr>\n",
              "      <th>max</th>\n",
              "      <td>190.000000</td>\n",
              "      <td>190.000000</td>\n",
              "      <td>18.875000</td>\n",
              "      <td>18.571429</td>\n",
              "      <td>16.200000</td>\n",
              "      <td>3.700000</td>\n",
              "      <td>3.510000</td>\n",
              "    </tr>\n",
              "  </tbody>\n",
              "</table>\n",
              "</div>\n",
              "      <button class=\"colab-df-convert\" onclick=\"convertToInteractive('df-d074879b-e93a-42a4-bd90-4a07b5868c99')\"\n",
              "              title=\"Convert this dataframe to an interactive table.\"\n",
              "              style=\"display:none;\">\n",
              "        \n",
              "  <svg xmlns=\"http://www.w3.org/2000/svg\" height=\"24px\"viewBox=\"0 0 24 24\"\n",
              "       width=\"24px\">\n",
              "    <path d=\"M0 0h24v24H0V0z\" fill=\"none\"/>\n",
              "    <path d=\"M18.56 5.44l.94 2.06.94-2.06 2.06-.94-2.06-.94-.94-2.06-.94 2.06-2.06.94zm-11 1L8.5 8.5l.94-2.06 2.06-.94-2.06-.94L8.5 2.5l-.94 2.06-2.06.94zm10 10l.94 2.06.94-2.06 2.06-.94-2.06-.94-.94-2.06-.94 2.06-2.06.94z\"/><path d=\"M17.41 7.96l-1.37-1.37c-.4-.4-.92-.59-1.43-.59-.52 0-1.04.2-1.43.59L10.3 9.45l-7.72 7.72c-.78.78-.78 2.05 0 2.83L4 21.41c.39.39.9.59 1.41.59.51 0 1.02-.2 1.41-.59l7.78-7.78 2.81-2.81c.8-.78.8-2.07 0-2.86zM5.41 20L4 18.59l7.72-7.72 1.47 1.35L5.41 20z\"/>\n",
              "  </svg>\n",
              "      </button>\n",
              "      \n",
              "  <style>\n",
              "    .colab-df-container {\n",
              "      display:flex;\n",
              "      flex-wrap:wrap;\n",
              "      gap: 12px;\n",
              "    }\n",
              "\n",
              "    .colab-df-convert {\n",
              "      background-color: #E8F0FE;\n",
              "      border: none;\n",
              "      border-radius: 50%;\n",
              "      cursor: pointer;\n",
              "      display: none;\n",
              "      fill: #1967D2;\n",
              "      height: 32px;\n",
              "      padding: 0 0 0 0;\n",
              "      width: 32px;\n",
              "    }\n",
              "\n",
              "    .colab-df-convert:hover {\n",
              "      background-color: #E2EBFA;\n",
              "      box-shadow: 0px 1px 2px rgba(60, 64, 67, 0.3), 0px 1px 3px 1px rgba(60, 64, 67, 0.15);\n",
              "      fill: #174EA6;\n",
              "    }\n",
              "\n",
              "    [theme=dark] .colab-df-convert {\n",
              "      background-color: #3B4455;\n",
              "      fill: #D2E3FC;\n",
              "    }\n",
              "\n",
              "    [theme=dark] .colab-df-convert:hover {\n",
              "      background-color: #434B5C;\n",
              "      box-shadow: 0px 1px 3px 1px rgba(0, 0, 0, 0.15);\n",
              "      filter: drop-shadow(0px 1px 2px rgba(0, 0, 0, 0.3));\n",
              "      fill: #FFFFFF;\n",
              "    }\n",
              "  </style>\n",
              "\n",
              "      <script>\n",
              "        const buttonEl =\n",
              "          document.querySelector('#df-d074879b-e93a-42a4-bd90-4a07b5868c99 button.colab-df-convert');\n",
              "        buttonEl.style.display =\n",
              "          google.colab.kernel.accessAllowed ? 'block' : 'none';\n",
              "\n",
              "        async function convertToInteractive(key) {\n",
              "          const element = document.querySelector('#df-d074879b-e93a-42a4-bd90-4a07b5868c99');\n",
              "          const dataTable =\n",
              "            await google.colab.kernel.invokeFunction('convertToInteractive',\n",
              "                                                     [key], {});\n",
              "          if (!dataTable) return;\n",
              "\n",
              "          const docLinkHtml = 'Like what you see? Visit the ' +\n",
              "            '<a target=\"_blank\" href=https://colab.research.google.com/notebooks/data_table.ipynb>data table notebook</a>'\n",
              "            + ' to learn more about interactive tables.';\n",
              "          element.innerHTML = '';\n",
              "          dataTable['output_type'] = 'display_data';\n",
              "          await google.colab.output.renderOutput(dataTable, element);\n",
              "          const docLink = document.createElement('div');\n",
              "          docLink.innerHTML = docLinkHtml;\n",
              "          element.appendChild(docLink);\n",
              "        }\n",
              "      </script>\n",
              "    </div>\n",
              "  </div>\n",
              "  "
            ]
          },
          "metadata": {},
          "execution_count": 14
        }
      ]
    },
    {
      "cell_type": "markdown",
      "source": [
        "For the numeric columns I look for obvious outliers, like ages over 122, etc. In this case we know that the ranges `Previous qualification (grade)` and `Admission grade` are between 0 and 200 (see Data Dictionary).  \n",
        "\n",
        ">No out of range entries. \n",
        "\n",
        "We know that the both `Unemployment rate` and `Inflation rate` are percentages(%), but we don't have a sense for the quality of the data or its proper ranges without speaking with a SME.  We have no units on `GDP` so again a SME is needed for clarifiation"
      ],
      "metadata": {
        "id": "dApIP3uywTqh"
      }
    },
    {
      "cell_type": "markdown",
      "source": [
        "##Categorical Inspection\n",
        "For categorical columns we have to look for inconsistancies in entries.  Since this data has been encoded to integers, I have to:\n",
        "- [x] Check that the number of unique entries matches the options in the Data Dictionary. (i.e. find the length of the dictonary for each encoder)\n",
        "- [x] Need to review for omissions and typos"
      ],
      "metadata": {
        "id": "JUTUCSZ34OAB"
      }
    },
    {
      "cell_type": "code",
      "source": [
        "obj_cols.describe()"
      ],
      "metadata": {
        "colab": {
          "base_uri": "https://localhost:8080/",
          "height": 291
        },
        "id": "E0PZv-d-QSLi",
        "outputId": "47789d8d-45c0-4485-ce4f-f4dea4926251"
      },
      "execution_count": 15,
      "outputs": [
        {
          "output_type": "execute_result",
          "data": {
            "text/plain": [
              "        Marital status  Application mode  Application order  Course  \\\n",
              "count             4424              4424               4424    4424   \n",
              "unique               6                18                  8      17   \n",
              "top                  1                 1                  1    9500   \n",
              "freq              3919              1708               3026     766   \n",
              "\n",
              "        Daytime/evening attendance  Previous qualification  Nacionality  \\\n",
              "count                         4424                    4424         4424   \n",
              "unique                           2                      17           21   \n",
              "top                              1                       1            1   \n",
              "freq                          3941                    3717         4314   \n",
              "\n",
              "        Mother's qualification  Father's qualification  Mother's occupation  \\\n",
              "count                     4424                    4424                 4424   \n",
              "unique                      29                      34                   32   \n",
              "top                          1                      37                    9   \n",
              "freq                      1069                    1209                 1577   \n",
              "\n",
              "        Father's occupation  Displaced  Educational special needs  Debtor  \\\n",
              "count                  4424       4424                       4424    4424   \n",
              "unique                   46          2                          2       2   \n",
              "top                       9          1                          0       0   \n",
              "freq                   1010       2426                       4373    3921   \n",
              "\n",
              "        Tuition fees up to date  Gender  Scholarship holder  \\\n",
              "count                      4424    4424                4424   \n",
              "unique                        2       2                   2   \n",
              "top                           1       0                   0   \n",
              "freq                       3896    2868                3325   \n",
              "\n",
              "        Age at enrollment  International  Curricular units 1st sem (credited)  \\\n",
              "count                4424           4424                                 4424   \n",
              "unique                 46              2                                   21   \n",
              "top                    18              0                                    0   \n",
              "freq                 1036           4314                                 3847   \n",
              "\n",
              "        Curricular units 1st sem (enrolled)  \\\n",
              "count                                  4424   \n",
              "unique                                   23   \n",
              "top                                       6   \n",
              "freq                                   1910   \n",
              "\n",
              "        Curricular units 1st sem (evaluations)  \\\n",
              "count                                     4424   \n",
              "unique                                      35   \n",
              "top                                          8   \n",
              "freq                                       791   \n",
              "\n",
              "        Curricular units 1st sem (approved)  \\\n",
              "count                                  4424   \n",
              "unique                                   23   \n",
              "top                                       6   \n",
              "freq                                   1171   \n",
              "\n",
              "        Curricular units 1st sem (without evaluations)  \\\n",
              "count                                             4424   \n",
              "unique                                              11   \n",
              "top                                                  0   \n",
              "freq                                              4130   \n",
              "\n",
              "        Curricular units 2nd sem (credited)  \\\n",
              "count                                  4424   \n",
              "unique                                   19   \n",
              "top                                       0   \n",
              "freq                                   3894   \n",
              "\n",
              "        Curricular units 2nd sem (enrolled)  \\\n",
              "count                                  4424   \n",
              "unique                                   22   \n",
              "top                                       6   \n",
              "freq                                   1913   \n",
              "\n",
              "        Curricular units 2nd sem (evaluations)  \\\n",
              "count                                     4424   \n",
              "unique                                      30   \n",
              "top                                          8   \n",
              "freq                                       792   \n",
              "\n",
              "        Curricular units 2nd sem (approved)  \\\n",
              "count                                  4424   \n",
              "unique                                   20   \n",
              "top                                       6   \n",
              "freq                                    965   \n",
              "\n",
              "        Curricular units 2nd sem (without evaluations)    Target  \n",
              "count                                             4424      4424  \n",
              "unique                                              10         3  \n",
              "top                                                  0  Graduate  \n",
              "freq                                              4142      2209  "
            ],
            "text/html": [
              "\n",
              "  <div id=\"df-0373b83a-460a-4c8e-ba49-1b1cb1c5f730\">\n",
              "    <div class=\"colab-df-container\">\n",
              "      <div>\n",
              "<style scoped>\n",
              "    .dataframe tbody tr th:only-of-type {\n",
              "        vertical-align: middle;\n",
              "    }\n",
              "\n",
              "    .dataframe tbody tr th {\n",
              "        vertical-align: top;\n",
              "    }\n",
              "\n",
              "    .dataframe thead th {\n",
              "        text-align: right;\n",
              "    }\n",
              "</style>\n",
              "<table border=\"1\" class=\"dataframe\">\n",
              "  <thead>\n",
              "    <tr style=\"text-align: right;\">\n",
              "      <th></th>\n",
              "      <th>Marital status</th>\n",
              "      <th>Application mode</th>\n",
              "      <th>Application order</th>\n",
              "      <th>Course</th>\n",
              "      <th>Daytime/evening attendance</th>\n",
              "      <th>Previous qualification</th>\n",
              "      <th>Nacionality</th>\n",
              "      <th>Mother's qualification</th>\n",
              "      <th>Father's qualification</th>\n",
              "      <th>Mother's occupation</th>\n",
              "      <th>Father's occupation</th>\n",
              "      <th>Displaced</th>\n",
              "      <th>Educational special needs</th>\n",
              "      <th>Debtor</th>\n",
              "      <th>Tuition fees up to date</th>\n",
              "      <th>Gender</th>\n",
              "      <th>Scholarship holder</th>\n",
              "      <th>Age at enrollment</th>\n",
              "      <th>International</th>\n",
              "      <th>Curricular units 1st sem (credited)</th>\n",
              "      <th>Curricular units 1st sem (enrolled)</th>\n",
              "      <th>Curricular units 1st sem (evaluations)</th>\n",
              "      <th>Curricular units 1st sem (approved)</th>\n",
              "      <th>Curricular units 1st sem (without evaluations)</th>\n",
              "      <th>Curricular units 2nd sem (credited)</th>\n",
              "      <th>Curricular units 2nd sem (enrolled)</th>\n",
              "      <th>Curricular units 2nd sem (evaluations)</th>\n",
              "      <th>Curricular units 2nd sem (approved)</th>\n",
              "      <th>Curricular units 2nd sem (without evaluations)</th>\n",
              "      <th>Target</th>\n",
              "    </tr>\n",
              "  </thead>\n",
              "  <tbody>\n",
              "    <tr>\n",
              "      <th>count</th>\n",
              "      <td>4424</td>\n",
              "      <td>4424</td>\n",
              "      <td>4424</td>\n",
              "      <td>4424</td>\n",
              "      <td>4424</td>\n",
              "      <td>4424</td>\n",
              "      <td>4424</td>\n",
              "      <td>4424</td>\n",
              "      <td>4424</td>\n",
              "      <td>4424</td>\n",
              "      <td>4424</td>\n",
              "      <td>4424</td>\n",
              "      <td>4424</td>\n",
              "      <td>4424</td>\n",
              "      <td>4424</td>\n",
              "      <td>4424</td>\n",
              "      <td>4424</td>\n",
              "      <td>4424</td>\n",
              "      <td>4424</td>\n",
              "      <td>4424</td>\n",
              "      <td>4424</td>\n",
              "      <td>4424</td>\n",
              "      <td>4424</td>\n",
              "      <td>4424</td>\n",
              "      <td>4424</td>\n",
              "      <td>4424</td>\n",
              "      <td>4424</td>\n",
              "      <td>4424</td>\n",
              "      <td>4424</td>\n",
              "      <td>4424</td>\n",
              "    </tr>\n",
              "    <tr>\n",
              "      <th>unique</th>\n",
              "      <td>6</td>\n",
              "      <td>18</td>\n",
              "      <td>8</td>\n",
              "      <td>17</td>\n",
              "      <td>2</td>\n",
              "      <td>17</td>\n",
              "      <td>21</td>\n",
              "      <td>29</td>\n",
              "      <td>34</td>\n",
              "      <td>32</td>\n",
              "      <td>46</td>\n",
              "      <td>2</td>\n",
              "      <td>2</td>\n",
              "      <td>2</td>\n",
              "      <td>2</td>\n",
              "      <td>2</td>\n",
              "      <td>2</td>\n",
              "      <td>46</td>\n",
              "      <td>2</td>\n",
              "      <td>21</td>\n",
              "      <td>23</td>\n",
              "      <td>35</td>\n",
              "      <td>23</td>\n",
              "      <td>11</td>\n",
              "      <td>19</td>\n",
              "      <td>22</td>\n",
              "      <td>30</td>\n",
              "      <td>20</td>\n",
              "      <td>10</td>\n",
              "      <td>3</td>\n",
              "    </tr>\n",
              "    <tr>\n",
              "      <th>top</th>\n",
              "      <td>1</td>\n",
              "      <td>1</td>\n",
              "      <td>1</td>\n",
              "      <td>9500</td>\n",
              "      <td>1</td>\n",
              "      <td>1</td>\n",
              "      <td>1</td>\n",
              "      <td>1</td>\n",
              "      <td>37</td>\n",
              "      <td>9</td>\n",
              "      <td>9</td>\n",
              "      <td>1</td>\n",
              "      <td>0</td>\n",
              "      <td>0</td>\n",
              "      <td>1</td>\n",
              "      <td>0</td>\n",
              "      <td>0</td>\n",
              "      <td>18</td>\n",
              "      <td>0</td>\n",
              "      <td>0</td>\n",
              "      <td>6</td>\n",
              "      <td>8</td>\n",
              "      <td>6</td>\n",
              "      <td>0</td>\n",
              "      <td>0</td>\n",
              "      <td>6</td>\n",
              "      <td>8</td>\n",
              "      <td>6</td>\n",
              "      <td>0</td>\n",
              "      <td>Graduate</td>\n",
              "    </tr>\n",
              "    <tr>\n",
              "      <th>freq</th>\n",
              "      <td>3919</td>\n",
              "      <td>1708</td>\n",
              "      <td>3026</td>\n",
              "      <td>766</td>\n",
              "      <td>3941</td>\n",
              "      <td>3717</td>\n",
              "      <td>4314</td>\n",
              "      <td>1069</td>\n",
              "      <td>1209</td>\n",
              "      <td>1577</td>\n",
              "      <td>1010</td>\n",
              "      <td>2426</td>\n",
              "      <td>4373</td>\n",
              "      <td>3921</td>\n",
              "      <td>3896</td>\n",
              "      <td>2868</td>\n",
              "      <td>3325</td>\n",
              "      <td>1036</td>\n",
              "      <td>4314</td>\n",
              "      <td>3847</td>\n",
              "      <td>1910</td>\n",
              "      <td>791</td>\n",
              "      <td>1171</td>\n",
              "      <td>4130</td>\n",
              "      <td>3894</td>\n",
              "      <td>1913</td>\n",
              "      <td>792</td>\n",
              "      <td>965</td>\n",
              "      <td>4142</td>\n",
              "      <td>2209</td>\n",
              "    </tr>\n",
              "  </tbody>\n",
              "</table>\n",
              "</div>\n",
              "      <button class=\"colab-df-convert\" onclick=\"convertToInteractive('df-0373b83a-460a-4c8e-ba49-1b1cb1c5f730')\"\n",
              "              title=\"Convert this dataframe to an interactive table.\"\n",
              "              style=\"display:none;\">\n",
              "        \n",
              "  <svg xmlns=\"http://www.w3.org/2000/svg\" height=\"24px\"viewBox=\"0 0 24 24\"\n",
              "       width=\"24px\">\n",
              "    <path d=\"M0 0h24v24H0V0z\" fill=\"none\"/>\n",
              "    <path d=\"M18.56 5.44l.94 2.06.94-2.06 2.06-.94-2.06-.94-.94-2.06-.94 2.06-2.06.94zm-11 1L8.5 8.5l.94-2.06 2.06-.94-2.06-.94L8.5 2.5l-.94 2.06-2.06.94zm10 10l.94 2.06.94-2.06 2.06-.94-2.06-.94-.94-2.06-.94 2.06-2.06.94z\"/><path d=\"M17.41 7.96l-1.37-1.37c-.4-.4-.92-.59-1.43-.59-.52 0-1.04.2-1.43.59L10.3 9.45l-7.72 7.72c-.78.78-.78 2.05 0 2.83L4 21.41c.39.39.9.59 1.41.59.51 0 1.02-.2 1.41-.59l7.78-7.78 2.81-2.81c.8-.78.8-2.07 0-2.86zM5.41 20L4 18.59l7.72-7.72 1.47 1.35L5.41 20z\"/>\n",
              "  </svg>\n",
              "      </button>\n",
              "      \n",
              "  <style>\n",
              "    .colab-df-container {\n",
              "      display:flex;\n",
              "      flex-wrap:wrap;\n",
              "      gap: 12px;\n",
              "    }\n",
              "\n",
              "    .colab-df-convert {\n",
              "      background-color: #E8F0FE;\n",
              "      border: none;\n",
              "      border-radius: 50%;\n",
              "      cursor: pointer;\n",
              "      display: none;\n",
              "      fill: #1967D2;\n",
              "      height: 32px;\n",
              "      padding: 0 0 0 0;\n",
              "      width: 32px;\n",
              "    }\n",
              "\n",
              "    .colab-df-convert:hover {\n",
              "      background-color: #E2EBFA;\n",
              "      box-shadow: 0px 1px 2px rgba(60, 64, 67, 0.3), 0px 1px 3px 1px rgba(60, 64, 67, 0.15);\n",
              "      fill: #174EA6;\n",
              "    }\n",
              "\n",
              "    [theme=dark] .colab-df-convert {\n",
              "      background-color: #3B4455;\n",
              "      fill: #D2E3FC;\n",
              "    }\n",
              "\n",
              "    [theme=dark] .colab-df-convert:hover {\n",
              "      background-color: #434B5C;\n",
              "      box-shadow: 0px 1px 3px 1px rgba(0, 0, 0, 0.15);\n",
              "      filter: drop-shadow(0px 1px 2px rgba(0, 0, 0, 0.3));\n",
              "      fill: #FFFFFF;\n",
              "    }\n",
              "  </style>\n",
              "\n",
              "      <script>\n",
              "        const buttonEl =\n",
              "          document.querySelector('#df-0373b83a-460a-4c8e-ba49-1b1cb1c5f730 button.colab-df-convert');\n",
              "        buttonEl.style.display =\n",
              "          google.colab.kernel.accessAllowed ? 'block' : 'none';\n",
              "\n",
              "        async function convertToInteractive(key) {\n",
              "          const element = document.querySelector('#df-0373b83a-460a-4c8e-ba49-1b1cb1c5f730');\n",
              "          const dataTable =\n",
              "            await google.colab.kernel.invokeFunction('convertToInteractive',\n",
              "                                                     [key], {});\n",
              "          if (!dataTable) return;\n",
              "\n",
              "          const docLinkHtml = 'Like what you see? Visit the ' +\n",
              "            '<a target=\"_blank\" href=https://colab.research.google.com/notebooks/data_table.ipynb>data table notebook</a>'\n",
              "            + ' to learn more about interactive tables.';\n",
              "          element.innerHTML = '';\n",
              "          dataTable['output_type'] = 'display_data';\n",
              "          await google.colab.output.renderOutput(dataTable, element);\n",
              "          const docLink = document.createElement('div');\n",
              "          docLink.innerHTML = docLinkHtml;\n",
              "          element.appendChild(docLink);\n",
              "        }\n",
              "      </script>\n",
              "    </div>\n",
              "  </div>\n",
              "  "
            ]
          },
          "metadata": {},
          "execution_count": 15
        }
      ]
    },
    {
      "cell_type": "markdown",
      "source": [
        ">Things to note:\n",
        " - There are many categories with 2 unique options.  These can be thought of a binary states. I will keep these out of the Exploratory Visual Analysis. We can gain information from looking at the ratio of binary results, but we don't have to graph them.\n",
        " - In many of the multi-class features one class accounts for most of the data set.  `Marital status` for instance has 3919 counts of \"1-single\" which accounts for  88.6% of the data."
      ],
      "metadata": {
        "id": "gu20JMib2RZ_"
      }
    },
    {
      "cell_type": "markdown",
      "source": [
        "###Binary-class Categorical Nominal analysis"
      ],
      "metadata": {
        "id": "2_Hl2MeeeTwT"
      }
    },
    {
      "cell_type": "code",
      "source": [
        "#Isolate the binary-/multi-class categories\n",
        "bin_cols = []\n",
        "multi_cols = []\n",
        "for col in obj_cols:\n",
        "  if df[col].nunique() == 2:\n",
        "    bin_cols.append(col)\n",
        "  else:\n",
        "    multi_cols.append(col)\n",
        "\n",
        "#Show the binary class statistics\n",
        "df[bin_cols].describe() "
      ],
      "metadata": {
        "colab": {
          "base_uri": "https://localhost:8080/",
          "height": 175
        },
        "id": "6aQFwhGO0ToX",
        "outputId": "264bed90-405c-4fb6-fb64-7f1d0d65a8bf"
      },
      "execution_count": 16,
      "outputs": [
        {
          "output_type": "execute_result",
          "data": {
            "text/plain": [
              "        Daytime/evening attendance  Displaced  Educational special needs  \\\n",
              "count                         3630       3630                       3630   \n",
              "unique                           2          2                          2   \n",
              "top                              1          1                          0   \n",
              "freq                          3222       1993                       3590   \n",
              "\n",
              "        Debtor  Tuition fees up to date  Gender  Scholarship holder  \\\n",
              "count     3630                     3630    3630                3630   \n",
              "unique       2                        2       2                   2   \n",
              "top          0                        1       0                   0   \n",
              "freq      3217                     3144    2381                2661   \n",
              "\n",
              "        International    Target  \n",
              "count            3630      3630  \n",
              "unique              2         2  \n",
              "top                 0  Graduate  \n",
              "freq             3544      2209  "
            ],
            "text/html": [
              "\n",
              "  <div id=\"df-22545b41-b8fb-47e6-83d2-5c9bb1dfc7b2\">\n",
              "    <div class=\"colab-df-container\">\n",
              "      <div>\n",
              "<style scoped>\n",
              "    .dataframe tbody tr th:only-of-type {\n",
              "        vertical-align: middle;\n",
              "    }\n",
              "\n",
              "    .dataframe tbody tr th {\n",
              "        vertical-align: top;\n",
              "    }\n",
              "\n",
              "    .dataframe thead th {\n",
              "        text-align: right;\n",
              "    }\n",
              "</style>\n",
              "<table border=\"1\" class=\"dataframe\">\n",
              "  <thead>\n",
              "    <tr style=\"text-align: right;\">\n",
              "      <th></th>\n",
              "      <th>Daytime/evening attendance</th>\n",
              "      <th>Displaced</th>\n",
              "      <th>Educational special needs</th>\n",
              "      <th>Debtor</th>\n",
              "      <th>Tuition fees up to date</th>\n",
              "      <th>Gender</th>\n",
              "      <th>Scholarship holder</th>\n",
              "      <th>International</th>\n",
              "      <th>Target</th>\n",
              "    </tr>\n",
              "  </thead>\n",
              "  <tbody>\n",
              "    <tr>\n",
              "      <th>count</th>\n",
              "      <td>3630</td>\n",
              "      <td>3630</td>\n",
              "      <td>3630</td>\n",
              "      <td>3630</td>\n",
              "      <td>3630</td>\n",
              "      <td>3630</td>\n",
              "      <td>3630</td>\n",
              "      <td>3630</td>\n",
              "      <td>3630</td>\n",
              "    </tr>\n",
              "    <tr>\n",
              "      <th>unique</th>\n",
              "      <td>2</td>\n",
              "      <td>2</td>\n",
              "      <td>2</td>\n",
              "      <td>2</td>\n",
              "      <td>2</td>\n",
              "      <td>2</td>\n",
              "      <td>2</td>\n",
              "      <td>2</td>\n",
              "      <td>2</td>\n",
              "    </tr>\n",
              "    <tr>\n",
              "      <th>top</th>\n",
              "      <td>1</td>\n",
              "      <td>1</td>\n",
              "      <td>0</td>\n",
              "      <td>0</td>\n",
              "      <td>1</td>\n",
              "      <td>0</td>\n",
              "      <td>0</td>\n",
              "      <td>0</td>\n",
              "      <td>Graduate</td>\n",
              "    </tr>\n",
              "    <tr>\n",
              "      <th>freq</th>\n",
              "      <td>3222</td>\n",
              "      <td>1993</td>\n",
              "      <td>3590</td>\n",
              "      <td>3217</td>\n",
              "      <td>3144</td>\n",
              "      <td>2381</td>\n",
              "      <td>2661</td>\n",
              "      <td>3544</td>\n",
              "      <td>2209</td>\n",
              "    </tr>\n",
              "  </tbody>\n",
              "</table>\n",
              "</div>\n",
              "      <button class=\"colab-df-convert\" onclick=\"convertToInteractive('df-22545b41-b8fb-47e6-83d2-5c9bb1dfc7b2')\"\n",
              "              title=\"Convert this dataframe to an interactive table.\"\n",
              "              style=\"display:none;\">\n",
              "        \n",
              "  <svg xmlns=\"http://www.w3.org/2000/svg\" height=\"24px\"viewBox=\"0 0 24 24\"\n",
              "       width=\"24px\">\n",
              "    <path d=\"M0 0h24v24H0V0z\" fill=\"none\"/>\n",
              "    <path d=\"M18.56 5.44l.94 2.06.94-2.06 2.06-.94-2.06-.94-.94-2.06-.94 2.06-2.06.94zm-11 1L8.5 8.5l.94-2.06 2.06-.94-2.06-.94L8.5 2.5l-.94 2.06-2.06.94zm10 10l.94 2.06.94-2.06 2.06-.94-2.06-.94-.94-2.06-.94 2.06-2.06.94z\"/><path d=\"M17.41 7.96l-1.37-1.37c-.4-.4-.92-.59-1.43-.59-.52 0-1.04.2-1.43.59L10.3 9.45l-7.72 7.72c-.78.78-.78 2.05 0 2.83L4 21.41c.39.39.9.59 1.41.59.51 0 1.02-.2 1.41-.59l7.78-7.78 2.81-2.81c.8-.78.8-2.07 0-2.86zM5.41 20L4 18.59l7.72-7.72 1.47 1.35L5.41 20z\"/>\n",
              "  </svg>\n",
              "      </button>\n",
              "      \n",
              "  <style>\n",
              "    .colab-df-container {\n",
              "      display:flex;\n",
              "      flex-wrap:wrap;\n",
              "      gap: 12px;\n",
              "    }\n",
              "\n",
              "    .colab-df-convert {\n",
              "      background-color: #E8F0FE;\n",
              "      border: none;\n",
              "      border-radius: 50%;\n",
              "      cursor: pointer;\n",
              "      display: none;\n",
              "      fill: #1967D2;\n",
              "      height: 32px;\n",
              "      padding: 0 0 0 0;\n",
              "      width: 32px;\n",
              "    }\n",
              "\n",
              "    .colab-df-convert:hover {\n",
              "      background-color: #E2EBFA;\n",
              "      box-shadow: 0px 1px 2px rgba(60, 64, 67, 0.3), 0px 1px 3px 1px rgba(60, 64, 67, 0.15);\n",
              "      fill: #174EA6;\n",
              "    }\n",
              "\n",
              "    [theme=dark] .colab-df-convert {\n",
              "      background-color: #3B4455;\n",
              "      fill: #D2E3FC;\n",
              "    }\n",
              "\n",
              "    [theme=dark] .colab-df-convert:hover {\n",
              "      background-color: #434B5C;\n",
              "      box-shadow: 0px 1px 3px 1px rgba(0, 0, 0, 0.15);\n",
              "      filter: drop-shadow(0px 1px 2px rgba(0, 0, 0, 0.3));\n",
              "      fill: #FFFFFF;\n",
              "    }\n",
              "  </style>\n",
              "\n",
              "      <script>\n",
              "        const buttonEl =\n",
              "          document.querySelector('#df-22545b41-b8fb-47e6-83d2-5c9bb1dfc7b2 button.colab-df-convert');\n",
              "        buttonEl.style.display =\n",
              "          google.colab.kernel.accessAllowed ? 'block' : 'none';\n",
              "\n",
              "        async function convertToInteractive(key) {\n",
              "          const element = document.querySelector('#df-22545b41-b8fb-47e6-83d2-5c9bb1dfc7b2');\n",
              "          const dataTable =\n",
              "            await google.colab.kernel.invokeFunction('convertToInteractive',\n",
              "                                                     [key], {});\n",
              "          if (!dataTable) return;\n",
              "\n",
              "          const docLinkHtml = 'Like what you see? Visit the ' +\n",
              "            '<a target=\"_blank\" href=https://colab.research.google.com/notebooks/data_table.ipynb>data table notebook</a>'\n",
              "            + ' to learn more about interactive tables.';\n",
              "          element.innerHTML = '';\n",
              "          dataTable['output_type'] = 'display_data';\n",
              "          await google.colab.output.renderOutput(dataTable, element);\n",
              "          const docLink = document.createElement('div');\n",
              "          docLink.innerHTML = docLinkHtml;\n",
              "          element.appendChild(docLink);\n",
              "        }\n",
              "      </script>\n",
              "    </div>\n",
              "  </div>\n",
              "  "
            ]
          },
          "metadata": {},
          "execution_count": 16
        }
      ]
    },
    {
      "cell_type": "code",
      "source": [
        "print(1993/3630)"
      ],
      "metadata": {
        "colab": {
          "base_uri": "https://localhost:8080/"
        },
        "id": "X9VeVMO-W0Zc",
        "outputId": "e0e9548d-4e34-43a2-8e4e-61c950f580e1"
      },
      "execution_count": 17,
      "outputs": [
        {
          "output_type": "stream",
          "name": "stdout",
          "text": [
            "0.5490358126721763\n"
          ]
        }
      ]
    },
    {
      "cell_type": "markdown",
      "source": [
        "Reviewing the statics on the binary-class we see\n",
        "- `Daytime/evening attendance` : 3220/3630 are \"1 - daytime\" students.  **88.7%**.  This is a very unbalanced category.  \n",
        "- `Displaced`: 1993/3630 are \"1 - yes\" . **54.9%**.  This is a well balanced variable.  I would like to know more about this category.  The most common definition is \n",
        ">displaced person (noun):\n",
        ": a person expelled, deported, or impelled to flee from his or her country of nationality or habitual residence by the forces or consequences of war or oppression\n",
        "\n",
        "  To me this is a shockingly high percentage given the above definition.  Perhaps we could consult a SME\n",
        "\n",
        "- `Educational special needs`: 3590/3630 are \"0 - no\". **98.9%**.  Very Unbalanced.\n",
        "- `Debtor`: 3217/3630 are \"0 - no'. **88.6**.  Very Unbalanced.\n",
        "- `Tuition fees up to date`: 3144/3630 are \"1 - yes\". **86.6%**  Very Unbalanced.\n",
        "- `Gender`: 2381/3630 are \"0 - female\".  **65.6%**.  This is a well balanced variable. \n",
        "- `Scholarship holder`: 2661/3630 are \"0 - no\". **73.3%**. This is a semi-balanced variable. \n",
        "- `International`: 3544/3630 are \"0 - no\".  **97.6%**.   Very Unbalanced.\n",
        "- `Target`: 2209/3630 are \"Graduate\".  **60.1%**.  This is a well balanced target variable. "
      ],
      "metadata": {
        "id": "tGbWYKg6VJ-j"
      }
    },
    {
      "cell_type": "markdown",
      "source": [
        "#Exploratory Visual Analysis"
      ],
      "metadata": {
        "id": "4hvBo6dVvdZw"
      }
    },
    {
      "cell_type": "markdown",
      "source": [
        "##Categorical Data Visualizations\n",
        "For initial visual analysis, I isolate the multi-state categorical data using the `multi_cols` list of columns. Recall that these reports are the counts for the categorical objects.  The reader must look at the value in the data dictionary to see the classifcation."
      ],
      "metadata": {
        "id": "6-JwDb44ow0J"
      }
    },
    {
      "cell_type": "markdown",
      "source": [
        "###Multi-class Categorical Nominal\n",
        "These categoricals have more than 2 options.  Using a barchart we can quickly assess the volume of entries for each category.  Binary Categoricals are treated in a numeric-only analysis above."
      ],
      "metadata": {
        "id": "tg0QrMuKrUl7"
      }
    },
    {
      "cell_type": "code",
      "source": [
        "df[multi_cols].shape"
      ],
      "metadata": {
        "colab": {
          "base_uri": "https://localhost:8080/"
        },
        "id": "Qbzt8M56kKvG",
        "outputId": "d442d808-a40b-4ced-a22b-39f24f856762"
      },
      "execution_count": 18,
      "outputs": [
        {
          "output_type": "execute_result",
          "data": {
            "text/plain": [
              "(3630, 21)"
            ]
          },
          "metadata": {},
          "execution_count": 18
        }
      ]
    },
    {
      "cell_type": "code",
      "source": [
        "#Loop through the multi-cols and plot the dataframe data for these\n",
        "for col in multi_cols:\n",
        "  plot_charts(df, col)"
      ],
      "metadata": {
        "colab": {
          "base_uri": "https://localhost:8080/",
          "height": 1000
        },
        "id": "ZSMLslw2pyzm",
        "outputId": "47fc0dcb-5685-4a82-ca28-df2e4924b515"
      },
      "execution_count": 19,
      "outputs": [
        {
          "output_type": "display_data",
          "data": {
            "text/plain": [
              "<Figure size 360x360 with 1 Axes>"
            ],
            "image/png": "[encoded data removed]"
          },
          "metadata": {
            "needs_background": "light"
          }
        },
        {
          "output_type": "display_data",
          "data": {
            "text/plain": [
              "<Figure size 360x360 with 1 Axes>"
            ],
            "image/png": "[encoded data removed]"
          },
          "metadata": {
            "needs_background": "light"
          }
        },
        {
          "output_type": "display_data",
          "data": {
            "text/plain": [
              "<Figure size 360x360 with 1 Axes>"
            ],
            "image/png": "[encoded data removed]"
          },
          "metadata": {
            "needs_background": "light"
          }
        },
        {
          "output_type": "display_data",
          "data": {
            "text/plain": [
              "<Figure size 360x360 with 1 Axes>"
            ],
            "image/png": "[encoded data removed]"
          },
          "metadata": {
            "needs_background": "light"
          }
        },
        {
          "output_type": "display_data",
          "data": {
            "text/plain": [
              "<Figure size 360x360 with 1 Axes>"
            ],
            "image/png": "[encoded data removed]"
          },
          "metadata": {
            "needs_background": "light"
          }
        },
        {
          "output_type": "display_data",
          "data": {
            "text/plain": [
              "<Figure size 360x360 with 1 Axes>"
            ],
            "image/png": "[encoded data removed]"
          },
          "metadata": {
            "needs_background": "light"
          }
        },
        {
          "output_type": "display_data",
          "data": {
            "text/plain": [
              "<Figure size 360x360 with 1 Axes>"
            ],
            "image/png": "[encoded data removed]"
          },
          "metadata": {
            "needs_background": "light"
          }
        },
        {
          "output_type": "display_data",
          "data": {
            "text/plain": [
              "<Figure size 360x360 with 1 Axes>"
            ],
            "image/png": "[encoded data removed]"
          },
          "metadata": {
            "needs_background": "light"
          }
        },
        {
          "output_type": "display_data",
          "data": {
            "text/plain": [
              "<Figure size 360x360 with 1 Axes>"
            ],
            "image/png": "[encoded data removed]"
          },
          "metadata": {
            "needs_background": "light"
          }
        },
        {
          "output_type": "display_data",
          "data": {
            "text/plain": [
              "<Figure size 360x360 with 1 Axes>"
            ],
            "image/png": "[encoded data removed]"
          },
          "metadata": {
            "needs_background": "light"
          }
        },
        {
          "output_type": "display_data",
          "data": {
            "text/plain": [
              "<Figure size 360x360 with 1 Axes>"
            ],
            "image/png": "[encoded data removed]"
          },
          "metadata": {
            "needs_background": "light"
          }
        },
        {
          "output_type": "display_data",
          "data": {
            "text/plain": [
              "<Figure size 360x360 with 1 Axes>"
            ],
            "image/png": "[encoded data removed]"
          },
          "metadata": {
            "needs_background": "light"
          }
        },
        {
          "output_type": "display_data",
          "data": {
            "text/plain": [
              "<Figure size 360x360 with 1 Axes>"
            ],
            "image/png": "[encoded data removed]"
          },
          "metadata": {
            "needs_background": "light"
          }
        },
        {
          "output_type": "display_data",
          "data": {
            "text/plain": [
              "<Figure size 360x360 with 1 Axes>"
            ],
            "image/png": "[encoded data removed]"
          },
          "metadata": {
            "needs_background": "light"
          }
        },
        {
          "output_type": "display_data",
          "data": {
            "text/plain": [
              "<Figure size 360x360 with 1 Axes>"
            ],
            "image/png": "[encoded data removed]"
          },
          "metadata": {
            "needs_background": "light"
          }
        },
        {
          "output_type": "display_data",
          "data": {
            "text/plain": [
              "<Figure size 360x360 with 1 Axes>"
            ],
            "image/png": "[encoded data removed]"
          },
          "metadata": {
            "needs_background": "light"
          }
        },
        {
          "output_type": "display_data",
          "data": {
            "text/plain": [
              "<Figure size 360x360 with 1 Axes>"
            ],
            "image/png": "[encoded data removed]"
          },
          "metadata": {
            "needs_background": "light"
          }
        },
        {
          "output_type": "display_data",
          "data": {
            "text/plain": [
              "<Figure size 360x360 with 1 Axes>"
            ],
            "image/png": "[encoded data removed]"
          },
          "metadata": {
            "needs_background": "light"
          }
        },
        {
          "output_type": "display_data",
          "data": {
            "text/plain": [
              "<Figure size 360x360 with 1 Axes>"
            ],
            "image/png": "[encoded data removed]"
          },
          "metadata": {
            "needs_background": "light"
          }
        },
        {
          "output_type": "display_data",
          "data": {
            "text/plain": [
              "<Figure size 360x360 with 1 Axes>"
            ],
            "image/png": "[encoded data removed]"
          },
          "metadata": {
            "needs_background": "light"
          }
        },
        {
          "output_type": "display_data",
          "data": {
            "text/plain": [
              "<Figure size 360x360 with 1 Axes>"
            ],
            "image/png": "[encoded data removed]"
          },
          "metadata": {
            "needs_background": "light"
          }
        }
      ]
    },
    {
      "cell_type": "code",
      "source": [
        "multi_cols"
      ],
      "metadata": {
        "colab": {
          "base_uri": "https://localhost:8080/"
        },
        "id": "4fWTmPS_d8jq",
        "outputId": "07216cc5-d17b-42bd-a8a9-058f77f3fe3e"
      },
      "execution_count": 20,
      "outputs": [
        {
          "output_type": "execute_result",
          "data": {
            "text/plain": [
              "['Marital status',\n",
              " 'Application mode',\n",
              " 'Application order',\n",
              " 'Course',\n",
              " 'Previous qualification',\n",
              " 'Nacionality',\n",
              " \"Mother's qualification\",\n",
              " \"Father's qualification\",\n",
              " \"Mother's occupation\",\n",
              " \"Father's occupation\",\n",
              " 'Age at enrollment',\n",
              " 'Curricular units 1st sem (credited)',\n",
              " 'Curricular units 1st sem (enrolled)',\n",
              " 'Curricular units 1st sem (evaluations)',\n",
              " 'Curricular units 1st sem (approved)',\n",
              " 'Curricular units 1st sem (without evaluations)',\n",
              " 'Curricular units 2nd sem (credited)',\n",
              " 'Curricular units 2nd sem (enrolled)',\n",
              " 'Curricular units 2nd sem (evaluations)',\n",
              " 'Curricular units 2nd sem (approved)',\n",
              " 'Curricular units 2nd sem (without evaluations)']"
            ]
          },
          "metadata": {},
          "execution_count": 20
        }
      ]
    },
    {
      "cell_type": "markdown",
      "source": [
        "Visualizing the counts of categories gives us a feel for the diversity of each category, without looking to deeply into the numbers. \n",
        "\n",
        "- `Application mode`\n",
        "- `Application order` - Looks like most students got their 2nd most prefered application.  Recall \"Application order (between 0 - first choice; and 9 last choice)\"\n",
        "- `Previous Qualification` - The most frequent previous qualification is \"1 - Secondary education\"\n",
        "- `Nacionality` - the most frequent nationality is \"1 - Portuguese\"\n",
        " - This data shows that this study is limted to a largly 1 - Portuguese nationality.  This could give us a little bit more insight into the continous variables `Unemployment rate`, `Inflation rate`, and `GDP`. Because it is not explicit in the Data Dictionary when this data is used we make an assumption to its origin. i.e. Does the inflation rate of Portugal(where the data was taken) impact a student from Brazil (`Nacionality:42`)?  Not likely.\n"
      ],
      "metadata": {
        "id": "wroXiAtv_14e"
      }
    },
    {
      "cell_type": "markdown",
      "source": [
        "###NOTES (internal use)"
      ],
      "metadata": {
        "id": "KR8TLAPihpAq"
      }
    },
    {
      "cell_type": "markdown",
      "source": [
        "**Q.** What do the bin values of the histograms represent?  \n",
        "**A.** In the above histograms, the bins represent values described in the Data Dictionary. Since this data has been encoded in advance, the histogram is telling us the count of the encoded value. Recall for instance that `Marital Status:[1 – single 2 – married 3 – widower 4 – divorced 5 – facto union 6 – legally separated]` Representing this as a table of top values may be easier to interpret. "
      ],
      "metadata": {
        "id": "8lUiaM_iGD7R"
      }
    },
    {
      "cell_type": "markdown",
      "source": [
        "##Continuous Data Visual Inspection\n",
        "For continuous variables I look at the count distribution, mean (red line), and median (black line).  Because there isn't much information in the data dictionary for these values, it will be challenging to make meaningful observations with respect to their distributions.  I can however highlight where we see outliers and point out potential data errors. \n",
        "\n"
      ],
      "metadata": {
        "id": "jVbThbfBvCyg"
      }
    },
    {
      "cell_type": "code",
      "source": [
        "for ncol in num_cols:\n",
        "  plot_charts(df, ncol, boxplot=True)"
      ],
      "metadata": {
        "colab": {
          "base_uri": "https://localhost:8080/",
          "height": 1000
        },
        "id": "ub8tUQYTvnHQ",
        "outputId": "9a79a9d5-90c7-4357-b20b-3d4c620beff3"
      },
      "execution_count": 21,
      "outputs": [
        {
          "output_type": "display_data",
          "data": {
            "text/plain": [
              "<Figure size 720x216 with 2 Axes>"
            ],
            "image/png": "[encoded data removed]"
          },
          "metadata": {
            "needs_background": "light"
          }
        },
        {
          "output_type": "display_data",
          "data": {
            "text/plain": [
              "<Figure size 720x216 with 2 Axes>"
            ],
            "image/png": "[encoded data removed]"
          },
          "metadata": {
            "needs_background": "light"
          }
        },
        {
          "output_type": "display_data",
          "data": {
            "text/plain": [
              "<Figure size 720x216 with 2 Axes>"
            ],
            "image/png": "[encoded data removed]"
          },
          "metadata": {
            "needs_background": "light"
          }
        },
        {
          "output_type": "display_data",
          "data": {
            "text/plain": [
              "<Figure size 720x216 with 2 Axes>"
            ],
            "image/png": "[encoded data removed]"
          },
          "metadata": {
            "needs_background": "light"
          }
        },
        {
          "output_type": "display_data",
          "data": {
            "text/plain": [
              "<Figure size 720x216 with 2 Axes>"
            ],
            "image/png": "[encoded data removed]"
          },
          "metadata": {
            "needs_background": "light"
          }
        },
        {
          "output_type": "display_data",
          "data": {
            "text/plain": [
              "<Figure size 720x216 with 2 Axes>"
            ],
            "image/png": "[encoded data removed]"
          },
          "metadata": {
            "needs_background": "light"
          }
        },
        {
          "output_type": "display_data",
          "data": {
            "text/plain": [
              "<Figure size 720x216 with 2 Axes>"
            ],
            "image/png": "[encoded data removed]"
          },
          "metadata": {
            "needs_background": "light"
          }
        }
      ]
    },
    {
      "cell_type": "code",
      "source": [
        "num_cols.describe(include='all')"
      ],
      "metadata": {
        "colab": {
          "base_uri": "https://localhost:8080/",
          "height": 300
        },
        "id": "HJcJ6WPP8VDJ",
        "outputId": "41eeb295-f28e-4e34-9c59-38ebb5b6c401"
      },
      "execution_count": 22,
      "outputs": [
        {
          "output_type": "execute_result",
          "data": {
            "text/plain": [
              "       Previous qualification (grade)  Admission grade  \\\n",
              "count                     4424.000000      4424.000000   \n",
              "mean                       132.613314       126.978119   \n",
              "std                         13.188332        14.482001   \n",
              "min                         95.000000        95.000000   \n",
              "25%                        125.000000       117.900000   \n",
              "50%                        133.100000       126.100000   \n",
              "75%                        140.000000       134.800000   \n",
              "max                        190.000000       190.000000   \n",
              "\n",
              "       Curricular units 1st sem (grade)  Curricular units 2nd sem (grade)  \\\n",
              "count                       4424.000000                       4424.000000   \n",
              "mean                          10.640822                         10.230206   \n",
              "std                            4.843663                          5.210808   \n",
              "min                            0.000000                          0.000000   \n",
              "25%                           11.000000                         10.750000   \n",
              "50%                           12.285714                         12.200000   \n",
              "75%                           13.400000                         13.333333   \n",
              "max                           18.875000                         18.571429   \n",
              "\n",
              "       Unemployment rate  Inflation rate          GDP  \n",
              "count        4424.000000     4424.000000  4424.000000  \n",
              "mean           11.566139        1.228029     0.001969  \n",
              "std             2.663850        1.382711     2.269935  \n",
              "min             7.600000       -0.800000    -4.060000  \n",
              "25%             9.400000        0.300000    -1.700000  \n",
              "50%            11.100000        1.400000     0.320000  \n",
              "75%            13.900000        2.600000     1.790000  \n",
              "max            16.200000        3.700000     3.510000  "
            ],
            "text/html": [
              "\n",
              "  <div id=\"df-23ab466a-23ba-4e3b-abd8-54dfb9ed7a8a\">\n",
              "    <div class=\"colab-df-container\">\n",
              "      <div>\n",
              "<style scoped>\n",
              "    .dataframe tbody tr th:only-of-type {\n",
              "        vertical-align: middle;\n",
              "    }\n",
              "\n",
              "    .dataframe tbody tr th {\n",
              "        vertical-align: top;\n",
              "    }\n",
              "\n",
              "    .dataframe thead th {\n",
              "        text-align: right;\n",
              "    }\n",
              "</style>\n",
              "<table border=\"1\" class=\"dataframe\">\n",
              "  <thead>\n",
              "    <tr style=\"text-align: right;\">\n",
              "      <th></th>\n",
              "      <th>Previous qualification (grade)</th>\n",
              "      <th>Admission grade</th>\n",
              "      <th>Curricular units 1st sem (grade)</th>\n",
              "      <th>Curricular units 2nd sem (grade)</th>\n",
              "      <th>Unemployment rate</th>\n",
              "      <th>Inflation rate</th>\n",
              "      <th>GDP</th>\n",
              "    </tr>\n",
              "  </thead>\n",
              "  <tbody>\n",
              "    <tr>\n",
              "      <th>count</th>\n",
              "      <td>4424.000000</td>\n",
              "      <td>4424.000000</td>\n",
              "      <td>4424.000000</td>\n",
              "      <td>4424.000000</td>\n",
              "      <td>4424.000000</td>\n",
              "      <td>4424.000000</td>\n",
              "      <td>4424.000000</td>\n",
              "    </tr>\n",
              "    <tr>\n",
              "      <th>mean</th>\n",
              "      <td>132.613314</td>\n",
              "      <td>126.978119</td>\n",
              "      <td>10.640822</td>\n",
              "      <td>10.230206</td>\n",
              "      <td>11.566139</td>\n",
              "      <td>1.228029</td>\n",
              "      <td>0.001969</td>\n",
              "    </tr>\n",
              "    <tr>\n",
              "      <th>std</th>\n",
              "      <td>13.188332</td>\n",
              "      <td>14.482001</td>\n",
              "      <td>4.843663</td>\n",
              "      <td>5.210808</td>\n",
              "      <td>2.663850</td>\n",
              "      <td>1.382711</td>\n",
              "      <td>2.269935</td>\n",
              "    </tr>\n",
              "    <tr>\n",
              "      <th>min</th>\n",
              "      <td>95.000000</td>\n",
              "      <td>95.000000</td>\n",
              "      <td>0.000000</td>\n",
              "      <td>0.000000</td>\n",
              "      <td>7.600000</td>\n",
              "      <td>-0.800000</td>\n",
              "      <td>-4.060000</td>\n",
              "    </tr>\n",
              "    <tr>\n",
              "      <th>25%</th>\n",
              "      <td>125.000000</td>\n",
              "      <td>117.900000</td>\n",
              "      <td>11.000000</td>\n",
              "      <td>10.750000</td>\n",
              "      <td>9.400000</td>\n",
              "      <td>0.300000</td>\n",
              "      <td>-1.700000</td>\n",
              "    </tr>\n",
              "    <tr>\n",
              "      <th>50%</th>\n",
              "      <td>133.100000</td>\n",
              "      <td>126.100000</td>\n",
              "      <td>12.285714</td>\n",
              "      <td>12.200000</td>\n",
              "      <td>11.100000</td>\n",
              "      <td>1.400000</td>\n",
              "      <td>0.320000</td>\n",
              "    </tr>\n",
              "    <tr>\n",
              "      <th>75%</th>\n",
              "      <td>140.000000</td>\n",
              "      <td>134.800000</td>\n",
              "      <td>13.400000</td>\n",
              "      <td>13.333333</td>\n",
              "      <td>13.900000</td>\n",
              "      <td>2.600000</td>\n",
              "      <td>1.790000</td>\n",
              "    </tr>\n",
              "    <tr>\n",
              "      <th>max</th>\n",
              "      <td>190.000000</td>\n",
              "      <td>190.000000</td>\n",
              "      <td>18.875000</td>\n",
              "      <td>18.571429</td>\n",
              "      <td>16.200000</td>\n",
              "      <td>3.700000</td>\n",
              "      <td>3.510000</td>\n",
              "    </tr>\n",
              "  </tbody>\n",
              "</table>\n",
              "</div>\n",
              "      <button class=\"colab-df-convert\" onclick=\"convertToInteractive('df-23ab466a-23ba-4e3b-abd8-54dfb9ed7a8a')\"\n",
              "              title=\"Convert this dataframe to an interactive table.\"\n",
              "              style=\"display:none;\">\n",
              "        \n",
              "  <svg xmlns=\"http://www.w3.org/2000/svg\" height=\"24px\"viewBox=\"0 0 24 24\"\n",
              "       width=\"24px\">\n",
              "    <path d=\"M0 0h24v24H0V0z\" fill=\"none\"/>\n",
              "    <path d=\"M18.56 5.44l.94 2.06.94-2.06 2.06-.94-2.06-.94-.94-2.06-.94 2.06-2.06.94zm-11 1L8.5 8.5l.94-2.06 2.06-.94-2.06-.94L8.5 2.5l-.94 2.06-2.06.94zm10 10l.94 2.06.94-2.06 2.06-.94-2.06-.94-.94-2.06-.94 2.06-2.06.94z\"/><path d=\"M17.41 7.96l-1.37-1.37c-.4-.4-.92-.59-1.43-.59-.52 0-1.04.2-1.43.59L10.3 9.45l-7.72 7.72c-.78.78-.78 2.05 0 2.83L4 21.41c.39.39.9.59 1.41.59.51 0 1.02-.2 1.41-.59l7.78-7.78 2.81-2.81c.8-.78.8-2.07 0-2.86zM5.41 20L4 18.59l7.72-7.72 1.47 1.35L5.41 20z\"/>\n",
              "  </svg>\n",
              "      </button>\n",
              "      \n",
              "  <style>\n",
              "    .colab-df-container {\n",
              "      display:flex;\n",
              "      flex-wrap:wrap;\n",
              "      gap: 12px;\n",
              "    }\n",
              "\n",
              "    .colab-df-convert {\n",
              "      background-color: #E8F0FE;\n",
              "      border: none;\n",
              "      border-radius: 50%;\n",
              "      cursor: pointer;\n",
              "      display: none;\n",
              "      fill: #1967D2;\n",
              "      height: 32px;\n",
              "      padding: 0 0 0 0;\n",
              "      width: 32px;\n",
              "    }\n",
              "\n",
              "    .colab-df-convert:hover {\n",
              "      background-color: #E2EBFA;\n",
              "      box-shadow: 0px 1px 2px rgba(60, 64, 67, 0.3), 0px 1px 3px 1px rgba(60, 64, 67, 0.15);\n",
              "      fill: #174EA6;\n",
              "    }\n",
              "\n",
              "    [theme=dark] .colab-df-convert {\n",
              "      background-color: #3B4455;\n",
              "      fill: #D2E3FC;\n",
              "    }\n",
              "\n",
              "    [theme=dark] .colab-df-convert:hover {\n",
              "      background-color: #434B5C;\n",
              "      box-shadow: 0px 1px 3px 1px rgba(0, 0, 0, 0.15);\n",
              "      filter: drop-shadow(0px 1px 2px rgba(0, 0, 0, 0.3));\n",
              "      fill: #FFFFFF;\n",
              "    }\n",
              "  </style>\n",
              "\n",
              "      <script>\n",
              "        const buttonEl =\n",
              "          document.querySelector('#df-23ab466a-23ba-4e3b-abd8-54dfb9ed7a8a button.colab-df-convert');\n",
              "        buttonEl.style.display =\n",
              "          google.colab.kernel.accessAllowed ? 'block' : 'none';\n",
              "\n",
              "        async function convertToInteractive(key) {\n",
              "          const element = document.querySelector('#df-23ab466a-23ba-4e3b-abd8-54dfb9ed7a8a');\n",
              "          const dataTable =\n",
              "            await google.colab.kernel.invokeFunction('convertToInteractive',\n",
              "                                                     [key], {});\n",
              "          if (!dataTable) return;\n",
              "\n",
              "          const docLinkHtml = 'Like what you see? Visit the ' +\n",
              "            '<a target=\"_blank\" href=https://colab.research.google.com/notebooks/data_table.ipynb>data table notebook</a>'\n",
              "            + ' to learn more about interactive tables.';\n",
              "          element.innerHTML = '';\n",
              "          dataTable['output_type'] = 'display_data';\n",
              "          await google.colab.output.renderOutput(dataTable, element);\n",
              "          const docLink = document.createElement('div');\n",
              "          docLink.innerHTML = docLinkHtml;\n",
              "          element.appendChild(docLink);\n",
              "        }\n",
              "      </script>\n",
              "    </div>\n",
              "  </div>\n",
              "  "
            ]
          },
          "metadata": {},
          "execution_count": 22
        }
      ]
    },
    {
      "cell_type": "markdown",
      "source": [
        "- `Previous qualification (grade)` - The mean previous qualification grade is 132.6 and ranges from 95 to 190.  \n",
        "- `Admission grade` - The mean admission grade is 127 and ranges from 95 to 190.\n",
        "- `Age at enrollment` - The mean afe at enrollment is 23 and ranges from 17 to 70.  The outliers are on the high end of the age spectrum.\n",
        "- `Curricular units 1st sem (grade)` - the mean grade is 10.64 with a range of 0 to 18.875.  This data shows normal distribution about the mean with a large subset of data at 0.  \n",
        " - [ ] Compare the size of the 0-grade dataset to the # of dropouts\n",
        "- `Curricular units 2nd sem (grade)` - the mean grade is 10.23 with a range of 0 to 18.57.  This data shows normal distribution about the mean with a large subset of data at 0.  \n",
        " - [ ] Compare the size of the 0-grade dataset to the # of dropouts\n",
        "- `Unemployment rate` - The mean rate is 11.56%.  When we compare this to [US statistics](https://nces.ed.gov/programs/coe/indicator/ssa/college-student-employment), this number seems rather low.  \n",
        " - [ ] Is this the unemployment rate of the students or of the student's country?\n",
        "- `Inflation rate` - The mean rate is 1.23 with a range from -0.8 to 3.7.\n",
        "- `GDP` - The mean GDP is 0.002 (units unknown) with a range from -4.06 to 3.51\n"
      ],
      "metadata": {
        "id": "T2u6pY1i_rgG"
      }
    },
    {
      "cell_type": "markdown",
      "source": [
        "##Multivariate Visual Analysis"
      ],
      "metadata": {
        "id": "_6lWahRRAQP_"
      }
    },
    {
      "cell_type": "markdown",
      "source": [
        "### School work Analysis"
      ],
      "metadata": {
        "id": "kJhtdnYKt8mR"
      }
    },
    {
      "cell_type": "markdown",
      "source": [
        "**Q. How does the 1st/2nd semester data affect the dropout-rate?**\n",
        "\n",
        "For this question lets look at each of the columns that pertain to the 1st semester:\n",
        "\n",
        "<table>\n",
        "<td>Curricular units 1st/2nd sem (credited)</td><td>Number of curricular units credited in the 1st/2nd semester</td><tr>\n",
        "<tr><td>Curricular units 1st/2nd sem (enrolled)</td><td>Number of curricular units enrolled in the 1st/2nd semester</td></tr>\n",
        "<tr><td>Curricular units 1st/2nd sem (evaluations)</td><td>Number of evaluations to curricular units in the 1st/2nd semester</td></tr>\n",
        "<tr><td>Curricular units 1st/2nd sem (approved)</td><td>Number of curricular units approved in the 1st/2nd semester</td></tr>\n",
        "<tr><td>Curricular units 1st/2nd sem (without evaluations)</td><td>Number of curricular units without evalutions in the 1st/2nd semester</td></tr>\n",
        "</table>\n"
      ],
      "metadata": {
        "id": "-W8O1uMPw6Fh"
      }
    },
    {
      "cell_type": "code",
      "source": [
        "sem_1 = df[['Curricular units 1st sem (credited)','Curricular units 1st sem (enrolled)',\n",
        "            'Curricular units 1st sem (evaluations)','Curricular units 1st sem (approved)',\n",
        "            'Curricular units 1st sem (without evaluations)','Target']].copy()"
      ],
      "metadata": {
        "id": "dvPWvuR1skxa"
      },
      "execution_count": 23,
      "outputs": []
    },
    {
      "cell_type": "code",
      "source": [
        "for col in sem_1.columns:\n",
        "  if col != 'Target':\n",
        "   sem_1.groupby([col,'Target']).size().unstack().plot(kind='bar', stacked=True);"
      ],
      "metadata": {
        "colab": {
          "base_uri": "https://localhost:8080/",
          "height": 1000
        },
        "id": "p5Uk8OflvC57",
        "outputId": "c60e8ed6-2927-4792-9600-385389e77f1b"
      },
      "execution_count": 24,
      "outputs": [
        {
          "output_type": "display_data",
          "data": {
            "text/plain": [
              "<Figure size 432x288 with 1 Axes>"
            ],
            "image/png": "[encoded data removed]"
          },
          "metadata": {
            "needs_background": "light"
          }
        },
        {
          "output_type": "display_data",
          "data": {
            "text/plain": [
              "<Figure size 432x288 with 1 Axes>"
            ],
            "image/png": "[encoded data removed]"
          },
          "metadata": {
            "needs_background": "light"
          }
        },
        {
          "output_type": "display_data",
          "data": {
            "text/plain": [
              "<Figure size 432x288 with 1 Axes>"
            ],
            "image/png": "[encoded data removed]"
          },
          "metadata": {
            "needs_background": "light"
          }
        },
        {
          "output_type": "display_data",
          "data": {
            "text/plain": [
              "<Figure size 432x288 with 1 Axes>"
            ],
            "image/png": "[encoded data removed]"
          },
          "metadata": {
            "needs_background": "light"
          }
        },
        {
          "output_type": "display_data",
          "data": {
            "text/plain": [
              "<Figure size 432x288 with 1 Axes>"
            ],
            "image/png": "[encoded data removed]"
          },
          "metadata": {
            "needs_background": "light"
          }
        }
      ]
    },
    {
      "cell_type": "markdown",
      "source": [
        "Let's do the same for the 2nd semester"
      ],
      "metadata": {
        "id": "ufT8A59_zkS_"
      }
    },
    {
      "cell_type": "code",
      "source": [
        "sem_2 = df[['Curricular units 2nd sem (credited)','Curricular units 2nd sem (enrolled)',\n",
        "              'Curricular units 2nd sem (evaluations)','Curricular units 2nd sem (approved)',\n",
        "             'Curricular units 2nd sem (without evaluations)','Target']].copy()"
      ],
      "metadata": {
        "id": "bWy6-Uw7yBRX"
      },
      "execution_count": 25,
      "outputs": []
    },
    {
      "cell_type": "code",
      "source": [
        "for col in sem_2.columns:\n",
        "  if col != 'Target':\n",
        "    col_count = sem_2[col].count()\n",
        "    sem_2.groupby([col,'Target']).size().unstack().plot(kind='bar', stacked=True);\n",
        "    #sem_2.groupby([col,'Target']).count()/sem_2[col].count()\n"
      ],
      "metadata": {
        "colab": {
          "base_uri": "https://localhost:8080/",
          "height": 1000
        },
        "id": "PGpvkIZXyLZV",
        "outputId": "e24c528e-b9d4-4bb3-ba06-ea4c6caa4d76"
      },
      "execution_count": 26,
      "outputs": [
        {
          "output_type": "display_data",
          "data": {
            "text/plain": [
              "<Figure size 432x288 with 1 Axes>"
            ],
            "image/png": "[encoded data removed]"
          },
          "metadata": {
            "needs_background": "light"
          }
        },
        {
          "output_type": "display_data",
          "data": {
            "text/plain": [
              "<Figure size 432x288 with 1 Axes>"
            ],
            "image/png": "[encoded data removed]"
          },
          "metadata": {
            "needs_background": "light"
          }
        },
        {
          "output_type": "display_data",
          "data": {
            "text/plain": [
              "<Figure size 432x288 with 1 Axes>"
            ],
            "image/png": "[encoded data removed]"
          },
          "metadata": {
            "needs_background": "light"
          }
        },
        {
          "output_type": "display_data",
          "data": {
            "text/plain": [
              "<Figure size 432x288 with 1 Axes>"
            ],
            "image/png": "[encoded data removed]"
          },
          "metadata": {
            "needs_background": "light"
          }
        },
        {
          "output_type": "display_data",
          "data": {
            "text/plain": [
              "<Figure size 432x288 with 1 Axes>"
            ],
            "image/png": "[encoded data removed]"
          },
          "metadata": {
            "needs_background": "light"
          }
        }
      ]
    },
    {
      "cell_type": "markdown",
      "source": [
        "####Observations\n",
        "- `Curricular units 1st/2nd sem credited` appear to be bad data.  If you are receiving credit for 0 curricular units how can you graduate?  These columns are skewed greatly toward 0, and do not provide information for future modeling, therefore should be dropped\n",
        " - [x] Drop `Curricular units 1st/2nd sem (credited)` columns\n",
        "\n",
        "- `Curricular units 1st/2nd sem enrolled` - shows a trend that students who enroll in more classes tend to graduate more.  \n",
        "\n",
        "- `Curricular units 1st/2nd sem (evaluations)` - Shows a decline in the dropout rate with the increase in number of evaluations.  If the student has 0 evaluations for the semester it is of higher probability that they dropped out.  Although there are students who graduate while not having evaluations in the 1st and 2nd semesters these groups make up a very small portion of the dataset\n",
        "\n",
        "- `Curricular units 1st/2nd sem (approved)` - Again we see the dropout rate the highest for students with 0 approved curricular units.  The greatest number of graduates had 6 curricular units each semester.  This must represent a healthy work-life balance.\n",
        "\n",
        "- `Curricular units 1st/2nd sem (grade)` - Higher grades implies greater graduation rate.\n",
        "\n",
        "- `Curricular units 1st/2nd sem (without evaluations)` have approximately 93.5% weighting toward a value of 0.  This data doesnt give us much insight into the students success because it is only telling us that 93.5% of the time the student had 0 courses that were not evaluated, i,e. most of the time the courses were evaluated.  \n",
        " - [ ] Further exploration of percentage of drop out rate as a function of  'Curricular units 2nd sem (without evaluations)' is possible.  For instance does the drop out rate(%) increase with more unevaluated curricular units?  This won't help us modeling the data but could give us some insight as to why students drop out.  This will be saved for futre exploration"
      ],
      "metadata": {
        "id": "K4mI67Nsz0i1"
      }
    },
    {
      "cell_type": "code",
      "source": [
        "df.drop(columns = ['Curricular units 1st sem (credited)', 'Curricular units 2nd sem (credited)'], inplace=True)"
      ],
      "metadata": {
        "id": "uB6xVlZMVoqr"
      },
      "execution_count": 27,
      "outputs": []
    },
    {
      "cell_type": "markdown",
      "source": [
        "###Parental Impact Analysis (FUTURE WORK)\n",
        "- [ ] Look at columns that pertain to parents to determine dropout rate"
      ],
      "metadata": {
        "id": "Q9zOZ4v0uToQ"
      }
    },
    {
      "cell_type": "markdown",
      "source": [
        "### Binary-class Analysis (FUTURE WORK)\n",
        " - [ ] compare the drop out rate with the binary-class columns"
      ],
      "metadata": {
        "id": "VZz0Lgp3unTc"
      }
    },
    {
      "cell_type": "markdown",
      "source": [
        "#--------> QUESTION <--------\n",
        "- [ ]  How can we show correlation for categorical features?\n",
        "- [ ] Explore the [Bokeh.heatmap_chart](https://docs.bokeh.org/en/0.11.1/docs/gallery/heatmap_chart.html) docs"
      ],
      "metadata": {
        "id": "87NOhOVPTG7_"
      }
    },
    {
      "cell_type": "markdown",
      "source": [
        "##Heatmap\n",
        "- [x] To see a correlation to the target variable we have to numerically encode the target.\n",
        " "
      ],
      "metadata": {
        "id": "syqfWdnv0EEe"
      }
    },
    {
      "cell_type": "code",
      "source": [
        "target_labels = ['Graduate', 'Dropout']\n",
        "df['Target'] = df['Target'].map({'Graduate':0, 'Dropout':1})"
      ],
      "metadata": {
        "id": "tLuT9_9x18XK"
      },
      "execution_count": 28,
      "outputs": []
    },
    {
      "cell_type": "code",
      "source": [
        "fig, ax = plt.subplots(figsize=(10,10));\n",
        "sns.heatmap(df.corr(), annot=True, ax=ax);"
      ],
      "metadata": {
        "id": "--b2Edke0ak1",
        "colab": {
          "base_uri": "https://localhost:8080/",
          "height": 749
        },
        "outputId": "6ccfa74b-1e18-42af-bb6e-ebc0c16b05ae"
      },
      "execution_count": 29,
      "outputs": [
        {
          "output_type": "display_data",
          "data": {
            "text/plain": [
              "<Figure size 720x720 with 2 Axes>"
            ],
            "image/png": "[encoded data removed]"
          },
          "metadata": {
            "needs_background": "light"
          }
        }
      ]
    },
    {
      "cell_type": "markdown",
      "source": [
        ">The strongest correlations to the Target variable are:\n",
        " - Curricular Units 1st sem (grade): -52%\n",
        " - Curricular Units 2nd sem (grade): -61%\n"
      ],
      "metadata": {
        "id": "rxgx3gQ226L9"
      }
    },
    {
      "cell_type": "markdown",
      "source": [
        "#Target Balance"
      ],
      "metadata": {
        "id": "eOK6UlZQoVdx"
      }
    },
    {
      "cell_type": "code",
      "source": [
        "df['Target'].value_counts(normalize=True)"
      ],
      "metadata": {
        "id": "gEAzsaiRJgW6",
        "colab": {
          "base_uri": "https://localhost:8080/"
        },
        "outputId": "57cbf630-860e-4f5f-ddb3-23b4b9a0b35e"
      },
      "execution_count": 30,
      "outputs": [
        {
          "output_type": "execute_result",
          "data": {
            "text/plain": [
              "0    0.60854\n",
              "1    0.39146\n",
              "Name: Target, dtype: float64"
            ]
          },
          "metadata": {},
          "execution_count": 30
        }
      ]
    },
    {
      "cell_type": "markdown",
      "source": [
        "> This is a classification problem. Target `Target = [Graduate : 0, Dropout : 1]` \n",
        "\n",
        ">The bulk of the data shows students graduating (60.1%) while the minority dropped out (39%).\n",
        " - [x] Include sampling technique during modeling to handle this imbalance of data. Choice of over-/undersampling or SMOTE. See `Custom Functions:eval_sampling`"
      ],
      "metadata": {
        "id": "UBmjLWJiikb9"
      }
    },
    {
      "cell_type": "markdown",
      "source": [
        "#Train Test Split"
      ],
      "metadata": {
        "id": "nyBxthX0zOoV"
      }
    },
    {
      "cell_type": "code",
      "source": [
        "X = df.drop('Target', axis =1)\n",
        "y = df['Target']\n",
        "X_train, X_test, y_train, y_test = train_test_split(X, y, random_state=42, stratify=y)\n",
        "\n",
        "# Check class balance\n",
        "y_train.value_counts(normalize=True)"
      ],
      "metadata": {
        "id": "CNztUku2zWj9",
        "colab": {
          "base_uri": "https://localhost:8080/"
        },
        "outputId": "baa94852-2800-4855-9227-d50c64ab131a"
      },
      "execution_count": 31,
      "outputs": [
        {
          "output_type": "execute_result",
          "data": {
            "text/plain": [
              "0    0.608376\n",
              "1    0.391624\n",
              "Name: Target, dtype: float64"
            ]
          },
          "metadata": {},
          "execution_count": 31
        }
      ]
    },
    {
      "cell_type": "markdown",
      "source": [
        "> The target variable is unbalanced by a 3:2 ratio leaning toward \"Graduated\".  "
      ],
      "metadata": {
        "id": "wY9gEUrSaFnf"
      }
    },
    {
      "cell_type": "markdown",
      "source": [
        "#Data Pipelines/Preprocessing\n",
        "\n",
        "This dataset has continuous, categorical nominal and ordinal features.  Continuous data must be scaled; categorical nomial data must be run through a One Hot Encoder; and categorical ordinal through an OrdinalEncoder.  Recall, many of the categories have 2 features.  "
      ],
      "metadata": {
        "id": "gb0Bbd-RzXFb"
      }
    },
    {
      "cell_type": "markdown",
      "source": [
        "#--------> QUESTION <--------\n",
        "- [ ] I am having issues including the ordinal encoder.  Would love some help here"
      ],
      "metadata": {
        "id": "Y4BudvMi1FMo"
      }
    },
    {
      "cell_type": "markdown",
      "source": [
        "##Transformers\n",
        "**Standard Scaler** - transforms the data in such a manner that it has mean as 0 and standard deviation as 1. In short, it standardizes the data. Standardization is useful for data which has negative values. It arranges the data in a standard normal distribution. It is more useful in classification than regression"
      ],
      "metadata": {
        "id": "43nQocD4yqOI"
      }
    },
    {
      "cell_type": "code",
      "source": [
        "#instantiate Standard Scaler\n",
        "scaler = StandardScaler()\n",
        "\n",
        "#instantiate OHE\n",
        "ohe = OneHotEncoder(sparse=False)\n",
        "\n",
        "#Deal with ordinal features.  In this case it's just the Application Order column\n",
        "ord_labels = ['6','5','4','3','2','1','0']\n",
        "ord = OrdinalEncoder(categories=ord_labels)"
      ],
      "metadata": {
        "id": "tiOok33Fy7tg"
      },
      "execution_count": null,
      "outputs": []
    },
    {
      "cell_type": "markdown",
      "source": [
        "##Pairing Data with transformers\n",
        "Create tuples of data and encoders/scalers to create the start of the pipeline"
      ],
      "metadata": {
        "id": "uqeMOam7McN9"
      }
    },
    {
      "cell_type": "code",
      "source": [
        "#Since the obj_cols was defined earlier, the \"Target\" is still present\n",
        "obj_cols.drop('Target', axis =1, inplace=True)"
      ],
      "metadata": {
        "id": "cCSmZonYEsCe"
      },
      "execution_count": null,
      "outputs": []
    },
    {
      "cell_type": "code",
      "source": [
        "num_tuple = (scaler, num_cols.columns.tolist())\n",
        "obj_tuple = (ohe, obj_cols.columns.tolist())\n",
        "ord_tuple = (ord, ord_cols.columns.tolist())"
      ],
      "metadata": {
        "id": "RaIBOwpp1cWx"
      },
      "execution_count": null,
      "outputs": []
    },
    {
      "cell_type": "markdown",
      "source": [
        "##Create Column transformer"
      ],
      "metadata": {
        "id": "JhHE8nnB2sHW"
      }
    },
    {
      "cell_type": "code",
      "source": [
        "#ordinal encoding seems to be creating issues.  Let's skip for now\n",
        "#col_transformer = make_column_transformer(num_tuple, obj_tuple, ord_tuple)\n",
        "#Try without ordinal encoding\n",
        "col_transformer = make_column_transformer(num_tuple, obj_tuple)\n",
        "col_transformer"
      ],
      "metadata": {
        "colab": {
          "base_uri": "https://localhost:8080/",
          "height": 118
        },
        "id": "ndn8fIMf2eO2",
        "outputId": "17b07d91-543d-4744-8469-6d0dbfd47ba2"
      },
      "execution_count": null,
      "outputs": [
        {
          "output_type": "execute_result",
          "data": {
            "text/plain": [
              "ColumnTransformer(transformers=[('standardscaler', StandardScaler(),\n",
              "                                 ['Previous qualification (grade)',\n",
              "                                  'Admission grade',\n",
              "                                  'Curricular units 1st sem (grade)',\n",
              "                                  'Curricular units 2nd sem (grade)',\n",
              "                                  'Unemployment rate', 'Inflation rate',\n",
              "                                  'GDP']),\n",
              "                                ('onehotencoder', OneHotEncoder(sparse=False),\n",
              "                                 ['Marital status', 'Application mode',\n",
              "                                  'Application order', 'Course',\n",
              "                                  'Daytime/evening atten...\n",
              "                                  'Scholarship holder', 'Age at enrollment',\n",
              "                                  'International',\n",
              "                                  'Curricular units 1st sem (enrolled)',\n",
              "                                  'Curricular units 1st sem (evaluations)',\n",
              "                                  'Curricular units 1st sem (approved)',\n",
              "                                  'Curricular units 1st sem (without '\n",
              "                                  'evaluations)',\n",
              "                                  'Curricular units 2nd sem (enrolled)',\n",
              "                                  'Curricular units 2nd sem (evaluations)',\n",
              "                                  'Curricular units 2nd sem (approved)',\n",
              "                                  'Curricular units 2nd sem (without '\n",
              "                                  'evaluations)'])])"
            ],
            "text/html": [
              "<style>#sk-4c698df9-92fe-4afb-8359-a0c4db6c66f9 {color: black;background-color: white;}#sk-4c698df9-92fe-4afb-8359-a0c4db6c66f9 pre{padding: 0;}#sk-4c698df9-92fe-4afb-8359-a0c4db6c66f9 div.sk-toggleable {background-color: white;}#sk-4c698df9-92fe-4afb-8359-a0c4db6c66f9 label.sk-toggleable__label {cursor: pointer;display: block;width: 100%;margin-bottom: 0;padding: 0.3em;box-sizing: border-box;text-align: center;}#sk-4c698df9-92fe-4afb-8359-a0c4db6c66f9 label.sk-toggleable__label-arrow:before {content: \"▸\";float: left;margin-right: 0.25em;color: #696969;}#sk-4c698df9-92fe-4afb-8359-a0c4db6c66f9 label.sk-toggleable__label-arrow:hover:before {color: black;}#sk-4c698df9-92fe-4afb-8359-a0c4db6c66f9 div.sk-estimator:hover label.sk-toggleable__label-arrow:before {color: black;}#sk-4c698df9-92fe-4afb-8359-a0c4db6c66f9 div.sk-toggleable__content {max-height: 0;max-width: 0;overflow: hidden;text-align: left;background-color: #f0f8ff;}#sk-4c698df9-92fe-4afb-8359-a0c4db6c66f9 div.sk-toggleable__content pre {margin: 0.2em;color: black;border-radius: 0.25em;background-color: #f0f8ff;}#sk-4c698df9-92fe-4afb-8359-a0c4db6c66f9 input.sk-toggleable__control:checked~div.sk-toggleable__content {max-height: 200px;max-width: 100%;overflow: auto;}#sk-4c698df9-92fe-4afb-8359-a0c4db6c66f9 input.sk-toggleable__control:checked~label.sk-toggleable__label-arrow:before {content: \"▾\";}#sk-4c698df9-92fe-4afb-8359-a0c4db6c66f9 div.sk-estimator input.sk-toggleable__control:checked~label.sk-toggleable__label {background-color: #d4ebff;}#sk-4c698df9-92fe-4afb-8359-a0c4db6c66f9 div.sk-label input.sk-toggleable__control:checked~label.sk-toggleable__label {background-color: #d4ebff;}#sk-4c698df9-92fe-4afb-8359-a0c4db6c66f9 input.sk-hidden--visually {border: 0;clip: rect(1px 1px 1px 1px);clip: rect(1px, 1px, 1px, 1px);height: 1px;margin: -1px;overflow: hidden;padding: 0;position: absolute;width: 1px;}#sk-4c698df9-92fe-4afb-8359-a0c4db6c66f9 div.sk-estimator {font-family: monospace;background-color: #f0f8ff;border: 1px dotted black;border-radius: 0.25em;box-sizing: border-box;margin-bottom: 0.5em;}#sk-4c698df9-92fe-4afb-8359-a0c4db6c66f9 div.sk-estimator:hover {background-color: #d4ebff;}#sk-4c698df9-92fe-4afb-8359-a0c4db6c66f9 div.sk-parallel-item::after {content: \"\";width: 100%;border-bottom: 1px solid gray;flex-grow: 1;}#sk-4c698df9-92fe-4afb-8359-a0c4db6c66f9 div.sk-label:hover label.sk-toggleable__label {background-color: #d4ebff;}#sk-4c698df9-92fe-4afb-8359-a0c4db6c66f9 div.sk-serial::before {content: \"\";position: absolute;border-left: 1px solid gray;box-sizing: border-box;top: 2em;bottom: 0;left: 50%;}#sk-4c698df9-92fe-4afb-8359-a0c4db6c66f9 div.sk-serial {display: flex;flex-direction: column;align-items: center;background-color: white;padding-right: 0.2em;padding-left: 0.2em;}#sk-4c698df9-92fe-4afb-8359-a0c4db6c66f9 div.sk-item {z-index: 1;}#sk-4c698df9-92fe-4afb-8359-a0c4db6c66f9 div.sk-parallel {display: flex;align-items: stretch;justify-content: center;background-color: white;}#sk-4c698df9-92fe-4afb-8359-a0c4db6c66f9 div.sk-parallel::before {content: \"\";position: absolute;border-left: 1px solid gray;box-sizing: border-box;top: 2em;bottom: 0;left: 50%;}#sk-4c698df9-92fe-4afb-8359-a0c4db6c66f9 div.sk-parallel-item {display: flex;flex-direction: column;position: relative;background-color: white;}#sk-4c698df9-92fe-4afb-8359-a0c4db6c66f9 div.sk-parallel-item:first-child::after {align-self: flex-end;width: 50%;}#sk-4c698df9-92fe-4afb-8359-a0c4db6c66f9 div.sk-parallel-item:last-child::after {align-self: flex-start;width: 50%;}#sk-4c698df9-92fe-4afb-8359-a0c4db6c66f9 div.sk-parallel-item:only-child::after {width: 0;}#sk-4c698df9-92fe-4afb-8359-a0c4db6c66f9 div.sk-dashed-wrapped {border: 1px dashed gray;margin: 0 0.4em 0.5em 0.4em;box-sizing: border-box;padding-bottom: 0.4em;background-color: white;position: relative;}#sk-4c698df9-92fe-4afb-8359-a0c4db6c66f9 div.sk-label label {font-family: monospace;font-weight: bold;background-color: white;display: inline-block;line-height: 1.2em;}#sk-4c698df9-92fe-4afb-8359-a0c4db6c66f9 div.sk-label-container {position: relative;z-index: 2;text-align: center;}#sk-4c698df9-92fe-4afb-8359-a0c4db6c66f9 div.sk-container {/* jupyter's `normalize.less` sets `[hidden] { display: none; }` but bootstrap.min.css set `[hidden] { display: none !important; }` so we also need the `!important` here to be able to override the default hidden behavior on the sphinx rendered scikit-learn.org. See: https://github.com/scikit-learn/scikit-learn/issues/21755 */display: inline-block !important;position: relative;}#sk-4c698df9-92fe-4afb-8359-a0c4db6c66f9 div.sk-text-repr-fallback {display: none;}</style><div id=\"sk-4c698df9-92fe-4afb-8359-a0c4db6c66f9\" class=\"sk-top-container\"><div class=\"sk-text-repr-fallback\"><pre>ColumnTransformer(transformers=[(&#x27;standardscaler&#x27;, StandardScaler(),\n",
              "                                 [&#x27;Previous qualification (grade)&#x27;,\n",
              "                                  &#x27;Admission grade&#x27;,\n",
              "                                  &#x27;Curricular units 1st sem (grade)&#x27;,\n",
              "                                  &#x27;Curricular units 2nd sem (grade)&#x27;,\n",
              "                                  &#x27;Unemployment rate&#x27;, &#x27;Inflation rate&#x27;,\n",
              "                                  &#x27;GDP&#x27;]),\n",
              "                                (&#x27;onehotencoder&#x27;, OneHotEncoder(sparse=False),\n",
              "                                 [&#x27;Marital status&#x27;, &#x27;Application mode&#x27;,\n",
              "                                  &#x27;Application order&#x27;, &#x27;Course&#x27;,\n",
              "                                  &#x27;Daytime/evening atten...\n",
              "                                  &#x27;Scholarship holder&#x27;, &#x27;Age at enrollment&#x27;,\n",
              "                                  &#x27;International&#x27;,\n",
              "                                  &#x27;Curricular units 1st sem (enrolled)&#x27;,\n",
              "                                  &#x27;Curricular units 1st sem (evaluations)&#x27;,\n",
              "                                  &#x27;Curricular units 1st sem (approved)&#x27;,\n",
              "                                  &#x27;Curricular units 1st sem (without &#x27;\n",
              "                                  &#x27;evaluations)&#x27;,\n",
              "                                  &#x27;Curricular units 2nd sem (enrolled)&#x27;,\n",
              "                                  &#x27;Curricular units 2nd sem (evaluations)&#x27;,\n",
              "                                  &#x27;Curricular units 2nd sem (approved)&#x27;,\n",
              "                                  &#x27;Curricular units 2nd sem (without &#x27;\n",
              "                                  &#x27;evaluations)&#x27;])])</pre><b>Please rerun this cell to show the HTML repr or trust the notebook.</b></div><div class=\"sk-container\" hidden><div class=\"sk-item sk-dashed-wrapped\"><div class=\"sk-label-container\"><div class=\"sk-label sk-toggleable\"><input class=\"sk-toggleable__control sk-hidden--visually\" id=\"59cf0b9b-b5aa-4f15-a189-f29b3749a87f\" type=\"checkbox\" ><label for=\"59cf0b9b-b5aa-4f15-a189-f29b3749a87f\" class=\"sk-toggleable__label sk-toggleable__label-arrow\">ColumnTransformer</label><div class=\"sk-toggleable__content\"><pre>ColumnTransformer(transformers=[(&#x27;standardscaler&#x27;, StandardScaler(),\n",
              "                                 [&#x27;Previous qualification (grade)&#x27;,\n",
              "                                  &#x27;Admission grade&#x27;,\n",
              "                                  &#x27;Curricular units 1st sem (grade)&#x27;,\n",
              "                                  &#x27;Curricular units 2nd sem (grade)&#x27;,\n",
              "                                  &#x27;Unemployment rate&#x27;, &#x27;Inflation rate&#x27;,\n",
              "                                  &#x27;GDP&#x27;]),\n",
              "                                (&#x27;onehotencoder&#x27;, OneHotEncoder(sparse=False),\n",
              "                                 [&#x27;Marital status&#x27;, &#x27;Application mode&#x27;,\n",
              "                                  &#x27;Application order&#x27;, &#x27;Course&#x27;,\n",
              "                                  &#x27;Daytime/evening atten...\n",
              "                                  &#x27;Scholarship holder&#x27;, &#x27;Age at enrollment&#x27;,\n",
              "                                  &#x27;International&#x27;,\n",
              "                                  &#x27;Curricular units 1st sem (enrolled)&#x27;,\n",
              "                                  &#x27;Curricular units 1st sem (evaluations)&#x27;,\n",
              "                                  &#x27;Curricular units 1st sem (approved)&#x27;,\n",
              "                                  &#x27;Curricular units 1st sem (without &#x27;\n",
              "                                  &#x27;evaluations)&#x27;,\n",
              "                                  &#x27;Curricular units 2nd sem (enrolled)&#x27;,\n",
              "                                  &#x27;Curricular units 2nd sem (evaluations)&#x27;,\n",
              "                                  &#x27;Curricular units 2nd sem (approved)&#x27;,\n",
              "                                  &#x27;Curricular units 2nd sem (without &#x27;\n",
              "                                  &#x27;evaluations)&#x27;])])</pre></div></div></div><div class=\"sk-parallel\"><div class=\"sk-parallel-item\"><div class=\"sk-item\"><div class=\"sk-label-container\"><div class=\"sk-label sk-toggleable\"><input class=\"sk-toggleable__control sk-hidden--visually\" id=\"3021826f-b576-4916-9fa7-bc9f4fb393a0\" type=\"checkbox\" ><label for=\"3021826f-b576-4916-9fa7-bc9f4fb393a0\" class=\"sk-toggleable__label sk-toggleable__label-arrow\">standardscaler</label><div class=\"sk-toggleable__content\"><pre>[&#x27;Previous qualification (grade)&#x27;, &#x27;Admission grade&#x27;, &#x27;Curricular units 1st sem (grade)&#x27;, &#x27;Curricular units 2nd sem (grade)&#x27;, &#x27;Unemployment rate&#x27;, &#x27;Inflation rate&#x27;, &#x27;GDP&#x27;]</pre></div></div></div><div class=\"sk-serial\"><div class=\"sk-item\"><div class=\"sk-estimator sk-toggleable\"><input class=\"sk-toggleable__control sk-hidden--visually\" id=\"3d7c6aaa-9c23-4903-969b-9511cb1d6321\" type=\"checkbox\" ><label for=\"3d7c6aaa-9c23-4903-969b-9511cb1d6321\" class=\"sk-toggleable__label sk-toggleable__label-arrow\">StandardScaler</label><div class=\"sk-toggleable__content\"><pre>StandardScaler()</pre></div></div></div></div></div></div><div class=\"sk-parallel-item\"><div class=\"sk-item\"><div class=\"sk-label-container\"><div class=\"sk-label sk-toggleable\"><input class=\"sk-toggleable__control sk-hidden--visually\" id=\"76d4ada6-238a-4374-811f-520d76863ce5\" type=\"checkbox\" ><label for=\"76d4ada6-238a-4374-811f-520d76863ce5\" class=\"sk-toggleable__label sk-toggleable__label-arrow\">onehotencoder</label><div class=\"sk-toggleable__content\"><pre>[&#x27;Marital status&#x27;, &#x27;Application mode&#x27;, &#x27;Application order&#x27;, &#x27;Course&#x27;, &#x27;Daytime/evening attendance&#x27;, &#x27;Previous qualification&#x27;, &#x27;Nacionality&#x27;, &quot;Mother&#x27;s qualification&quot;, &quot;Father&#x27;s qualification&quot;, &quot;Mother&#x27;s occupation&quot;, &quot;Father&#x27;s occupation&quot;, &#x27;Displaced&#x27;, &#x27;Educational special needs&#x27;, &#x27;Debtor&#x27;, &#x27;Tuition fees up to date&#x27;, &#x27;Gender&#x27;, &#x27;Scholarship holder&#x27;, &#x27;Age at enrollment&#x27;, &#x27;International&#x27;, &#x27;Curricular units 1st sem (enrolled)&#x27;, &#x27;Curricular units 1st sem (evaluations)&#x27;, &#x27;Curricular units 1st sem (approved)&#x27;, &#x27;Curricular units 1st sem (without evaluations)&#x27;, &#x27;Curricular units 2nd sem (enrolled)&#x27;, &#x27;Curricular units 2nd sem (evaluations)&#x27;, &#x27;Curricular units 2nd sem (approved)&#x27;, &#x27;Curricular units 2nd sem (without evaluations)&#x27;]</pre></div></div></div><div class=\"sk-serial\"><div class=\"sk-item\"><div class=\"sk-estimator sk-toggleable\"><input class=\"sk-toggleable__control sk-hidden--visually\" id=\"502f2770-c266-4925-97c2-7ee72d230126\" type=\"checkbox\" ><label for=\"502f2770-c266-4925-97c2-7ee72d230126\" class=\"sk-toggleable__label sk-toggleable__label-arrow\">OneHotEncoder</label><div class=\"sk-toggleable__content\"><pre>OneHotEncoder(sparse=False)</pre></div></div></div></div></div></div></div></div></div></div>"
            ]
          },
          "metadata": {},
          "execution_count": 65
        }
      ]
    },
    {
      "cell_type": "code",
      "source": [
        "test= col_transformer.fit_transform(X_train)"
      ],
      "metadata": {
        "id": "62Rm8fe__7N6"
      },
      "execution_count": null,
      "outputs": []
    },
    {
      "cell_type": "markdown",
      "source": [
        "#Data Imbalance\n",
        "The count of classes in the target feature shows imbalance.  The three methods for balancing the data are:\n",
        "1. SMOTE - Create synthetic data with a KNN model on the data near the center of the minority data cluster.\n",
        "2. Undersampling - Decrease the greater classes size by random value removal\n",
        "3. Oversampling - Increase the lesser classes size by inserting duplicate values\n",
        "\n",
        "In this analysis, I will show the impact of each technique on the model predictions.\n"
      ],
      "metadata": {
        "id": "bBx0yV4fzDQA"
      }
    },
    {
      "cell_type": "markdown",
      "source": [
        "###SMOTE - Synthetic Minority Oversampling Technique\n",
        "Works by selecting pair of minority class observations and then creating a synthetic point that lies on the line connecting these two. It is pretty liberal about selecting the minority points and may end up picking up minority points that are outliers.\n",
        "\n",
        "To use SMOTE we have to fit to a SMOTE-pipeline\n",
        "i.e. \n",
        "```\n",
        "log_reg_smote = LogisticRegression(max_iter = 1000)\n",
        "log_reg_smote_pipe = smote_pipe(scaler, smote, log_reg_smote)\n",
        "```"
      ],
      "metadata": {
        "id": "SdTBv2Uqxj3o"
      }
    },
    {
      "cell_type": "code",
      "source": [
        "#Create the Smote sampling strategy\n",
        "smote = SMOTE(sampling_strategy='auto')\n",
        "\n",
        "#create smote-resized X_, y_ values\n",
        "X_train_smote, y_train_smote = smote.fit_resample(X_train, y_train)\n",
        "\n",
        "#show the resized datasets\n",
        "print('SMOTE X_train_smote class balance')\n",
        "print(pd.Series(y_train_smote).value_counts())"
      ],
      "metadata": {
        "id": "Hk2dC6Uwxjge",
        "colab": {
          "base_uri": "https://localhost:8080/"
        },
        "outputId": "758414c5-f977-40a4-bb01-f450b4f6422d"
      },
      "execution_count": null,
      "outputs": [
        {
          "output_type": "stream",
          "name": "stdout",
          "text": [
            "SMOTE X_train_smote class balance\n",
            "1    1656\n",
            "0    1656\n",
            "Name: Target, dtype: int64\n"
          ]
        }
      ]
    },
    {
      "cell_type": "markdown",
      "source": [
        "###Undersampling\n",
        "Decrease the greater classes size by random value removal"
      ],
      "metadata": {
        "id": "cDUacoMu0_n-"
      }
    },
    {
      "cell_type": "code",
      "source": [
        "# Create an undersampling pipeline\n",
        "under_sampler = RandomUnderSampler()\n",
        "under_sample_pipe = make_sampler_pipeline(scaler, under_sampler)\n",
        "\n",
        "# Scale and oversample the data.\n",
        "X_train_under, y_train_under = under_sample_pipe.fit_resample(X_train, y_train)\n",
        "\n",
        "# Explore the overesampled data\n",
        "print('Undersampled X_train_over class balance')\n",
        "print(pd.Series(y_train_under).value_counts())"
      ],
      "metadata": {
        "id": "xfP6-wAUHD4x",
        "colab": {
          "base_uri": "https://localhost:8080/",
          "height": 241
        },
        "outputId": "652cbfdb-5b22-40f3-e744-8cdeb89b5ca9"
      },
      "execution_count": null,
      "outputs": [
        {
          "output_type": "error",
          "ename": "NameError",
          "evalue": "ignored",
          "traceback": [
            "\u001b[0;31m---------------------------------------------------------------------------\u001b[0m",
            "\u001b[0;31mNameError\u001b[0m                                 Traceback (most recent call last)",
            "\u001b[0;32m<ipython-input-33-07abfc4c7770>\u001b[0m in \u001b[0;36m<module>\u001b[0;34m\u001b[0m\n\u001b[1;32m      1\u001b[0m \u001b[0;31m# Create an undersampling pipeline\u001b[0m\u001b[0;34m\u001b[0m\u001b[0;34m\u001b[0m\u001b[0;34m\u001b[0m\u001b[0m\n\u001b[1;32m      2\u001b[0m \u001b[0munder_sampler\u001b[0m \u001b[0;34m=\u001b[0m \u001b[0mRandomUnderSampler\u001b[0m\u001b[0;34m(\u001b[0m\u001b[0;34m)\u001b[0m\u001b[0;34m\u001b[0m\u001b[0;34m\u001b[0m\u001b[0m\n\u001b[0;32m----> 3\u001b[0;31m \u001b[0munder_sample_pipe\u001b[0m \u001b[0;34m=\u001b[0m \u001b[0mmake_sampler_pipeline\u001b[0m\u001b[0;34m(\u001b[0m\u001b[0mscaler\u001b[0m\u001b[0;34m,\u001b[0m \u001b[0munder_sampler\u001b[0m\u001b[0;34m)\u001b[0m\u001b[0;34m\u001b[0m\u001b[0;34m\u001b[0m\u001b[0m\n\u001b[0m\u001b[1;32m      4\u001b[0m \u001b[0;34m\u001b[0m\u001b[0m\n\u001b[1;32m      5\u001b[0m \u001b[0;31m# Scale and oversample the data.\u001b[0m\u001b[0;34m\u001b[0m\u001b[0;34m\u001b[0m\u001b[0;34m\u001b[0m\u001b[0m\n",
            "\u001b[0;31mNameError\u001b[0m: name 'scaler' is not defined"
          ]
        }
      ]
    },
    {
      "cell_type": "markdown",
      "source": [
        "###Oversampling\n",
        "Introduce duplicates of the data in the minority class."
      ],
      "metadata": {
        "id": "WIkN33EM2Uc4"
      }
    },
    {
      "cell_type": "code",
      "source": [
        "# Create an oversampling pipeline\n",
        "over_sampler = RandomOverSampler()\n",
        "over_sample_pipe = make_sampler_pipeline(scaler, over_sampler)\n",
        "\n",
        "# Scale and oversample the data.\n",
        "X_train_over, y_train_over = over_sample_pipe.fit_resample(X_train, y_train)\n",
        "\n",
        "# Explore the overesampled data\n",
        "print('Oversampled X_train_over class balance')\n",
        "print(pd.Series(y_train_over).value_counts())"
      ],
      "metadata": {
        "id": "5g0E5Xfp5HT5"
      },
      "execution_count": null,
      "outputs": []
    },
    {
      "cell_type": "code",
      "source": [
        "#Categorical columns -- OHE required\n",
        "obj_cols = X.drop('Application order', axis =1).columns\n",
        "\n",
        "#Cateforical ordinal - Ordinal Encode\n",
        "ord_cols = ['Application order']\n",
        "\n",
        "#numerical columns - Standard Scale\n",
        "num_cols = X.select_dtypes(include='number').columns\n"
      ],
      "metadata": {
        "id": "RCT3GrsyiOGc"
      },
      "execution_count": null,
      "outputs": []
    },
    {
      "cell_type": "markdown",
      "source": [
        "#PCA - Not yet Implemented in pipeline"
      ],
      "metadata": {
        "id": "ACaQEcwk6wpd"
      }
    },
    {
      "cell_type": "code",
      "source": [
        "pca=PCA()\n",
        "pca_pipe = make_pipeline(col_transformer, PCA)\n",
        "pca_pipe.fit_transform(X_train)"
      ],
      "metadata": {
        "colab": {
          "base_uri": "https://localhost:8080/",
          "height": 354
        },
        "id": "Liq4PCQj86I8",
        "outputId": "83954299-822f-42bc-c8cd-927e8aba31e4"
      },
      "execution_count": null,
      "outputs": [
        {
          "output_type": "error",
          "ename": "AttributeError",
          "evalue": "ignored",
          "traceback": [
            "\u001b[0;31m---------------------------------------------------------------------------\u001b[0m",
            "\u001b[0;31mAttributeError\u001b[0m                            Traceback (most recent call last)",
            "\u001b[0;32m<ipython-input-68-d858c493d7ba>\u001b[0m in \u001b[0;36m<module>\u001b[0;34m\u001b[0m\n\u001b[1;32m      1\u001b[0m \u001b[0mpca\u001b[0m\u001b[0;34m=\u001b[0m\u001b[0mPCA\u001b[0m\u001b[0;34m(\u001b[0m\u001b[0;34m)\u001b[0m\u001b[0;34m\u001b[0m\u001b[0;34m\u001b[0m\u001b[0m\n\u001b[1;32m      2\u001b[0m \u001b[0mpca_pipe\u001b[0m \u001b[0;34m=\u001b[0m \u001b[0mmake_pipeline\u001b[0m\u001b[0;34m(\u001b[0m\u001b[0mcol_transformer\u001b[0m\u001b[0;34m,\u001b[0m \u001b[0mPCA\u001b[0m\u001b[0;34m)\u001b[0m\u001b[0;34m\u001b[0m\u001b[0;34m\u001b[0m\u001b[0m\n\u001b[0;32m----> 3\u001b[0;31m \u001b[0mpca_pipe\u001b[0m\u001b[0;34m.\u001b[0m\u001b[0mfit_transform\u001b[0m\u001b[0;34m(\u001b[0m\u001b[0mX_train\u001b[0m\u001b[0;34m)\u001b[0m\u001b[0;34m\u001b[0m\u001b[0;34m\u001b[0m\u001b[0m\n\u001b[0m",
            "\u001b[0;32m/usr/local/lib/python3.8/dist-packages/sklearn/pipeline.py\u001b[0m in \u001b[0;36mfit_transform\u001b[0;34m(self, X, y, **fit_params)\u001b[0m\n\u001b[1;32m    432\u001b[0m             \u001b[0mfit_params_last_step\u001b[0m \u001b[0;34m=\u001b[0m \u001b[0mfit_params_steps\u001b[0m\u001b[0;34m[\u001b[0m\u001b[0mself\u001b[0m\u001b[0;34m.\u001b[0m\u001b[0msteps\u001b[0m\u001b[0;34m[\u001b[0m\u001b[0;34m-\u001b[0m\u001b[0;36m1\u001b[0m\u001b[0;34m]\u001b[0m\u001b[0;34m[\u001b[0m\u001b[0;36m0\u001b[0m\u001b[0;34m]\u001b[0m\u001b[0;34m]\u001b[0m\u001b[0;34m\u001b[0m\u001b[0;34m\u001b[0m\u001b[0m\n\u001b[1;32m    433\u001b[0m             \u001b[0;32mif\u001b[0m \u001b[0mhasattr\u001b[0m\u001b[0;34m(\u001b[0m\u001b[0mlast_step\u001b[0m\u001b[0;34m,\u001b[0m \u001b[0;34m\"fit_transform\"\u001b[0m\u001b[0;34m)\u001b[0m\u001b[0;34m:\u001b[0m\u001b[0;34m\u001b[0m\u001b[0;34m\u001b[0m\u001b[0m\n\u001b[0;32m--> 434\u001b[0;31m                 \u001b[0;32mreturn\u001b[0m \u001b[0mlast_step\u001b[0m\u001b[0;34m.\u001b[0m\u001b[0mfit_transform\u001b[0m\u001b[0;34m(\u001b[0m\u001b[0mXt\u001b[0m\u001b[0;34m,\u001b[0m \u001b[0my\u001b[0m\u001b[0;34m,\u001b[0m \u001b[0;34m**\u001b[0m\u001b[0mfit_params_last_step\u001b[0m\u001b[0;34m)\u001b[0m\u001b[0;34m\u001b[0m\u001b[0;34m\u001b[0m\u001b[0m\n\u001b[0m\u001b[1;32m    435\u001b[0m             \u001b[0;32melse\u001b[0m\u001b[0;34m:\u001b[0m\u001b[0;34m\u001b[0m\u001b[0;34m\u001b[0m\u001b[0m\n\u001b[1;32m    436\u001b[0m                 \u001b[0;32mreturn\u001b[0m \u001b[0mlast_step\u001b[0m\u001b[0;34m.\u001b[0m\u001b[0mfit\u001b[0m\u001b[0;34m(\u001b[0m\u001b[0mXt\u001b[0m\u001b[0;34m,\u001b[0m \u001b[0my\u001b[0m\u001b[0;34m,\u001b[0m \u001b[0;34m**\u001b[0m\u001b[0mfit_params_last_step\u001b[0m\u001b[0;34m)\u001b[0m\u001b[0;34m.\u001b[0m\u001b[0mtransform\u001b[0m\u001b[0;34m(\u001b[0m\u001b[0mXt\u001b[0m\u001b[0;34m)\u001b[0m\u001b[0;34m\u001b[0m\u001b[0;34m\u001b[0m\u001b[0m\n",
            "\u001b[0;32m/usr/local/lib/python3.8/dist-packages/sklearn/decomposition/_pca.py\u001b[0m in \u001b[0;36mfit_transform\u001b[0;34m(self, X, y)\u001b[0m\n\u001b[1;32m    405\u001b[0m         \u001b[0mC\u001b[0m\u001b[0;34m-\u001b[0m\u001b[0mordered\u001b[0m \u001b[0marray\u001b[0m\u001b[0;34m,\u001b[0m \u001b[0muse\u001b[0m \u001b[0;34m'np.ascontiguousarray'\u001b[0m\u001b[0;34m.\u001b[0m\u001b[0;34m\u001b[0m\u001b[0;34m\u001b[0m\u001b[0m\n\u001b[1;32m    406\u001b[0m         \"\"\"\n\u001b[0;32m--> 407\u001b[0;31m         \u001b[0mU\u001b[0m\u001b[0;34m,\u001b[0m \u001b[0mS\u001b[0m\u001b[0;34m,\u001b[0m \u001b[0mVt\u001b[0m \u001b[0;34m=\u001b[0m \u001b[0mself\u001b[0m\u001b[0;34m.\u001b[0m\u001b[0m_fit\u001b[0m\u001b[0;34m(\u001b[0m\u001b[0mX\u001b[0m\u001b[0;34m)\u001b[0m\u001b[0;34m\u001b[0m\u001b[0;34m\u001b[0m\u001b[0m\n\u001b[0m\u001b[1;32m    408\u001b[0m         \u001b[0mU\u001b[0m \u001b[0;34m=\u001b[0m \u001b[0mU\u001b[0m\u001b[0;34m[\u001b[0m\u001b[0;34m:\u001b[0m\u001b[0;34m,\u001b[0m \u001b[0;34m:\u001b[0m \u001b[0mself\u001b[0m\u001b[0;34m.\u001b[0m\u001b[0mn_components_\u001b[0m\u001b[0;34m]\u001b[0m\u001b[0;34m\u001b[0m\u001b[0;34m\u001b[0m\u001b[0m\n\u001b[1;32m    409\u001b[0m \u001b[0;34m\u001b[0m\u001b[0m\n",
            "\u001b[0;31mAttributeError\u001b[0m: 'numpy.ndarray' object has no attribute '_fit'"
          ]
        }
      ]
    },
    {
      "cell_type": "markdown",
      "source": [
        "#Prediction Models\n",
        "For this project I will compare the following models for their ability to predict the `Target` outcome:\n",
        " - Logistic Classifier\n",
        " - Random Forest Classifier\n",
        " - K Nearest Neighbors Classifier\n",
        "\n",
        "For each of these models, I will look at the effects of treating the data imbalance with:\n",
        " - SMOTE\n",
        " - Undersampling\n",
        " - Oversampling\n",
        "\n",
        "A custom function `eval_sampling` was included to print the classification report and plot the confusion matrix for each model.  \n",
        "\n",
        "After evaluating the balancing technique, each model will be tuned by adjusting various hyperparameters. The "
      ],
      "metadata": {
        "id": "HXAtO-JCMmAX"
      }
    },
    {
      "cell_type": "markdown",
      "source": [
        "##Random Forest"
      ],
      "metadata": {
        "id": "ixKGZ7PCMsMG"
      }
    },
    {
      "cell_type": "code",
      "source": [
        "rf = RandomForestClassifier(random_state=42)"
      ],
      "metadata": {
        "id": "CZyFyweNNzDZ"
      },
      "execution_count": null,
      "outputs": []
    },
    {
      "cell_type": "code",
      "source": [
        "rf_pipe = make_pipeline(col_transformer,rf)\n",
        "rf_pipe.fit(X_train,y_train)"
      ],
      "metadata": {
        "colab": {
          "base_uri": "https://localhost:8080/",
          "height": 336
        },
        "id": "kr2vIZKb3pDF",
        "outputId": "d58417a9-711e-44e4-e270-266c95df3247"
      },
      "execution_count": null,
      "outputs": [
        {
          "output_type": "error",
          "ename": "ValueError",
          "evalue": "ignored",
          "traceback": [
            "\u001b[0;31m---------------------------------------------------------------------------\u001b[0m",
            "\u001b[0;31mValueError\u001b[0m                                Traceback (most recent call last)",
            "\u001b[0;32m<ipython-input-43-3cafd5a2b5d5>\u001b[0m in \u001b[0;36m<module>\u001b[0;34m\u001b[0m\n\u001b[1;32m      1\u001b[0m \u001b[0mrf_pipe\u001b[0m \u001b[0;34m=\u001b[0m \u001b[0mmake_pipeline\u001b[0m\u001b[0;34m(\u001b[0m\u001b[0mcol_transformer\u001b[0m\u001b[0;34m,\u001b[0m\u001b[0mrf\u001b[0m\u001b[0;34m)\u001b[0m\u001b[0;34m\u001b[0m\u001b[0;34m\u001b[0m\u001b[0m\n\u001b[0;32m----> 2\u001b[0;31m \u001b[0mrf_pipe\u001b[0m\u001b[0;34m.\u001b[0m\u001b[0mfit\u001b[0m\u001b[0;34m(\u001b[0m\u001b[0mX_train\u001b[0m\u001b[0;34m,\u001b[0m\u001b[0my_train\u001b[0m\u001b[0;34m)\u001b[0m\u001b[0;34m\u001b[0m\u001b[0;34m\u001b[0m\u001b[0m\n\u001b[0m",
            "\u001b[0;32m/usr/local/lib/python3.8/dist-packages/sklearn/pipeline.py\u001b[0m in \u001b[0;36mfit\u001b[0;34m(self, X, y, **fit_params)\u001b[0m\n\u001b[1;32m    388\u001b[0m         \"\"\"\n\u001b[1;32m    389\u001b[0m         \u001b[0mfit_params_steps\u001b[0m \u001b[0;34m=\u001b[0m \u001b[0mself\u001b[0m\u001b[0;34m.\u001b[0m\u001b[0m_check_fit_params\u001b[0m\u001b[0;34m(\u001b[0m\u001b[0;34m**\u001b[0m\u001b[0mfit_params\u001b[0m\u001b[0;34m)\u001b[0m\u001b[0;34m\u001b[0m\u001b[0;34m\u001b[0m\u001b[0m\n\u001b[0;32m--> 390\u001b[0;31m         \u001b[0mXt\u001b[0m \u001b[0;34m=\u001b[0m \u001b[0mself\u001b[0m\u001b[0;34m.\u001b[0m\u001b[0m_fit\u001b[0m\u001b[0;34m(\u001b[0m\u001b[0mX\u001b[0m\u001b[0;34m,\u001b[0m \u001b[0my\u001b[0m\u001b[0;34m,\u001b[0m \u001b[0;34m**\u001b[0m\u001b[0mfit_params_steps\u001b[0m\u001b[0;34m)\u001b[0m\u001b[0;34m\u001b[0m\u001b[0;34m\u001b[0m\u001b[0m\n\u001b[0m\u001b[1;32m    391\u001b[0m         \u001b[0;32mwith\u001b[0m \u001b[0m_print_elapsed_time\u001b[0m\u001b[0;34m(\u001b[0m\u001b[0;34m\"Pipeline\"\u001b[0m\u001b[0;34m,\u001b[0m \u001b[0mself\u001b[0m\u001b[0;34m.\u001b[0m\u001b[0m_log_message\u001b[0m\u001b[0;34m(\u001b[0m\u001b[0mlen\u001b[0m\u001b[0;34m(\u001b[0m\u001b[0mself\u001b[0m\u001b[0;34m.\u001b[0m\u001b[0msteps\u001b[0m\u001b[0;34m)\u001b[0m \u001b[0;34m-\u001b[0m \u001b[0;36m1\u001b[0m\u001b[0;34m)\u001b[0m\u001b[0;34m)\u001b[0m\u001b[0;34m:\u001b[0m\u001b[0;34m\u001b[0m\u001b[0;34m\u001b[0m\u001b[0m\n\u001b[1;32m    392\u001b[0m             \u001b[0;32mif\u001b[0m \u001b[0mself\u001b[0m\u001b[0;34m.\u001b[0m\u001b[0m_final_estimator\u001b[0m \u001b[0;34m!=\u001b[0m \u001b[0;34m\"passthrough\"\u001b[0m\u001b[0;34m:\u001b[0m\u001b[0;34m\u001b[0m\u001b[0;34m\u001b[0m\u001b[0m\n",
            "\u001b[0;32m/usr/local/lib/python3.8/dist-packages/sklearn/pipeline.py\u001b[0m in \u001b[0;36m_fit\u001b[0;34m(self, X, y, **fit_params_steps)\u001b[0m\n\u001b[1;32m    346\u001b[0m                 \u001b[0mcloned_transformer\u001b[0m \u001b[0;34m=\u001b[0m \u001b[0mclone\u001b[0m\u001b[0;34m(\u001b[0m\u001b[0mtransformer\u001b[0m\u001b[0;34m)\u001b[0m\u001b[0;34m\u001b[0m\u001b[0;34m\u001b[0m\u001b[0m\n\u001b[1;32m    347\u001b[0m             \u001b[0;31m# Fit or load from cache the current transformer\u001b[0m\u001b[0;34m\u001b[0m\u001b[0;34m\u001b[0m\u001b[0;34m\u001b[0m\u001b[0m\n\u001b[0;32m--> 348\u001b[0;31m             X, fitted_transformer = fit_transform_one_cached(\n\u001b[0m\u001b[1;32m    349\u001b[0m                 \u001b[0mcloned_transformer\u001b[0m\u001b[0;34m,\u001b[0m\u001b[0;34m\u001b[0m\u001b[0;34m\u001b[0m\u001b[0m\n\u001b[1;32m    350\u001b[0m                 \u001b[0mX\u001b[0m\u001b[0;34m,\u001b[0m\u001b[0;34m\u001b[0m\u001b[0;34m\u001b[0m\u001b[0m\n",
            "\u001b[0;32m/usr/local/lib/python3.8/dist-packages/joblib/memory.py\u001b[0m in \u001b[0;36m__call__\u001b[0;34m(self, *args, **kwargs)\u001b[0m\n\u001b[1;32m    347\u001b[0m \u001b[0;34m\u001b[0m\u001b[0m\n\u001b[1;32m    348\u001b[0m     \u001b[0;32mdef\u001b[0m \u001b[0m__call__\u001b[0m\u001b[0;34m(\u001b[0m\u001b[0mself\u001b[0m\u001b[0;34m,\u001b[0m \u001b[0;34m*\u001b[0m\u001b[0margs\u001b[0m\u001b[0;34m,\u001b[0m \u001b[0;34m**\u001b[0m\u001b[0mkwargs\u001b[0m\u001b[0;34m)\u001b[0m\u001b[0;34m:\u001b[0m\u001b[0;34m\u001b[0m\u001b[0;34m\u001b[0m\u001b[0m\n\u001b[0;32m--> 349\u001b[0;31m         \u001b[0;32mreturn\u001b[0m \u001b[0mself\u001b[0m\u001b[0;34m.\u001b[0m\u001b[0mfunc\u001b[0m\u001b[0;34m(\u001b[0m\u001b[0;34m*\u001b[0m\u001b[0margs\u001b[0m\u001b[0;34m,\u001b[0m \u001b[0;34m**\u001b[0m\u001b[0mkwargs\u001b[0m\u001b[0;34m)\u001b[0m\u001b[0;34m\u001b[0m\u001b[0;34m\u001b[0m\u001b[0m\n\u001b[0m\u001b[1;32m    350\u001b[0m \u001b[0;34m\u001b[0m\u001b[0m\n\u001b[1;32m    351\u001b[0m     \u001b[0;32mdef\u001b[0m \u001b[0mcall_and_shelve\u001b[0m\u001b[0;34m(\u001b[0m\u001b[0mself\u001b[0m\u001b[0;34m,\u001b[0m \u001b[0;34m*\u001b[0m\u001b[0margs\u001b[0m\u001b[0;34m,\u001b[0m \u001b[0;34m**\u001b[0m\u001b[0mkwargs\u001b[0m\u001b[0;34m)\u001b[0m\u001b[0;34m:\u001b[0m\u001b[0;34m\u001b[0m\u001b[0;34m\u001b[0m\u001b[0m\n",
            "\u001b[0;32m/usr/local/lib/python3.8/dist-packages/sklearn/pipeline.py\u001b[0m in \u001b[0;36m_fit_transform_one\u001b[0;34m(transformer, X, y, weight, message_clsname, message, **fit_params)\u001b[0m\n\u001b[1;32m    891\u001b[0m     \u001b[0;32mwith\u001b[0m \u001b[0m_print_elapsed_time\u001b[0m\u001b[0;34m(\u001b[0m\u001b[0mmessage_clsname\u001b[0m\u001b[0;34m,\u001b[0m \u001b[0mmessage\u001b[0m\u001b[0;34m)\u001b[0m\u001b[0;34m:\u001b[0m\u001b[0;34m\u001b[0m\u001b[0;34m\u001b[0m\u001b[0m\n\u001b[1;32m    892\u001b[0m         \u001b[0;32mif\u001b[0m \u001b[0mhasattr\u001b[0m\u001b[0;34m(\u001b[0m\u001b[0mtransformer\u001b[0m\u001b[0;34m,\u001b[0m \u001b[0;34m\"fit_transform\"\u001b[0m\u001b[0;34m)\u001b[0m\u001b[0;34m:\u001b[0m\u001b[0;34m\u001b[0m\u001b[0;34m\u001b[0m\u001b[0m\n\u001b[0;32m--> 893\u001b[0;31m             \u001b[0mres\u001b[0m \u001b[0;34m=\u001b[0m \u001b[0mtransformer\u001b[0m\u001b[0;34m.\u001b[0m\u001b[0mfit_transform\u001b[0m\u001b[0;34m(\u001b[0m\u001b[0mX\u001b[0m\u001b[0;34m,\u001b[0m \u001b[0my\u001b[0m\u001b[0;34m,\u001b[0m \u001b[0;34m**\u001b[0m\u001b[0mfit_params\u001b[0m\u001b[0;34m)\u001b[0m\u001b[0;34m\u001b[0m\u001b[0;34m\u001b[0m\u001b[0m\n\u001b[0m\u001b[1;32m    894\u001b[0m         \u001b[0;32melse\u001b[0m\u001b[0;34m:\u001b[0m\u001b[0;34m\u001b[0m\u001b[0;34m\u001b[0m\u001b[0m\n\u001b[1;32m    895\u001b[0m             \u001b[0mres\u001b[0m \u001b[0;34m=\u001b[0m \u001b[0mtransformer\u001b[0m\u001b[0;34m.\u001b[0m\u001b[0mfit\u001b[0m\u001b[0;34m(\u001b[0m\u001b[0mX\u001b[0m\u001b[0;34m,\u001b[0m \u001b[0my\u001b[0m\u001b[0;34m,\u001b[0m \u001b[0;34m**\u001b[0m\u001b[0mfit_params\u001b[0m\u001b[0;34m)\u001b[0m\u001b[0;34m.\u001b[0m\u001b[0mtransform\u001b[0m\u001b[0;34m(\u001b[0m\u001b[0mX\u001b[0m\u001b[0;34m)\u001b[0m\u001b[0;34m\u001b[0m\u001b[0;34m\u001b[0m\u001b[0m\n",
            "\u001b[0;32m/usr/local/lib/python3.8/dist-packages/sklearn/compose/_column_transformer.py\u001b[0m in \u001b[0;36mfit_transform\u001b[0;34m(self, X, y)\u001b[0m\n\u001b[1;32m    670\u001b[0m         \u001b[0mself\u001b[0m\u001b[0;34m.\u001b[0m\u001b[0m_check_n_features\u001b[0m\u001b[0;34m(\u001b[0m\u001b[0mX\u001b[0m\u001b[0;34m,\u001b[0m \u001b[0mreset\u001b[0m\u001b[0;34m=\u001b[0m\u001b[0;32mTrue\u001b[0m\u001b[0;34m)\u001b[0m\u001b[0;34m\u001b[0m\u001b[0;34m\u001b[0m\u001b[0m\n\u001b[1;32m    671\u001b[0m         \u001b[0mself\u001b[0m\u001b[0;34m.\u001b[0m\u001b[0m_validate_transformers\u001b[0m\u001b[0;34m(\u001b[0m\u001b[0;34m)\u001b[0m\u001b[0;34m\u001b[0m\u001b[0;34m\u001b[0m\u001b[0m\n\u001b[0;32m--> 672\u001b[0;31m         \u001b[0mself\u001b[0m\u001b[0;34m.\u001b[0m\u001b[0m_validate_column_callables\u001b[0m\u001b[0;34m(\u001b[0m\u001b[0mX\u001b[0m\u001b[0;34m)\u001b[0m\u001b[0;34m\u001b[0m\u001b[0;34m\u001b[0m\u001b[0m\n\u001b[0m\u001b[1;32m    673\u001b[0m         \u001b[0mself\u001b[0m\u001b[0;34m.\u001b[0m\u001b[0m_validate_remainder\u001b[0m\u001b[0;34m(\u001b[0m\u001b[0mX\u001b[0m\u001b[0;34m)\u001b[0m\u001b[0;34m\u001b[0m\u001b[0;34m\u001b[0m\u001b[0m\n\u001b[1;32m    674\u001b[0m \u001b[0;34m\u001b[0m\u001b[0m\n",
            "\u001b[0;32m/usr/local/lib/python3.8/dist-packages/sklearn/compose/_column_transformer.py\u001b[0m in \u001b[0;36m_validate_column_callables\u001b[0;34m(self, X)\u001b[0m\n\u001b[1;32m    350\u001b[0m                 \u001b[0mcolumns\u001b[0m \u001b[0;34m=\u001b[0m \u001b[0mcolumns\u001b[0m\u001b[0;34m(\u001b[0m\u001b[0mX\u001b[0m\u001b[0;34m)\u001b[0m\u001b[0;34m\u001b[0m\u001b[0;34m\u001b[0m\u001b[0m\n\u001b[1;32m    351\u001b[0m             \u001b[0mall_columns\u001b[0m\u001b[0;34m.\u001b[0m\u001b[0mappend\u001b[0m\u001b[0;34m(\u001b[0m\u001b[0mcolumns\u001b[0m\u001b[0;34m)\u001b[0m\u001b[0;34m\u001b[0m\u001b[0;34m\u001b[0m\u001b[0m\n\u001b[0;32m--> 352\u001b[0;31m             \u001b[0mtransformer_to_input_indices\u001b[0m\u001b[0;34m[\u001b[0m\u001b[0mname\u001b[0m\u001b[0;34m]\u001b[0m \u001b[0;34m=\u001b[0m \u001b[0m_get_column_indices\u001b[0m\u001b[0;34m(\u001b[0m\u001b[0mX\u001b[0m\u001b[0;34m,\u001b[0m \u001b[0mcolumns\u001b[0m\u001b[0;34m)\u001b[0m\u001b[0;34m\u001b[0m\u001b[0;34m\u001b[0m\u001b[0m\n\u001b[0m\u001b[1;32m    353\u001b[0m \u001b[0;34m\u001b[0m\u001b[0m\n\u001b[1;32m    354\u001b[0m         \u001b[0mself\u001b[0m\u001b[0;34m.\u001b[0m\u001b[0m_columns\u001b[0m \u001b[0;34m=\u001b[0m \u001b[0mall_columns\u001b[0m\u001b[0;34m\u001b[0m\u001b[0;34m\u001b[0m\u001b[0m\n",
            "\u001b[0;32m/usr/local/lib/python3.8/dist-packages/sklearn/utils/__init__.py\u001b[0m in \u001b[0;36m_get_column_indices\u001b[0;34m(X, key)\u001b[0m\n\u001b[1;32m    389\u001b[0m     \u001b[0mn_columns\u001b[0m \u001b[0;34m=\u001b[0m \u001b[0mX\u001b[0m\u001b[0;34m.\u001b[0m\u001b[0mshape\u001b[0m\u001b[0;34m[\u001b[0m\u001b[0;36m1\u001b[0m\u001b[0;34m]\u001b[0m\u001b[0;34m\u001b[0m\u001b[0;34m\u001b[0m\u001b[0m\n\u001b[1;32m    390\u001b[0m \u001b[0;34m\u001b[0m\u001b[0m\n\u001b[0;32m--> 391\u001b[0;31m     \u001b[0mkey_dtype\u001b[0m \u001b[0;34m=\u001b[0m \u001b[0m_determine_key_type\u001b[0m\u001b[0;34m(\u001b[0m\u001b[0mkey\u001b[0m\u001b[0;34m)\u001b[0m\u001b[0;34m\u001b[0m\u001b[0;34m\u001b[0m\u001b[0m\n\u001b[0m\u001b[1;32m    392\u001b[0m \u001b[0;34m\u001b[0m\u001b[0m\n\u001b[1;32m    393\u001b[0m     \u001b[0;32mif\u001b[0m \u001b[0misinstance\u001b[0m\u001b[0;34m(\u001b[0m\u001b[0mkey\u001b[0m\u001b[0;34m,\u001b[0m \u001b[0;34m(\u001b[0m\u001b[0mlist\u001b[0m\u001b[0;34m,\u001b[0m \u001b[0mtuple\u001b[0m\u001b[0;34m)\u001b[0m\u001b[0;34m)\u001b[0m \u001b[0;32mand\u001b[0m \u001b[0;32mnot\u001b[0m \u001b[0mkey\u001b[0m\u001b[0;34m:\u001b[0m\u001b[0;34m\u001b[0m\u001b[0;34m\u001b[0m\u001b[0m\n",
            "\u001b[0;32m/usr/local/lib/python3.8/dist-packages/sklearn/utils/__init__.py\u001b[0m in \u001b[0;36m_determine_key_type\u001b[0;34m(key, accept_slice)\u001b[0m\n\u001b[1;32m    302\u001b[0m         \u001b[0;32mexcept\u001b[0m \u001b[0mKeyError\u001b[0m\u001b[0;34m:\u001b[0m\u001b[0;34m\u001b[0m\u001b[0;34m\u001b[0m\u001b[0m\n\u001b[1;32m    303\u001b[0m             \u001b[0;32mraise\u001b[0m \u001b[0mValueError\u001b[0m\u001b[0;34m(\u001b[0m\u001b[0merr_msg\u001b[0m\u001b[0;34m)\u001b[0m\u001b[0;34m\u001b[0m\u001b[0;34m\u001b[0m\u001b[0m\n\u001b[0;32m--> 304\u001b[0;31m     \u001b[0;32mraise\u001b[0m \u001b[0mValueError\u001b[0m\u001b[0;34m(\u001b[0m\u001b[0merr_msg\u001b[0m\u001b[0;34m)\u001b[0m\u001b[0;34m\u001b[0m\u001b[0;34m\u001b[0m\u001b[0m\n\u001b[0m\u001b[1;32m    305\u001b[0m \u001b[0;34m\u001b[0m\u001b[0m\n\u001b[1;32m    306\u001b[0m \u001b[0;34m\u001b[0m\u001b[0m\n",
            "\u001b[0;31mValueError\u001b[0m: No valid specification of the columns. Only a scalar, list or slice of all integers or all strings, or boolean mask is allowed"
          ]
        }
      ]
    },
    {
      "cell_type": "code",
      "source": [
        "#Problem with eval_sampling.\n",
        "#Need to fix to make my life easier\n",
        "#eval_sampling(rf_pipe,\"Random Forest\",X_train, X_test, y_train, y_test)"
      ],
      "metadata": {
        "id": "ldM6-vbUp5Jv"
      },
      "execution_count": null,
      "outputs": []
    },
    {
      "cell_type": "code",
      "source": [
        "rf_pipe_preds = rf_pipe.predict(X_test)\n",
        "classification_report(y_test, rf_pipe_preds)\n",
        "disp = ConfusionMatrixDisplay.from_predictions(y_test, rf_pipe_preds,normalize='true',cmap='Blues');\n",
        "disp.plot()\n",
        "disp.ax_.set_title('Random Forest Classifier [No Tuning]')"
      ],
      "metadata": {
        "colab": {
          "base_uri": "https://localhost:8080/",
          "height": 575
        },
        "id": "Umt6MRin4rK-",
        "outputId": "30aa352b-6a5d-48d0-d70f-3efb036ba545"
      },
      "execution_count": null,
      "outputs": [
        {
          "output_type": "execute_result",
          "data": {
            "text/plain": [
              "Text(0.5, 1.0, 'Random Forest Classifier [No Tuning]')"
            ]
          },
          "metadata": {},
          "execution_count": 99
        },
        {
          "output_type": "display_data",
          "data": {
            "text/plain": [
              "<Figure size 432x288 with 2 Axes>"
            ],
            "image/png": "[encoded data removed]"
          },
          "metadata": {
            "needs_background": "light"
          }
        },
        {
          "output_type": "display_data",
          "data": {
            "text/plain": [
              "<Figure size 432x288 with 2 Axes>"
            ],
            "image/png": "[encoded data removed]"
          },
          "metadata": {
            "needs_background": "light"
          }
        }
      ]
    },
    {
      "cell_type": "markdown",
      "source": [
        "###Tuning Random Forest"
      ],
      "metadata": {
        "id": "d2NH-AHty0Wt"
      }
    },
    {
      "cell_type": "code",
      "source": [
        "rf_pipe.get_params()"
      ],
      "metadata": {
        "colab": {
          "base_uri": "https://localhost:8080/"
        },
        "id": "WXgO37hL4RVS",
        "outputId": "44b19e6d-de13-43db-a4e4-3a7729a95809"
      },
      "execution_count": null,
      "outputs": [
        {
          "output_type": "execute_result",
          "data": {
            "text/plain": [
              "{'memory': None,\n",
              " 'steps': [('columntransformer',\n",
              "   ColumnTransformer(transformers=[('standardscaler', StandardScaler(),\n",
              "                                    Index(['Previous qualification (grade)', 'Admission grade',\n",
              "          'Curricular units 1st sem (grade)', 'Curricular units 2nd sem (grade)',\n",
              "          'Unemployment rate', 'Inflation rate', 'GDP'],\n",
              "         dtype='object')),\n",
              "                                   ('onehotencoder',\n",
              "                                    OneHotEncoder(handle_unknown='ignore',\n",
              "                                                  sparse=False),\n",
              "                                    Index(['Marital status', 'Application mod...\n",
              "          'Curricular units 1st sem (evaluations)',\n",
              "          'Curricular units 1st sem (approved)',\n",
              "          'Curricular units 1st sem (grade)',\n",
              "          'Curricular units 1st sem (without evaluations)',\n",
              "          'Curricular units 2nd sem (enrolled)',\n",
              "          'Curricular units 2nd sem (evaluations)',\n",
              "          'Curricular units 2nd sem (approved)',\n",
              "          'Curricular units 2nd sem (grade)',\n",
              "          'Curricular units 2nd sem (without evaluations)', 'Unemployment rate',\n",
              "          'Inflation rate', 'GDP'],\n",
              "         dtype='object'))])),\n",
              "  ('randomforestclassifier', RandomForestClassifier(random_state=42))],\n",
              " 'verbose': False,\n",
              " 'columntransformer': ColumnTransformer(transformers=[('standardscaler', StandardScaler(),\n",
              "                                  Index(['Previous qualification (grade)', 'Admission grade',\n",
              "        'Curricular units 1st sem (grade)', 'Curricular units 2nd sem (grade)',\n",
              "        'Unemployment rate', 'Inflation rate', 'GDP'],\n",
              "       dtype='object')),\n",
              "                                 ('onehotencoder',\n",
              "                                  OneHotEncoder(handle_unknown='ignore',\n",
              "                                                sparse=False),\n",
              "                                  Index(['Marital status', 'Application mod...\n",
              "        'Curricular units 1st sem (evaluations)',\n",
              "        'Curricular units 1st sem (approved)',\n",
              "        'Curricular units 1st sem (grade)',\n",
              "        'Curricular units 1st sem (without evaluations)',\n",
              "        'Curricular units 2nd sem (enrolled)',\n",
              "        'Curricular units 2nd sem (evaluations)',\n",
              "        'Curricular units 2nd sem (approved)',\n",
              "        'Curricular units 2nd sem (grade)',\n",
              "        'Curricular units 2nd sem (without evaluations)', 'Unemployment rate',\n",
              "        'Inflation rate', 'GDP'],\n",
              "       dtype='object'))]),\n",
              " 'randomforestclassifier': RandomForestClassifier(random_state=42),\n",
              " 'columntransformer__n_jobs': None,\n",
              " 'columntransformer__remainder': 'drop',\n",
              " 'columntransformer__sparse_threshold': 0.3,\n",
              " 'columntransformer__transformer_weights': None,\n",
              " 'columntransformer__transformers': [('standardscaler',\n",
              "   StandardScaler(),\n",
              "   Index(['Previous qualification (grade)', 'Admission grade',\n",
              "          'Curricular units 1st sem (grade)', 'Curricular units 2nd sem (grade)',\n",
              "          'Unemployment rate', 'Inflation rate', 'GDP'],\n",
              "         dtype='object')),\n",
              "  ('onehotencoder',\n",
              "   OneHotEncoder(handle_unknown='ignore', sparse=False),\n",
              "   Index(['Marital status', 'Application mode', 'Course',\n",
              "          'Daytime/evening attendance', 'Previous qualification',\n",
              "          'Previous qualification (grade)', 'Nacionality',\n",
              "          'Mother's qualification', 'Father's qualification',\n",
              "          'Mother's occupation', 'Father's occupation', 'Admission grade',\n",
              "          'Displaced', 'Educational special needs', 'Debtor',\n",
              "          'Tuition fees up to date', 'Gender', 'Scholarship holder',\n",
              "          'Age at enrollment', 'International',\n",
              "          'Curricular units 1st sem (enrolled)',\n",
              "          'Curricular units 1st sem (evaluations)',\n",
              "          'Curricular units 1st sem (approved)',\n",
              "          'Curricular units 1st sem (grade)',\n",
              "          'Curricular units 1st sem (without evaluations)',\n",
              "          'Curricular units 2nd sem (enrolled)',\n",
              "          'Curricular units 2nd sem (evaluations)',\n",
              "          'Curricular units 2nd sem (approved)',\n",
              "          'Curricular units 2nd sem (grade)',\n",
              "          'Curricular units 2nd sem (without evaluations)', 'Unemployment rate',\n",
              "          'Inflation rate', 'GDP'],\n",
              "         dtype='object'))],\n",
              " 'columntransformer__verbose': False,\n",
              " 'columntransformer__verbose_feature_names_out': True,\n",
              " 'columntransformer__standardscaler': StandardScaler(),\n",
              " 'columntransformer__onehotencoder': OneHotEncoder(handle_unknown='ignore', sparse=False),\n",
              " 'columntransformer__standardscaler__copy': True,\n",
              " 'columntransformer__standardscaler__with_mean': True,\n",
              " 'columntransformer__standardscaler__with_std': True,\n",
              " 'columntransformer__onehotencoder__categories': 'auto',\n",
              " 'columntransformer__onehotencoder__drop': None,\n",
              " 'columntransformer__onehotencoder__dtype': numpy.float64,\n",
              " 'columntransformer__onehotencoder__handle_unknown': 'ignore',\n",
              " 'columntransformer__onehotencoder__sparse': False,\n",
              " 'randomforestclassifier__bootstrap': True,\n",
              " 'randomforestclassifier__ccp_alpha': 0.0,\n",
              " 'randomforestclassifier__class_weight': None,\n",
              " 'randomforestclassifier__criterion': 'gini',\n",
              " 'randomforestclassifier__max_depth': None,\n",
              " 'randomforestclassifier__max_features': 'auto',\n",
              " 'randomforestclassifier__max_leaf_nodes': None,\n",
              " 'randomforestclassifier__max_samples': None,\n",
              " 'randomforestclassifier__min_impurity_decrease': 0.0,\n",
              " 'randomforestclassifier__min_samples_leaf': 1,\n",
              " 'randomforestclassifier__min_samples_split': 2,\n",
              " 'randomforestclassifier__min_weight_fraction_leaf': 0.0,\n",
              " 'randomforestclassifier__n_estimators': 100,\n",
              " 'randomforestclassifier__n_jobs': None,\n",
              " 'randomforestclassifier__oob_score': False,\n",
              " 'randomforestclassifier__random_state': 42,\n",
              " 'randomforestclassifier__verbose': 0,\n",
              " 'randomforestclassifier__warm_start': False}"
            ]
          },
          "metadata": {},
          "execution_count": 96
        }
      ]
    },
    {
      "cell_type": "code",
      "source": [
        "rf_param_grid = {'randomforestclassifier__n_estimators':range(75,125,5),\n",
        "                 'randomforestclassifier__max_depth':range(5,10,1)}\n",
        "rf_grid = GridSearchCV(rf_pipe, rf_param_grid)\n",
        " \n",
        "rf_grid.fit(X_train, y_train)"
      ],
      "metadata": {
        "id": "tXa8SkBxFnnv"
      },
      "execution_count": null,
      "outputs": []
    },
    {
      "cell_type": "markdown",
      "source": [
        "###Evaluate Tuned Model"
      ],
      "metadata": {
        "id": "4FAFNE1KIdVU"
      }
    },
    {
      "cell_type": "code",
      "source": [
        "rf_grid_preds = rf_grid.predict(X_test)\n",
        "classification_report(y_test, rf_grid_preds)\n",
        "disp = ConfusionMatrixDisplay.from_predictions(y_test, rf_grid_preds,normalize='true',cmap='Blues');\n",
        "disp.plot()\n",
        "disp.ax_.set_title('Random Forest Classifier [GridSearchCV]')"
      ],
      "metadata": {
        "id": "HCyevi2OIcqt"
      },
      "execution_count": null,
      "outputs": []
    },
    {
      "cell_type": "markdown",
      "source": [
        "##KNeighbors Classifier\n"
      ],
      "metadata": {
        "id": "wMXxtDs8cEVI"
      }
    },
    {
      "cell_type": "code",
      "source": [
        "knn = KNeighborsClassifier()\n",
        "knn_pipe = make_pipeline(col_transformer, knn)\n",
        "knn_pipe.fit(X_train,y_train)"
      ],
      "metadata": {
        "colab": {
          "base_uri": "https://localhost:8080/",
          "height": 192
        },
        "id": "vbqaDPA1cJdy",
        "outputId": "1c51e81d-8b62-4888-806f-1ceef156803b"
      },
      "execution_count": null,
      "outputs": [
        {
          "output_type": "execute_result",
          "data": {
            "text/plain": [
              "Pipeline(steps=[('columntransformer',\n",
              "                 ColumnTransformer(transformers=[('standardscaler',\n",
              "                                                  StandardScaler(),\n",
              "                                                  ['Previous qualification '\n",
              "                                                   '(grade)',\n",
              "                                                   'Admission grade',\n",
              "                                                   'Curricular units 1st sem '\n",
              "                                                   '(grade)',\n",
              "                                                   'Curricular units 2nd sem '\n",
              "                                                   '(grade)',\n",
              "                                                   'Unemployment rate',\n",
              "                                                   'Inflation rate', 'GDP']),\n",
              "                                                 ('onehotencoder',\n",
              "                                                  OneHotEncoder(sparse=False),\n",
              "                                                  ['Marital status',\n",
              "                                                   'Application mode',\n",
              "                                                   'Appli...\n",
              "                                                   'Curricular units 1st sem '\n",
              "                                                   '(enrolled)',\n",
              "                                                   'Curricular units 1st sem '\n",
              "                                                   '(evaluations)',\n",
              "                                                   'Curricular units 1st sem '\n",
              "                                                   '(approved)',\n",
              "                                                   'Curricular units 1st sem '\n",
              "                                                   '(without evaluations)',\n",
              "                                                   'Curricular units 2nd sem '\n",
              "                                                   '(enrolled)',\n",
              "                                                   'Curricular units 2nd sem '\n",
              "                                                   '(evaluations)',\n",
              "                                                   'Curricular units 2nd sem '\n",
              "                                                   '(approved)',\n",
              "                                                   'Curricular units 2nd sem '\n",
              "                                                   '(without evaluations)'])])),\n",
              "                ('kneighborsclassifier', KNeighborsClassifier())])"
            ],
            "text/html": [
              "<style>#sk-45cc07d5-2d37-4c5c-8b4e-beccbc5bedde {color: black;background-color: white;}#sk-45cc07d5-2d37-4c5c-8b4e-beccbc5bedde pre{padding: 0;}#sk-45cc07d5-2d37-4c5c-8b4e-beccbc5bedde div.sk-toggleable {background-color: white;}#sk-45cc07d5-2d37-4c5c-8b4e-beccbc5bedde label.sk-toggleable__label {cursor: pointer;display: block;width: 100%;margin-bottom: 0;padding: 0.3em;box-sizing: border-box;text-align: center;}#sk-45cc07d5-2d37-4c5c-8b4e-beccbc5bedde label.sk-toggleable__label-arrow:before {content: \"▸\";float: left;margin-right: 0.25em;color: #696969;}#sk-45cc07d5-2d37-4c5c-8b4e-beccbc5bedde label.sk-toggleable__label-arrow:hover:before {color: black;}#sk-45cc07d5-2d37-4c5c-8b4e-beccbc5bedde div.sk-estimator:hover label.sk-toggleable__label-arrow:before {color: black;}#sk-45cc07d5-2d37-4c5c-8b4e-beccbc5bedde div.sk-toggleable__content {max-height: 0;max-width: 0;overflow: hidden;text-align: left;background-color: #f0f8ff;}#sk-45cc07d5-2d37-4c5c-8b4e-beccbc5bedde div.sk-toggleable__content pre {margin: 0.2em;color: black;border-radius: 0.25em;background-color: #f0f8ff;}#sk-45cc07d5-2d37-4c5c-8b4e-beccbc5bedde input.sk-toggleable__control:checked~div.sk-toggleable__content {max-height: 200px;max-width: 100%;overflow: auto;}#sk-45cc07d5-2d37-4c5c-8b4e-beccbc5bedde input.sk-toggleable__control:checked~label.sk-toggleable__label-arrow:before {content: \"▾\";}#sk-45cc07d5-2d37-4c5c-8b4e-beccbc5bedde div.sk-estimator input.sk-toggleable__control:checked~label.sk-toggleable__label {background-color: #d4ebff;}#sk-45cc07d5-2d37-4c5c-8b4e-beccbc5bedde div.sk-label input.sk-toggleable__control:checked~label.sk-toggleable__label {background-color: #d4ebff;}#sk-45cc07d5-2d37-4c5c-8b4e-beccbc5bedde input.sk-hidden--visually {border: 0;clip: rect(1px 1px 1px 1px);clip: rect(1px, 1px, 1px, 1px);height: 1px;margin: -1px;overflow: hidden;padding: 0;position: absolute;width: 1px;}#sk-45cc07d5-2d37-4c5c-8b4e-beccbc5bedde div.sk-estimator {font-family: monospace;background-color: #f0f8ff;border: 1px dotted black;border-radius: 0.25em;box-sizing: border-box;margin-bottom: 0.5em;}#sk-45cc07d5-2d37-4c5c-8b4e-beccbc5bedde div.sk-estimator:hover {background-color: #d4ebff;}#sk-45cc07d5-2d37-4c5c-8b4e-beccbc5bedde div.sk-parallel-item::after {content: \"\";width: 100%;border-bottom: 1px solid gray;flex-grow: 1;}#sk-45cc07d5-2d37-4c5c-8b4e-beccbc5bedde div.sk-label:hover label.sk-toggleable__label {background-color: #d4ebff;}#sk-45cc07d5-2d37-4c5c-8b4e-beccbc5bedde div.sk-serial::before {content: \"\";position: absolute;border-left: 1px solid gray;box-sizing: border-box;top: 2em;bottom: 0;left: 50%;}#sk-45cc07d5-2d37-4c5c-8b4e-beccbc5bedde div.sk-serial {display: flex;flex-direction: column;align-items: center;background-color: white;padding-right: 0.2em;padding-left: 0.2em;}#sk-45cc07d5-2d37-4c5c-8b4e-beccbc5bedde div.sk-item {z-index: 1;}#sk-45cc07d5-2d37-4c5c-8b4e-beccbc5bedde div.sk-parallel {display: flex;align-items: stretch;justify-content: center;background-color: white;}#sk-45cc07d5-2d37-4c5c-8b4e-beccbc5bedde div.sk-parallel::before {content: \"\";position: absolute;border-left: 1px solid gray;box-sizing: border-box;top: 2em;bottom: 0;left: 50%;}#sk-45cc07d5-2d37-4c5c-8b4e-beccbc5bedde div.sk-parallel-item {display: flex;flex-direction: column;position: relative;background-color: white;}#sk-45cc07d5-2d37-4c5c-8b4e-beccbc5bedde div.sk-parallel-item:first-child::after {align-self: flex-end;width: 50%;}#sk-45cc07d5-2d37-4c5c-8b4e-beccbc5bedde div.sk-parallel-item:last-child::after {align-self: flex-start;width: 50%;}#sk-45cc07d5-2d37-4c5c-8b4e-beccbc5bedde div.sk-parallel-item:only-child::after {width: 0;}#sk-45cc07d5-2d37-4c5c-8b4e-beccbc5bedde div.sk-dashed-wrapped {border: 1px dashed gray;margin: 0 0.4em 0.5em 0.4em;box-sizing: border-box;padding-bottom: 0.4em;background-color: white;position: relative;}#sk-45cc07d5-2d37-4c5c-8b4e-beccbc5bedde div.sk-label label {font-family: monospace;font-weight: bold;background-color: white;display: inline-block;line-height: 1.2em;}#sk-45cc07d5-2d37-4c5c-8b4e-beccbc5bedde div.sk-label-container {position: relative;z-index: 2;text-align: center;}#sk-45cc07d5-2d37-4c5c-8b4e-beccbc5bedde div.sk-container {/* jupyter's `normalize.less` sets `[hidden] { display: none; }` but bootstrap.min.css set `[hidden] { display: none !important; }` so we also need the `!important` here to be able to override the default hidden behavior on the sphinx rendered scikit-learn.org. See: https://github.com/scikit-learn/scikit-learn/issues/21755 */display: inline-block !important;position: relative;}#sk-45cc07d5-2d37-4c5c-8b4e-beccbc5bedde div.sk-text-repr-fallback {display: none;}</style><div id=\"sk-45cc07d5-2d37-4c5c-8b4e-beccbc5bedde\" class=\"sk-top-container\"><div class=\"sk-text-repr-fallback\"><pre>Pipeline(steps=[(&#x27;columntransformer&#x27;,\n",
              "                 ColumnTransformer(transformers=[(&#x27;standardscaler&#x27;,\n",
              "                                                  StandardScaler(),\n",
              "                                                  [&#x27;Previous qualification &#x27;\n",
              "                                                   &#x27;(grade)&#x27;,\n",
              "                                                   &#x27;Admission grade&#x27;,\n",
              "                                                   &#x27;Curricular units 1st sem &#x27;\n",
              "                                                   &#x27;(grade)&#x27;,\n",
              "                                                   &#x27;Curricular units 2nd sem &#x27;\n",
              "                                                   &#x27;(grade)&#x27;,\n",
              "                                                   &#x27;Unemployment rate&#x27;,\n",
              "                                                   &#x27;Inflation rate&#x27;, &#x27;GDP&#x27;]),\n",
              "                                                 (&#x27;onehotencoder&#x27;,\n",
              "                                                  OneHotEncoder(sparse=False),\n",
              "                                                  [&#x27;Marital status&#x27;,\n",
              "                                                   &#x27;Application mode&#x27;,\n",
              "                                                   &#x27;Appli...\n",
              "                                                   &#x27;Curricular units 1st sem &#x27;\n",
              "                                                   &#x27;(enrolled)&#x27;,\n",
              "                                                   &#x27;Curricular units 1st sem &#x27;\n",
              "                                                   &#x27;(evaluations)&#x27;,\n",
              "                                                   &#x27;Curricular units 1st sem &#x27;\n",
              "                                                   &#x27;(approved)&#x27;,\n",
              "                                                   &#x27;Curricular units 1st sem &#x27;\n",
              "                                                   &#x27;(without evaluations)&#x27;,\n",
              "                                                   &#x27;Curricular units 2nd sem &#x27;\n",
              "                                                   &#x27;(enrolled)&#x27;,\n",
              "                                                   &#x27;Curricular units 2nd sem &#x27;\n",
              "                                                   &#x27;(evaluations)&#x27;,\n",
              "                                                   &#x27;Curricular units 2nd sem &#x27;\n",
              "                                                   &#x27;(approved)&#x27;,\n",
              "                                                   &#x27;Curricular units 2nd sem &#x27;\n",
              "                                                   &#x27;(without evaluations)&#x27;])])),\n",
              "                (&#x27;kneighborsclassifier&#x27;, KNeighborsClassifier())])</pre><b>Please rerun this cell to show the HTML repr or trust the notebook.</b></div><div class=\"sk-container\" hidden><div class=\"sk-item sk-dashed-wrapped\"><div class=\"sk-label-container\"><div class=\"sk-label sk-toggleable\"><input class=\"sk-toggleable__control sk-hidden--visually\" id=\"467aedef-2daf-4da2-8f02-3fea783c1034\" type=\"checkbox\" ><label for=\"467aedef-2daf-4da2-8f02-3fea783c1034\" class=\"sk-toggleable__label sk-toggleable__label-arrow\">Pipeline</label><div class=\"sk-toggleable__content\"><pre>Pipeline(steps=[(&#x27;columntransformer&#x27;,\n",
              "                 ColumnTransformer(transformers=[(&#x27;standardscaler&#x27;,\n",
              "                                                  StandardScaler(),\n",
              "                                                  [&#x27;Previous qualification &#x27;\n",
              "                                                   &#x27;(grade)&#x27;,\n",
              "                                                   &#x27;Admission grade&#x27;,\n",
              "                                                   &#x27;Curricular units 1st sem &#x27;\n",
              "                                                   &#x27;(grade)&#x27;,\n",
              "                                                   &#x27;Curricular units 2nd sem &#x27;\n",
              "                                                   &#x27;(grade)&#x27;,\n",
              "                                                   &#x27;Unemployment rate&#x27;,\n",
              "                                                   &#x27;Inflation rate&#x27;, &#x27;GDP&#x27;]),\n",
              "                                                 (&#x27;onehotencoder&#x27;,\n",
              "                                                  OneHotEncoder(sparse=False),\n",
              "                                                  [&#x27;Marital status&#x27;,\n",
              "                                                   &#x27;Application mode&#x27;,\n",
              "                                                   &#x27;Appli...\n",
              "                                                   &#x27;Curricular units 1st sem &#x27;\n",
              "                                                   &#x27;(enrolled)&#x27;,\n",
              "                                                   &#x27;Curricular units 1st sem &#x27;\n",
              "                                                   &#x27;(evaluations)&#x27;,\n",
              "                                                   &#x27;Curricular units 1st sem &#x27;\n",
              "                                                   &#x27;(approved)&#x27;,\n",
              "                                                   &#x27;Curricular units 1st sem &#x27;\n",
              "                                                   &#x27;(without evaluations)&#x27;,\n",
              "                                                   &#x27;Curricular units 2nd sem &#x27;\n",
              "                                                   &#x27;(enrolled)&#x27;,\n",
              "                                                   &#x27;Curricular units 2nd sem &#x27;\n",
              "                                                   &#x27;(evaluations)&#x27;,\n",
              "                                                   &#x27;Curricular units 2nd sem &#x27;\n",
              "                                                   &#x27;(approved)&#x27;,\n",
              "                                                   &#x27;Curricular units 2nd sem &#x27;\n",
              "                                                   &#x27;(without evaluations)&#x27;])])),\n",
              "                (&#x27;kneighborsclassifier&#x27;, KNeighborsClassifier())])</pre></div></div></div><div class=\"sk-serial\"><div class=\"sk-item sk-dashed-wrapped\"><div class=\"sk-label-container\"><div class=\"sk-label sk-toggleable\"><input class=\"sk-toggleable__control sk-hidden--visually\" id=\"e290efc8-7513-4128-9d6e-c5db51f55176\" type=\"checkbox\" ><label for=\"e290efc8-7513-4128-9d6e-c5db51f55176\" class=\"sk-toggleable__label sk-toggleable__label-arrow\">columntransformer: ColumnTransformer</label><div class=\"sk-toggleable__content\"><pre>ColumnTransformer(transformers=[(&#x27;standardscaler&#x27;, StandardScaler(),\n",
              "                                 [&#x27;Previous qualification (grade)&#x27;,\n",
              "                                  &#x27;Admission grade&#x27;,\n",
              "                                  &#x27;Curricular units 1st sem (grade)&#x27;,\n",
              "                                  &#x27;Curricular units 2nd sem (grade)&#x27;,\n",
              "                                  &#x27;Unemployment rate&#x27;, &#x27;Inflation rate&#x27;,\n",
              "                                  &#x27;GDP&#x27;]),\n",
              "                                (&#x27;onehotencoder&#x27;, OneHotEncoder(sparse=False),\n",
              "                                 [&#x27;Marital status&#x27;, &#x27;Application mode&#x27;,\n",
              "                                  &#x27;Application order&#x27;, &#x27;Course&#x27;,\n",
              "                                  &#x27;Daytime/evening atten...\n",
              "                                  &#x27;Scholarship holder&#x27;, &#x27;Age at enrollment&#x27;,\n",
              "                                  &#x27;International&#x27;,\n",
              "                                  &#x27;Curricular units 1st sem (enrolled)&#x27;,\n",
              "                                  &#x27;Curricular units 1st sem (evaluations)&#x27;,\n",
              "                                  &#x27;Curricular units 1st sem (approved)&#x27;,\n",
              "                                  &#x27;Curricular units 1st sem (without &#x27;\n",
              "                                  &#x27;evaluations)&#x27;,\n",
              "                                  &#x27;Curricular units 2nd sem (enrolled)&#x27;,\n",
              "                                  &#x27;Curricular units 2nd sem (evaluations)&#x27;,\n",
              "                                  &#x27;Curricular units 2nd sem (approved)&#x27;,\n",
              "                                  &#x27;Curricular units 2nd sem (without &#x27;\n",
              "                                  &#x27;evaluations)&#x27;])])</pre></div></div></div><div class=\"sk-parallel\"><div class=\"sk-parallel-item\"><div class=\"sk-item\"><div class=\"sk-label-container\"><div class=\"sk-label sk-toggleable\"><input class=\"sk-toggleable__control sk-hidden--visually\" id=\"1c01908f-a983-4939-8ff8-0e1778372e57\" type=\"checkbox\" ><label for=\"1c01908f-a983-4939-8ff8-0e1778372e57\" class=\"sk-toggleable__label sk-toggleable__label-arrow\">standardscaler</label><div class=\"sk-toggleable__content\"><pre>[&#x27;Previous qualification (grade)&#x27;, &#x27;Admission grade&#x27;, &#x27;Curricular units 1st sem (grade)&#x27;, &#x27;Curricular units 2nd sem (grade)&#x27;, &#x27;Unemployment rate&#x27;, &#x27;Inflation rate&#x27;, &#x27;GDP&#x27;]</pre></div></div></div><div class=\"sk-serial\"><div class=\"sk-item\"><div class=\"sk-estimator sk-toggleable\"><input class=\"sk-toggleable__control sk-hidden--visually\" id=\"f9fe090b-5361-4489-b0a2-d53814905142\" type=\"checkbox\" ><label for=\"f9fe090b-5361-4489-b0a2-d53814905142\" class=\"sk-toggleable__label sk-toggleable__label-arrow\">StandardScaler</label><div class=\"sk-toggleable__content\"><pre>StandardScaler()</pre></div></div></div></div></div></div><div class=\"sk-parallel-item\"><div class=\"sk-item\"><div class=\"sk-label-container\"><div class=\"sk-label sk-toggleable\"><input class=\"sk-toggleable__control sk-hidden--visually\" id=\"255143d6-44c0-4585-abbb-e2589915e99c\" type=\"checkbox\" ><label for=\"255143d6-44c0-4585-abbb-e2589915e99c\" class=\"sk-toggleable__label sk-toggleable__label-arrow\">onehotencoder</label><div class=\"sk-toggleable__content\"><pre>[&#x27;Marital status&#x27;, &#x27;Application mode&#x27;, &#x27;Application order&#x27;, &#x27;Course&#x27;, &#x27;Daytime/evening attendance&#x27;, &#x27;Previous qualification&#x27;, &#x27;Nacionality&#x27;, &quot;Mother&#x27;s qualification&quot;, &quot;Father&#x27;s qualification&quot;, &quot;Mother&#x27;s occupation&quot;, &quot;Father&#x27;s occupation&quot;, &#x27;Displaced&#x27;, &#x27;Educational special needs&#x27;, &#x27;Debtor&#x27;, &#x27;Tuition fees up to date&#x27;, &#x27;Gender&#x27;, &#x27;Scholarship holder&#x27;, &#x27;Age at enrollment&#x27;, &#x27;International&#x27;, &#x27;Curricular units 1st sem (enrolled)&#x27;, &#x27;Curricular units 1st sem (evaluations)&#x27;, &#x27;Curricular units 1st sem (approved)&#x27;, &#x27;Curricular units 1st sem (without evaluations)&#x27;, &#x27;Curricular units 2nd sem (enrolled)&#x27;, &#x27;Curricular units 2nd sem (evaluations)&#x27;, &#x27;Curricular units 2nd sem (approved)&#x27;, &#x27;Curricular units 2nd sem (without evaluations)&#x27;]</pre></div></div></div><div class=\"sk-serial\"><div class=\"sk-item\"><div class=\"sk-estimator sk-toggleable\"><input class=\"sk-toggleable__control sk-hidden--visually\" id=\"4dba13a0-72da-4104-9387-9481ad4c9802\" type=\"checkbox\" ><label for=\"4dba13a0-72da-4104-9387-9481ad4c9802\" class=\"sk-toggleable__label sk-toggleable__label-arrow\">OneHotEncoder</label><div class=\"sk-toggleable__content\"><pre>OneHotEncoder(sparse=False)</pre></div></div></div></div></div></div></div></div><div class=\"sk-item\"><div class=\"sk-estimator sk-toggleable\"><input class=\"sk-toggleable__control sk-hidden--visually\" id=\"80cd3fb3-1afd-430b-b29e-e57bc18d8bee\" type=\"checkbox\" ><label for=\"80cd3fb3-1afd-430b-b29e-e57bc18d8bee\" class=\"sk-toggleable__label sk-toggleable__label-arrow\">KNeighborsClassifier</label><div class=\"sk-toggleable__content\"><pre>KNeighborsClassifier()</pre></div></div></div></div></div></div></div>"
            ]
          },
          "metadata": {},
          "execution_count": 71
        }
      ]
    },
    {
      "cell_type": "code",
      "source": [
        "#eval_sampling(knn, \"K Nearest Neighbors\", X_train, X_test, y_train, y_test)"
      ],
      "metadata": {
        "id": "9280w9UIch85"
      },
      "execution_count": null,
      "outputs": []
    },
    {
      "cell_type": "code",
      "source": [
        "knn_pipe_preds = knn_pipe.predict(X_test)\n",
        "classification_report(y_test, knn_pipe_preds)\n",
        "disp = ConfusionMatrixDisplay.from_predictions(y_test, knn_pipe_preds,normalize='true',cmap='Blues');\n",
        "disp.plot()\n",
        "disp.ax_.set_title('K Nearest Neighbors Classifier [No Tuning]')"
      ],
      "metadata": {
        "colab": {
          "base_uri": "https://localhost:8080/",
          "height": 390
        },
        "id": "GOFB6u3O6AnU",
        "outputId": "fcd4bb05-4d9f-4d22-d9c7-5726eac29f28"
      },
      "execution_count": null,
      "outputs": [
        {
          "output_type": "error",
          "ename": "ValueError",
          "evalue": "ignored",
          "traceback": [
            "\u001b[0;31m---------------------------------------------------------------------------\u001b[0m",
            "\u001b[0;31mValueError\u001b[0m                                Traceback (most recent call last)",
            "\u001b[0;32m<ipython-input-73-c5ae3703a4b6>\u001b[0m in \u001b[0;36m<module>\u001b[0;34m\u001b[0m\n\u001b[0;32m----> 1\u001b[0;31m \u001b[0mknn_pipe_preds\u001b[0m \u001b[0;34m=\u001b[0m \u001b[0mknn_pipe\u001b[0m\u001b[0;34m.\u001b[0m\u001b[0mpredict\u001b[0m\u001b[0;34m(\u001b[0m\u001b[0mX_test\u001b[0m\u001b[0;34m)\u001b[0m\u001b[0;34m\u001b[0m\u001b[0;34m\u001b[0m\u001b[0m\n\u001b[0m\u001b[1;32m      2\u001b[0m \u001b[0mclassification_report\u001b[0m\u001b[0;34m(\u001b[0m\u001b[0my_test\u001b[0m\u001b[0;34m,\u001b[0m \u001b[0mknn_pipe_preds\u001b[0m\u001b[0;34m)\u001b[0m\u001b[0;34m\u001b[0m\u001b[0;34m\u001b[0m\u001b[0m\n\u001b[1;32m      3\u001b[0m \u001b[0mdisp\u001b[0m \u001b[0;34m=\u001b[0m \u001b[0mConfusionMatrixDisplay\u001b[0m\u001b[0;34m.\u001b[0m\u001b[0mfrom_predictions\u001b[0m\u001b[0;34m(\u001b[0m\u001b[0my_test\u001b[0m\u001b[0;34m,\u001b[0m \u001b[0mknn_pipe_preds\u001b[0m\u001b[0;34m,\u001b[0m\u001b[0mnormalize\u001b[0m\u001b[0;34m=\u001b[0m\u001b[0;34m'true'\u001b[0m\u001b[0;34m,\u001b[0m\u001b[0mcmap\u001b[0m\u001b[0;34m=\u001b[0m\u001b[0;34m'Blues'\u001b[0m\u001b[0;34m)\u001b[0m\u001b[0;34m;\u001b[0m\u001b[0;34m\u001b[0m\u001b[0;34m\u001b[0m\u001b[0m\n\u001b[1;32m      4\u001b[0m \u001b[0mdisp\u001b[0m\u001b[0;34m.\u001b[0m\u001b[0mplot\u001b[0m\u001b[0;34m(\u001b[0m\u001b[0;34m)\u001b[0m\u001b[0;34m\u001b[0m\u001b[0;34m\u001b[0m\u001b[0m\n\u001b[1;32m      5\u001b[0m \u001b[0mdisp\u001b[0m\u001b[0;34m.\u001b[0m\u001b[0max_\u001b[0m\u001b[0;34m.\u001b[0m\u001b[0mset_title\u001b[0m\u001b[0;34m(\u001b[0m\u001b[0;34m'K Nearest Neighbors Classifier [No Tuning]'\u001b[0m\u001b[0;34m)\u001b[0m\u001b[0;34m\u001b[0m\u001b[0;34m\u001b[0m\u001b[0m\n",
            "\u001b[0;32m/usr/local/lib/python3.8/dist-packages/sklearn/utils/metaestimators.py\u001b[0m in \u001b[0;36m<lambda>\u001b[0;34m(*args, **kwargs)\u001b[0m\n\u001b[1;32m    111\u001b[0m \u001b[0;34m\u001b[0m\u001b[0m\n\u001b[1;32m    112\u001b[0m             \u001b[0;31m# lambda, but not partial, allows help() to work with update_wrapper\u001b[0m\u001b[0;34m\u001b[0m\u001b[0;34m\u001b[0m\u001b[0;34m\u001b[0m\u001b[0m\n\u001b[0;32m--> 113\u001b[0;31m             \u001b[0mout\u001b[0m \u001b[0;34m=\u001b[0m \u001b[0;32mlambda\u001b[0m \u001b[0;34m*\u001b[0m\u001b[0margs\u001b[0m\u001b[0;34m,\u001b[0m \u001b[0;34m**\u001b[0m\u001b[0mkwargs\u001b[0m\u001b[0;34m:\u001b[0m \u001b[0mself\u001b[0m\u001b[0;34m.\u001b[0m\u001b[0mfn\u001b[0m\u001b[0;34m(\u001b[0m\u001b[0mobj\u001b[0m\u001b[0;34m,\u001b[0m \u001b[0;34m*\u001b[0m\u001b[0margs\u001b[0m\u001b[0;34m,\u001b[0m \u001b[0;34m**\u001b[0m\u001b[0mkwargs\u001b[0m\u001b[0;34m)\u001b[0m  \u001b[0;31m# noqa\u001b[0m\u001b[0;34m\u001b[0m\u001b[0;34m\u001b[0m\u001b[0m\n\u001b[0m\u001b[1;32m    114\u001b[0m         \u001b[0;32melse\u001b[0m\u001b[0;34m:\u001b[0m\u001b[0;34m\u001b[0m\u001b[0;34m\u001b[0m\u001b[0m\n\u001b[1;32m    115\u001b[0m \u001b[0;34m\u001b[0m\u001b[0m\n",
            "\u001b[0;32m/usr/local/lib/python3.8/dist-packages/sklearn/pipeline.py\u001b[0m in \u001b[0;36mpredict\u001b[0;34m(self, X, **predict_params)\u001b[0m\n\u001b[1;32m    467\u001b[0m         \u001b[0mXt\u001b[0m \u001b[0;34m=\u001b[0m \u001b[0mX\u001b[0m\u001b[0;34m\u001b[0m\u001b[0;34m\u001b[0m\u001b[0m\n\u001b[1;32m    468\u001b[0m         \u001b[0;32mfor\u001b[0m \u001b[0m_\u001b[0m\u001b[0;34m,\u001b[0m \u001b[0mname\u001b[0m\u001b[0;34m,\u001b[0m \u001b[0mtransform\u001b[0m \u001b[0;32min\u001b[0m \u001b[0mself\u001b[0m\u001b[0;34m.\u001b[0m\u001b[0m_iter\u001b[0m\u001b[0;34m(\u001b[0m\u001b[0mwith_final\u001b[0m\u001b[0;34m=\u001b[0m\u001b[0;32mFalse\u001b[0m\u001b[0;34m)\u001b[0m\u001b[0;34m:\u001b[0m\u001b[0;34m\u001b[0m\u001b[0;34m\u001b[0m\u001b[0m\n\u001b[0;32m--> 469\u001b[0;31m             \u001b[0mXt\u001b[0m \u001b[0;34m=\u001b[0m \u001b[0mtransform\u001b[0m\u001b[0;34m.\u001b[0m\u001b[0mtransform\u001b[0m\u001b[0;34m(\u001b[0m\u001b[0mXt\u001b[0m\u001b[0;34m)\u001b[0m\u001b[0;34m\u001b[0m\u001b[0;34m\u001b[0m\u001b[0m\n\u001b[0m\u001b[1;32m    470\u001b[0m         \u001b[0;32mreturn\u001b[0m \u001b[0mself\u001b[0m\u001b[0;34m.\u001b[0m\u001b[0msteps\u001b[0m\u001b[0;34m[\u001b[0m\u001b[0;34m-\u001b[0m\u001b[0;36m1\u001b[0m\u001b[0;34m]\u001b[0m\u001b[0;34m[\u001b[0m\u001b[0;36m1\u001b[0m\u001b[0;34m]\u001b[0m\u001b[0;34m.\u001b[0m\u001b[0mpredict\u001b[0m\u001b[0;34m(\u001b[0m\u001b[0mXt\u001b[0m\u001b[0;34m,\u001b[0m \u001b[0;34m**\u001b[0m\u001b[0mpredict_params\u001b[0m\u001b[0;34m)\u001b[0m\u001b[0;34m\u001b[0m\u001b[0;34m\u001b[0m\u001b[0m\n\u001b[1;32m    471\u001b[0m \u001b[0;34m\u001b[0m\u001b[0m\n",
            "\u001b[0;32m/usr/local/lib/python3.8/dist-packages/sklearn/compose/_column_transformer.py\u001b[0m in \u001b[0;36mtransform\u001b[0;34m(self, X)\u001b[0m\n\u001b[1;32m    746\u001b[0m             \u001b[0mself\u001b[0m\u001b[0;34m.\u001b[0m\u001b[0m_check_n_features\u001b[0m\u001b[0;34m(\u001b[0m\u001b[0mX\u001b[0m\u001b[0;34m,\u001b[0m \u001b[0mreset\u001b[0m\u001b[0;34m=\u001b[0m\u001b[0;32mFalse\u001b[0m\u001b[0;34m)\u001b[0m\u001b[0;34m\u001b[0m\u001b[0;34m\u001b[0m\u001b[0m\n\u001b[1;32m    747\u001b[0m \u001b[0;34m\u001b[0m\u001b[0m\n\u001b[0;32m--> 748\u001b[0;31m         Xs = self._fit_transform(\n\u001b[0m\u001b[1;32m    749\u001b[0m             \u001b[0mX\u001b[0m\u001b[0;34m,\u001b[0m\u001b[0;34m\u001b[0m\u001b[0;34m\u001b[0m\u001b[0m\n\u001b[1;32m    750\u001b[0m             \u001b[0;32mNone\u001b[0m\u001b[0;34m,\u001b[0m\u001b[0;34m\u001b[0m\u001b[0;34m\u001b[0m\u001b[0m\n",
            "\u001b[0;32m/usr/local/lib/python3.8/dist-packages/sklearn/compose/_column_transformer.py\u001b[0m in \u001b[0;36m_fit_transform\u001b[0;34m(self, X, y, func, fitted, column_as_strings)\u001b[0m\n\u001b[1;32m    604\u001b[0m         )\n\u001b[1;32m    605\u001b[0m         \u001b[0;32mtry\u001b[0m\u001b[0;34m:\u001b[0m\u001b[0;34m\u001b[0m\u001b[0;34m\u001b[0m\u001b[0m\n\u001b[0;32m--> 606\u001b[0;31m             return Parallel(n_jobs=self.n_jobs)(\n\u001b[0m\u001b[1;32m    607\u001b[0m                 delayed(func)(\n\u001b[1;32m    608\u001b[0m                     \u001b[0mtransformer\u001b[0m\u001b[0;34m=\u001b[0m\u001b[0mclone\u001b[0m\u001b[0;34m(\u001b[0m\u001b[0mtrans\u001b[0m\u001b[0;34m)\u001b[0m \u001b[0;32mif\u001b[0m \u001b[0;32mnot\u001b[0m \u001b[0mfitted\u001b[0m \u001b[0;32melse\u001b[0m \u001b[0mtrans\u001b[0m\u001b[0;34m,\u001b[0m\u001b[0;34m\u001b[0m\u001b[0;34m\u001b[0m\u001b[0m\n",
            "\u001b[0;32m/usr/local/lib/python3.8/dist-packages/joblib/parallel.py\u001b[0m in \u001b[0;36m__call__\u001b[0;34m(self, iterable)\u001b[0m\n\u001b[1;32m   1086\u001b[0m                 \u001b[0mself\u001b[0m\u001b[0;34m.\u001b[0m\u001b[0m_iterating\u001b[0m \u001b[0;34m=\u001b[0m \u001b[0mself\u001b[0m\u001b[0;34m.\u001b[0m\u001b[0m_original_iterator\u001b[0m \u001b[0;32mis\u001b[0m \u001b[0;32mnot\u001b[0m \u001b[0;32mNone\u001b[0m\u001b[0;34m\u001b[0m\u001b[0;34m\u001b[0m\u001b[0m\n\u001b[1;32m   1087\u001b[0m \u001b[0;34m\u001b[0m\u001b[0m\n\u001b[0;32m-> 1088\u001b[0;31m             \u001b[0;32mwhile\u001b[0m \u001b[0mself\u001b[0m\u001b[0;34m.\u001b[0m\u001b[0mdispatch_one_batch\u001b[0m\u001b[0;34m(\u001b[0m\u001b[0miterator\u001b[0m\u001b[0;34m)\u001b[0m\u001b[0;34m:\u001b[0m\u001b[0;34m\u001b[0m\u001b[0;34m\u001b[0m\u001b[0m\n\u001b[0m\u001b[1;32m   1089\u001b[0m                 \u001b[0;32mpass\u001b[0m\u001b[0;34m\u001b[0m\u001b[0;34m\u001b[0m\u001b[0m\n\u001b[1;32m   1090\u001b[0m \u001b[0;34m\u001b[0m\u001b[0m\n",
            "\u001b[0;32m/usr/local/lib/python3.8/dist-packages/joblib/parallel.py\u001b[0m in \u001b[0;36mdispatch_one_batch\u001b[0;34m(self, iterator)\u001b[0m\n\u001b[1;32m    899\u001b[0m                 \u001b[0;32mreturn\u001b[0m \u001b[0;32mFalse\u001b[0m\u001b[0;34m\u001b[0m\u001b[0;34m\u001b[0m\u001b[0m\n\u001b[1;32m    900\u001b[0m             \u001b[0;32melse\u001b[0m\u001b[0;34m:\u001b[0m\u001b[0;34m\u001b[0m\u001b[0;34m\u001b[0m\u001b[0m\n\u001b[0;32m--> 901\u001b[0;31m                 \u001b[0mself\u001b[0m\u001b[0;34m.\u001b[0m\u001b[0m_dispatch\u001b[0m\u001b[0;34m(\u001b[0m\u001b[0mtasks\u001b[0m\u001b[0;34m)\u001b[0m\u001b[0;34m\u001b[0m\u001b[0;34m\u001b[0m\u001b[0m\n\u001b[0m\u001b[1;32m    902\u001b[0m                 \u001b[0;32mreturn\u001b[0m \u001b[0;32mTrue\u001b[0m\u001b[0;34m\u001b[0m\u001b[0;34m\u001b[0m\u001b[0m\n\u001b[1;32m    903\u001b[0m \u001b[0;34m\u001b[0m\u001b[0m\n",
            "\u001b[0;32m/usr/local/lib/python3.8/dist-packages/joblib/parallel.py\u001b[0m in \u001b[0;36m_dispatch\u001b[0;34m(self, batch)\u001b[0m\n\u001b[1;32m    817\u001b[0m         \u001b[0;32mwith\u001b[0m \u001b[0mself\u001b[0m\u001b[0;34m.\u001b[0m\u001b[0m_lock\u001b[0m\u001b[0;34m:\u001b[0m\u001b[0;34m\u001b[0m\u001b[0;34m\u001b[0m\u001b[0m\n\u001b[1;32m    818\u001b[0m             \u001b[0mjob_idx\u001b[0m \u001b[0;34m=\u001b[0m \u001b[0mlen\u001b[0m\u001b[0;34m(\u001b[0m\u001b[0mself\u001b[0m\u001b[0;34m.\u001b[0m\u001b[0m_jobs\u001b[0m\u001b[0;34m)\u001b[0m\u001b[0;34m\u001b[0m\u001b[0;34m\u001b[0m\u001b[0m\n\u001b[0;32m--> 819\u001b[0;31m             \u001b[0mjob\u001b[0m \u001b[0;34m=\u001b[0m \u001b[0mself\u001b[0m\u001b[0;34m.\u001b[0m\u001b[0m_backend\u001b[0m\u001b[0;34m.\u001b[0m\u001b[0mapply_async\u001b[0m\u001b[0;34m(\u001b[0m\u001b[0mbatch\u001b[0m\u001b[0;34m,\u001b[0m \u001b[0mcallback\u001b[0m\u001b[0;34m=\u001b[0m\u001b[0mcb\u001b[0m\u001b[0;34m)\u001b[0m\u001b[0;34m\u001b[0m\u001b[0;34m\u001b[0m\u001b[0m\n\u001b[0m\u001b[1;32m    820\u001b[0m             \u001b[0;31m# A job can complete so quickly than its callback is\u001b[0m\u001b[0;34m\u001b[0m\u001b[0;34m\u001b[0m\u001b[0;34m\u001b[0m\u001b[0m\n\u001b[1;32m    821\u001b[0m             \u001b[0;31m# called before we get here, causing self._jobs to\u001b[0m\u001b[0;34m\u001b[0m\u001b[0;34m\u001b[0m\u001b[0;34m\u001b[0m\u001b[0m\n",
            "\u001b[0;32m/usr/local/lib/python3.8/dist-packages/joblib/_parallel_backends.py\u001b[0m in \u001b[0;36mapply_async\u001b[0;34m(self, func, callback)\u001b[0m\n\u001b[1;32m    206\u001b[0m     \u001b[0;32mdef\u001b[0m \u001b[0mapply_async\u001b[0m\u001b[0;34m(\u001b[0m\u001b[0mself\u001b[0m\u001b[0;34m,\u001b[0m \u001b[0mfunc\u001b[0m\u001b[0;34m,\u001b[0m \u001b[0mcallback\u001b[0m\u001b[0;34m=\u001b[0m\u001b[0;32mNone\u001b[0m\u001b[0;34m)\u001b[0m\u001b[0;34m:\u001b[0m\u001b[0;34m\u001b[0m\u001b[0;34m\u001b[0m\u001b[0m\n\u001b[1;32m    207\u001b[0m         \u001b[0;34m\"\"\"Schedule a func to be run\"\"\"\u001b[0m\u001b[0;34m\u001b[0m\u001b[0;34m\u001b[0m\u001b[0m\n\u001b[0;32m--> 208\u001b[0;31m         \u001b[0mresult\u001b[0m \u001b[0;34m=\u001b[0m \u001b[0mImmediateResult\u001b[0m\u001b[0;34m(\u001b[0m\u001b[0mfunc\u001b[0m\u001b[0;34m)\u001b[0m\u001b[0;34m\u001b[0m\u001b[0;34m\u001b[0m\u001b[0m\n\u001b[0m\u001b[1;32m    209\u001b[0m         \u001b[0;32mif\u001b[0m \u001b[0mcallback\u001b[0m\u001b[0;34m:\u001b[0m\u001b[0;34m\u001b[0m\u001b[0;34m\u001b[0m\u001b[0m\n\u001b[1;32m    210\u001b[0m             \u001b[0mcallback\u001b[0m\u001b[0;34m(\u001b[0m\u001b[0mresult\u001b[0m\u001b[0;34m)\u001b[0m\u001b[0;34m\u001b[0m\u001b[0;34m\u001b[0m\u001b[0m\n",
            "\u001b[0;32m/usr/local/lib/python3.8/dist-packages/joblib/_parallel_backends.py\u001b[0m in \u001b[0;36m__init__\u001b[0;34m(self, batch)\u001b[0m\n\u001b[1;32m    595\u001b[0m         \u001b[0;31m# Don't delay the application, to avoid keeping the input\u001b[0m\u001b[0;34m\u001b[0m\u001b[0;34m\u001b[0m\u001b[0;34m\u001b[0m\u001b[0m\n\u001b[1;32m    596\u001b[0m         \u001b[0;31m# arguments in memory\u001b[0m\u001b[0;34m\u001b[0m\u001b[0;34m\u001b[0m\u001b[0;34m\u001b[0m\u001b[0m\n\u001b[0;32m--> 597\u001b[0;31m         \u001b[0mself\u001b[0m\u001b[0;34m.\u001b[0m\u001b[0mresults\u001b[0m \u001b[0;34m=\u001b[0m \u001b[0mbatch\u001b[0m\u001b[0;34m(\u001b[0m\u001b[0;34m)\u001b[0m\u001b[0;34m\u001b[0m\u001b[0;34m\u001b[0m\u001b[0m\n\u001b[0m\u001b[1;32m    598\u001b[0m \u001b[0;34m\u001b[0m\u001b[0m\n\u001b[1;32m    599\u001b[0m     \u001b[0;32mdef\u001b[0m \u001b[0mget\u001b[0m\u001b[0;34m(\u001b[0m\u001b[0mself\u001b[0m\u001b[0;34m)\u001b[0m\u001b[0;34m:\u001b[0m\u001b[0;34m\u001b[0m\u001b[0;34m\u001b[0m\u001b[0m\n",
            "\u001b[0;32m/usr/local/lib/python3.8/dist-packages/joblib/parallel.py\u001b[0m in \u001b[0;36m__call__\u001b[0;34m(self)\u001b[0m\n\u001b[1;32m    286\u001b[0m         \u001b[0;31m# change the default number of processes to -1\u001b[0m\u001b[0;34m\u001b[0m\u001b[0;34m\u001b[0m\u001b[0;34m\u001b[0m\u001b[0m\n\u001b[1;32m    287\u001b[0m         \u001b[0;32mwith\u001b[0m \u001b[0mparallel_backend\u001b[0m\u001b[0;34m(\u001b[0m\u001b[0mself\u001b[0m\u001b[0;34m.\u001b[0m\u001b[0m_backend\u001b[0m\u001b[0;34m,\u001b[0m \u001b[0mn_jobs\u001b[0m\u001b[0;34m=\u001b[0m\u001b[0mself\u001b[0m\u001b[0;34m.\u001b[0m\u001b[0m_n_jobs\u001b[0m\u001b[0;34m)\u001b[0m\u001b[0;34m:\u001b[0m\u001b[0;34m\u001b[0m\u001b[0;34m\u001b[0m\u001b[0m\n\u001b[0;32m--> 288\u001b[0;31m             return [func(*args, **kwargs)\n\u001b[0m\u001b[1;32m    289\u001b[0m                     for func, args, kwargs in self.items]\n\u001b[1;32m    290\u001b[0m \u001b[0;34m\u001b[0m\u001b[0m\n",
            "\u001b[0;32m/usr/local/lib/python3.8/dist-packages/joblib/parallel.py\u001b[0m in \u001b[0;36m<listcomp>\u001b[0;34m(.0)\u001b[0m\n\u001b[1;32m    286\u001b[0m         \u001b[0;31m# change the default number of processes to -1\u001b[0m\u001b[0;34m\u001b[0m\u001b[0;34m\u001b[0m\u001b[0;34m\u001b[0m\u001b[0m\n\u001b[1;32m    287\u001b[0m         \u001b[0;32mwith\u001b[0m \u001b[0mparallel_backend\u001b[0m\u001b[0;34m(\u001b[0m\u001b[0mself\u001b[0m\u001b[0;34m.\u001b[0m\u001b[0m_backend\u001b[0m\u001b[0;34m,\u001b[0m \u001b[0mn_jobs\u001b[0m\u001b[0;34m=\u001b[0m\u001b[0mself\u001b[0m\u001b[0;34m.\u001b[0m\u001b[0m_n_jobs\u001b[0m\u001b[0;34m)\u001b[0m\u001b[0;34m:\u001b[0m\u001b[0;34m\u001b[0m\u001b[0;34m\u001b[0m\u001b[0m\n\u001b[0;32m--> 288\u001b[0;31m             return [func(*args, **kwargs)\n\u001b[0m\u001b[1;32m    289\u001b[0m                     for func, args, kwargs in self.items]\n\u001b[1;32m    290\u001b[0m \u001b[0;34m\u001b[0m\u001b[0m\n",
            "\u001b[0;32m/usr/local/lib/python3.8/dist-packages/sklearn/utils/fixes.py\u001b[0m in \u001b[0;36m__call__\u001b[0;34m(self, *args, **kwargs)\u001b[0m\n\u001b[1;32m    214\u001b[0m     \u001b[0;32mdef\u001b[0m \u001b[0m__call__\u001b[0m\u001b[0;34m(\u001b[0m\u001b[0mself\u001b[0m\u001b[0;34m,\u001b[0m \u001b[0;34m*\u001b[0m\u001b[0margs\u001b[0m\u001b[0;34m,\u001b[0m \u001b[0;34m**\u001b[0m\u001b[0mkwargs\u001b[0m\u001b[0;34m)\u001b[0m\u001b[0;34m:\u001b[0m\u001b[0;34m\u001b[0m\u001b[0;34m\u001b[0m\u001b[0m\n\u001b[1;32m    215\u001b[0m         \u001b[0;32mwith\u001b[0m \u001b[0mconfig_context\u001b[0m\u001b[0;34m(\u001b[0m\u001b[0;34m**\u001b[0m\u001b[0mself\u001b[0m\u001b[0;34m.\u001b[0m\u001b[0mconfig\u001b[0m\u001b[0;34m)\u001b[0m\u001b[0;34m:\u001b[0m\u001b[0;34m\u001b[0m\u001b[0;34m\u001b[0m\u001b[0m\n\u001b[0;32m--> 216\u001b[0;31m             \u001b[0;32mreturn\u001b[0m \u001b[0mself\u001b[0m\u001b[0;34m.\u001b[0m\u001b[0mfunction\u001b[0m\u001b[0;34m(\u001b[0m\u001b[0;34m*\u001b[0m\u001b[0margs\u001b[0m\u001b[0;34m,\u001b[0m \u001b[0;34m**\u001b[0m\u001b[0mkwargs\u001b[0m\u001b[0;34m)\u001b[0m\u001b[0;34m\u001b[0m\u001b[0;34m\u001b[0m\u001b[0m\n\u001b[0m\u001b[1;32m    217\u001b[0m \u001b[0;34m\u001b[0m\u001b[0m\n\u001b[1;32m    218\u001b[0m \u001b[0;34m\u001b[0m\u001b[0m\n",
            "\u001b[0;32m/usr/local/lib/python3.8/dist-packages/sklearn/pipeline.py\u001b[0m in \u001b[0;36m_transform_one\u001b[0;34m(transformer, X, y, weight, **fit_params)\u001b[0m\n\u001b[1;32m    874\u001b[0m \u001b[0;34m\u001b[0m\u001b[0m\n\u001b[1;32m    875\u001b[0m \u001b[0;32mdef\u001b[0m \u001b[0m_transform_one\u001b[0m\u001b[0;34m(\u001b[0m\u001b[0mtransformer\u001b[0m\u001b[0;34m,\u001b[0m \u001b[0mX\u001b[0m\u001b[0;34m,\u001b[0m \u001b[0my\u001b[0m\u001b[0;34m,\u001b[0m \u001b[0mweight\u001b[0m\u001b[0;34m,\u001b[0m \u001b[0;34m**\u001b[0m\u001b[0mfit_params\u001b[0m\u001b[0;34m)\u001b[0m\u001b[0;34m:\u001b[0m\u001b[0;34m\u001b[0m\u001b[0;34m\u001b[0m\u001b[0m\n\u001b[0;32m--> 876\u001b[0;31m     \u001b[0mres\u001b[0m \u001b[0;34m=\u001b[0m \u001b[0mtransformer\u001b[0m\u001b[0;34m.\u001b[0m\u001b[0mtransform\u001b[0m\u001b[0;34m(\u001b[0m\u001b[0mX\u001b[0m\u001b[0;34m)\u001b[0m\u001b[0;34m\u001b[0m\u001b[0;34m\u001b[0m\u001b[0m\n\u001b[0m\u001b[1;32m    877\u001b[0m     \u001b[0;31m# if we have a weight for this transformer, multiply output\u001b[0m\u001b[0;34m\u001b[0m\u001b[0;34m\u001b[0m\u001b[0;34m\u001b[0m\u001b[0m\n\u001b[1;32m    878\u001b[0m     \u001b[0;32mif\u001b[0m \u001b[0mweight\u001b[0m \u001b[0;32mis\u001b[0m \u001b[0;32mNone\u001b[0m\u001b[0;34m:\u001b[0m\u001b[0;34m\u001b[0m\u001b[0;34m\u001b[0m\u001b[0m\n",
            "\u001b[0;32m/usr/local/lib/python3.8/dist-packages/sklearn/preprocessing/_encoders.py\u001b[0m in \u001b[0;36mtransform\u001b[0;34m(self, X)\u001b[0m\n\u001b[1;32m    507\u001b[0m         \u001b[0;31m# validation of X happens in _check_X called by _transform\u001b[0m\u001b[0;34m\u001b[0m\u001b[0;34m\u001b[0m\u001b[0;34m\u001b[0m\u001b[0m\n\u001b[1;32m    508\u001b[0m         \u001b[0mwarn_on_unknown\u001b[0m \u001b[0;34m=\u001b[0m \u001b[0mself\u001b[0m\u001b[0;34m.\u001b[0m\u001b[0mhandle_unknown\u001b[0m \u001b[0;34m==\u001b[0m \u001b[0;34m\"ignore\"\u001b[0m \u001b[0;32mand\u001b[0m \u001b[0mself\u001b[0m\u001b[0;34m.\u001b[0m\u001b[0mdrop\u001b[0m \u001b[0;32mis\u001b[0m \u001b[0;32mnot\u001b[0m \u001b[0;32mNone\u001b[0m\u001b[0;34m\u001b[0m\u001b[0;34m\u001b[0m\u001b[0m\n\u001b[0;32m--> 509\u001b[0;31m         X_int, X_mask = self._transform(\n\u001b[0m\u001b[1;32m    510\u001b[0m             \u001b[0mX\u001b[0m\u001b[0;34m,\u001b[0m\u001b[0;34m\u001b[0m\u001b[0;34m\u001b[0m\u001b[0m\n\u001b[1;32m    511\u001b[0m             \u001b[0mhandle_unknown\u001b[0m\u001b[0;34m=\u001b[0m\u001b[0mself\u001b[0m\u001b[0;34m.\u001b[0m\u001b[0mhandle_unknown\u001b[0m\u001b[0;34m,\u001b[0m\u001b[0;34m\u001b[0m\u001b[0;34m\u001b[0m\u001b[0m\n",
            "\u001b[0;32m/usr/local/lib/python3.8/dist-packages/sklearn/preprocessing/_encoders.py\u001b[0m in \u001b[0;36m_transform\u001b[0;34m(self, X, handle_unknown, force_all_finite, warn_on_unknown)\u001b[0m\n\u001b[1;32m    140\u001b[0m                         \u001b[0;34m\" during transform\"\u001b[0m\u001b[0;34m.\u001b[0m\u001b[0mformat\u001b[0m\u001b[0;34m(\u001b[0m\u001b[0mdiff\u001b[0m\u001b[0;34m,\u001b[0m \u001b[0mi\u001b[0m\u001b[0;34m)\u001b[0m\u001b[0;34m\u001b[0m\u001b[0;34m\u001b[0m\u001b[0m\n\u001b[1;32m    141\u001b[0m                     )\n\u001b[0;32m--> 142\u001b[0;31m                     \u001b[0;32mraise\u001b[0m \u001b[0mValueError\u001b[0m\u001b[0;34m(\u001b[0m\u001b[0mmsg\u001b[0m\u001b[0;34m)\u001b[0m\u001b[0;34m\u001b[0m\u001b[0;34m\u001b[0m\u001b[0m\n\u001b[0m\u001b[1;32m    143\u001b[0m                 \u001b[0;32melse\u001b[0m\u001b[0;34m:\u001b[0m\u001b[0;34m\u001b[0m\u001b[0;34m\u001b[0m\u001b[0m\n\u001b[1;32m    144\u001b[0m                     \u001b[0;32mif\u001b[0m \u001b[0mwarn_on_unknown\u001b[0m\u001b[0;34m:\u001b[0m\u001b[0;34m\u001b[0m\u001b[0;34m\u001b[0m\u001b[0m\n",
            "\u001b[0;31mValueError\u001b[0m: Found unknown categories [27] in column 1 during transform"
          ]
        }
      ]
    },
    {
      "cell_type": "markdown",
      "source": [
        "###Tune KNN with GridSearchCV"
      ],
      "metadata": {
        "id": "nhZZCzUzHP72"
      }
    },
    {
      "cell_type": "code",
      "source": [
        "knn_pipe.get_params()"
      ],
      "metadata": {
        "colab": {
          "base_uri": "https://localhost:8080/"
        },
        "id": "74BB1Ijb6H6y",
        "outputId": "231cc4ad-0b60-4a16-84dc-2882a50bbf09"
      },
      "execution_count": null,
      "outputs": [
        {
          "output_type": "execute_result",
          "data": {
            "text/plain": [
              "{'memory': None,\n",
              " 'steps': [('columntransformer',\n",
              "   ColumnTransformer(transformers=[('standardscaler', StandardScaler(),\n",
              "                                    ['Previous qualification (grade)',\n",
              "                                     'Admission grade',\n",
              "                                     'Curricular units 1st sem (grade)',\n",
              "                                     'Curricular units 2nd sem (grade)',\n",
              "                                     'Unemployment rate', 'Inflation rate',\n",
              "                                     'GDP']),\n",
              "                                   ('onehotencoder', OneHotEncoder(sparse=False),\n",
              "                                    ['Marital status', 'Application mode',\n",
              "                                     'Application order', 'Course',\n",
              "                                     'Daytime/evening atten...\n",
              "                                     'Scholarship holder', 'Age at enrollment',\n",
              "                                     'International',\n",
              "                                     'Curricular units 1st sem (enrolled)',\n",
              "                                     'Curricular units 1st sem (evaluations)',\n",
              "                                     'Curricular units 1st sem (approved)',\n",
              "                                     'Curricular units 1st sem (without '\n",
              "                                     'evaluations)',\n",
              "                                     'Curricular units 2nd sem (enrolled)',\n",
              "                                     'Curricular units 2nd sem (evaluations)',\n",
              "                                     'Curricular units 2nd sem (approved)',\n",
              "                                     'Curricular units 2nd sem (without '\n",
              "                                     'evaluations)'])])),\n",
              "  ('kneighborsclassifier', KNeighborsClassifier())],\n",
              " 'verbose': False,\n",
              " 'columntransformer': ColumnTransformer(transformers=[('standardscaler', StandardScaler(),\n",
              "                                  ['Previous qualification (grade)',\n",
              "                                   'Admission grade',\n",
              "                                   'Curricular units 1st sem (grade)',\n",
              "                                   'Curricular units 2nd sem (grade)',\n",
              "                                   'Unemployment rate', 'Inflation rate',\n",
              "                                   'GDP']),\n",
              "                                 ('onehotencoder', OneHotEncoder(sparse=False),\n",
              "                                  ['Marital status', 'Application mode',\n",
              "                                   'Application order', 'Course',\n",
              "                                   'Daytime/evening atten...\n",
              "                                   'Scholarship holder', 'Age at enrollment',\n",
              "                                   'International',\n",
              "                                   'Curricular units 1st sem (enrolled)',\n",
              "                                   'Curricular units 1st sem (evaluations)',\n",
              "                                   'Curricular units 1st sem (approved)',\n",
              "                                   'Curricular units 1st sem (without '\n",
              "                                   'evaluations)',\n",
              "                                   'Curricular units 2nd sem (enrolled)',\n",
              "                                   'Curricular units 2nd sem (evaluations)',\n",
              "                                   'Curricular units 2nd sem (approved)',\n",
              "                                   'Curricular units 2nd sem (without '\n",
              "                                   'evaluations)'])]),\n",
              " 'kneighborsclassifier': KNeighborsClassifier(),\n",
              " 'columntransformer__n_jobs': None,\n",
              " 'columntransformer__remainder': 'drop',\n",
              " 'columntransformer__sparse_threshold': 0.3,\n",
              " 'columntransformer__transformer_weights': None,\n",
              " 'columntransformer__transformers': [('standardscaler',\n",
              "   StandardScaler(),\n",
              "   ['Previous qualification (grade)',\n",
              "    'Admission grade',\n",
              "    'Curricular units 1st sem (grade)',\n",
              "    'Curricular units 2nd sem (grade)',\n",
              "    'Unemployment rate',\n",
              "    'Inflation rate',\n",
              "    'GDP']),\n",
              "  ('onehotencoder',\n",
              "   OneHotEncoder(sparse=False),\n",
              "   ['Marital status',\n",
              "    'Application mode',\n",
              "    'Application order',\n",
              "    'Course',\n",
              "    'Daytime/evening attendance',\n",
              "    'Previous qualification',\n",
              "    'Nacionality',\n",
              "    \"Mother's qualification\",\n",
              "    \"Father's qualification\",\n",
              "    \"Mother's occupation\",\n",
              "    \"Father's occupation\",\n",
              "    'Displaced',\n",
              "    'Educational special needs',\n",
              "    'Debtor',\n",
              "    'Tuition fees up to date',\n",
              "    'Gender',\n",
              "    'Scholarship holder',\n",
              "    'Age at enrollment',\n",
              "    'International',\n",
              "    'Curricular units 1st sem (enrolled)',\n",
              "    'Curricular units 1st sem (evaluations)',\n",
              "    'Curricular units 1st sem (approved)',\n",
              "    'Curricular units 1st sem (without evaluations)',\n",
              "    'Curricular units 2nd sem (enrolled)',\n",
              "    'Curricular units 2nd sem (evaluations)',\n",
              "    'Curricular units 2nd sem (approved)',\n",
              "    'Curricular units 2nd sem (without evaluations)'])],\n",
              " 'columntransformer__verbose': False,\n",
              " 'columntransformer__verbose_feature_names_out': True,\n",
              " 'columntransformer__standardscaler': StandardScaler(),\n",
              " 'columntransformer__onehotencoder': OneHotEncoder(sparse=False),\n",
              " 'columntransformer__standardscaler__copy': True,\n",
              " 'columntransformer__standardscaler__with_mean': True,\n",
              " 'columntransformer__standardscaler__with_std': True,\n",
              " 'columntransformer__onehotencoder__categories': 'auto',\n",
              " 'columntransformer__onehotencoder__drop': None,\n",
              " 'columntransformer__onehotencoder__dtype': numpy.float64,\n",
              " 'columntransformer__onehotencoder__handle_unknown': 'error',\n",
              " 'columntransformer__onehotencoder__sparse': False,\n",
              " 'kneighborsclassifier__algorithm': 'auto',\n",
              " 'kneighborsclassifier__leaf_size': 30,\n",
              " 'kneighborsclassifier__metric': 'minkowski',\n",
              " 'kneighborsclassifier__metric_params': None,\n",
              " 'kneighborsclassifier__n_jobs': None,\n",
              " 'kneighborsclassifier__n_neighbors': 5,\n",
              " 'kneighborsclassifier__p': 2,\n",
              " 'kneighborsclassifier__weights': 'uniform'}"
            ]
          },
          "metadata": {},
          "execution_count": 72
        }
      ]
    },
    {
      "cell_type": "markdown",
      "source": [
        "knn_grid = {"
      ],
      "metadata": {
        "id": "V2hJWy1V6rYa"
      }
    },
    {
      "cell_type": "code",
      "source": [
        "knn_param_grid = {'kneighborsclassifier__n_neighbors':[1,5,10.20],\n",
        "            'kneighborsclassifier__p': range(1,5,1)}\n",
        "knn_grid = GridSearchCV(knn_pipe, knn_param_grid)\n",
        "knn_grid.fit(X_train,y_train)      "
      ],
      "metadata": {
        "id": "Gz4A0zzuGDDM"
      },
      "execution_count": null,
      "outputs": []
    },
    {
      "cell_type": "markdown",
      "source": [
        "###Evaluate Tuned model"
      ],
      "metadata": {
        "id": "HLSnkgtjHqEF"
      }
    },
    {
      "cell_type": "code",
      "source": [
        "knn_grid_preds = knn_grid.predict(X_test)\n",
        "classification_report(y_test, knn_grid_preds)\n",
        "disp = ConfusionMatrixDisplay.from_predictions(y_test, knn_grid_preds,normalize='true',cmap='Blues');\n",
        "disp.plot()\n",
        "disp.ax_.set_title('K Nearest Neighbors Classifier [GridSearchCV]')"
      ],
      "metadata": {
        "id": "ewbKZnbxHsJG"
      },
      "execution_count": null,
      "outputs": []
    }
  ]
}